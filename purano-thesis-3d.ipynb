{
 "cells": [
  {
   "cell_type": "code",
   "execution_count": 1,
   "id": "0d5b964f",
   "metadata": {
    "execution": {
     "iopub.execute_input": "2023-11-17T05:42:31.871486Z",
     "iopub.status.busy": "2023-11-17T05:42:31.871145Z",
     "iopub.status.idle": "2023-11-17T05:42:46.150015Z",
     "shell.execute_reply": "2023-11-17T05:42:46.148602Z"
    },
    "papermill": {
     "duration": 14.303678,
     "end_time": "2023-11-17T05:42:46.152291",
     "exception": false,
     "start_time": "2023-11-17T05:42:31.848613",
     "status": "completed"
    },
    "tags": []
   },
   "outputs": [
    {
     "name": "stdout",
     "output_type": "stream",
     "text": [
      "Collecting monai\r\n",
      "  Obtaining dependency information for monai from https://files.pythonhosted.org/packages/08/94/e8a7ba00dd0c7ce959648b562043bd22125d65f5e519e566c822f71bc437/monai-1.3.0-202310121228-py3-none-any.whl.metadata\r\n",
      "  Downloading monai-1.3.0-202310121228-py3-none-any.whl.metadata (10 kB)\r\n",
      "Requirement already satisfied: numpy>=1.20 in /opt/conda/lib/python3.10/site-packages (from monai) (1.24.3)\r\n",
      "Requirement already satisfied: torch>=1.9 in /opt/conda/lib/python3.10/site-packages (from monai) (2.0.0)\r\n",
      "Requirement already satisfied: filelock in /opt/conda/lib/python3.10/site-packages (from torch>=1.9->monai) (3.12.2)\r\n",
      "Requirement already satisfied: typing-extensions in /opt/conda/lib/python3.10/site-packages (from torch>=1.9->monai) (4.5.0)\r\n",
      "Requirement already satisfied: sympy in /opt/conda/lib/python3.10/site-packages (from torch>=1.9->monai) (1.12)\r\n",
      "Requirement already satisfied: networkx in /opt/conda/lib/python3.10/site-packages (from torch>=1.9->monai) (3.1)\r\n",
      "Requirement already satisfied: jinja2 in /opt/conda/lib/python3.10/site-packages (from torch>=1.9->monai) (3.1.2)\r\n",
      "Requirement already satisfied: MarkupSafe>=2.0 in /opt/conda/lib/python3.10/site-packages (from jinja2->torch>=1.9->monai) (2.1.3)\r\n",
      "Requirement already satisfied: mpmath>=0.19 in /opt/conda/lib/python3.10/site-packages (from sympy->torch>=1.9->monai) (1.3.0)\r\n",
      "Downloading monai-1.3.0-202310121228-py3-none-any.whl (1.3 MB)\r\n",
      "\u001b[2K   \u001b[90m━━━━━━━━━━━━━━━━━━━━━━━━━━━━━━━━━━━━━━━━\u001b[0m \u001b[32m1.3/1.3 MB\u001b[0m \u001b[31m14.9 MB/s\u001b[0m eta \u001b[36m0:00:00\u001b[0m\r\n",
      "\u001b[?25hInstalling collected packages: monai\r\n",
      "Successfully installed monai-1.3.0\r\n",
      "Note: you may need to restart the kernel to use updated packages.\n"
     ]
    }
   ],
   "source": [
    "pip install monai"
   ]
  },
  {
   "cell_type": "code",
   "execution_count": 2,
   "id": "d7961a3d",
   "metadata": {
    "execution": {
     "iopub.execute_input": "2023-11-17T05:42:46.200352Z",
     "iopub.status.busy": "2023-11-17T05:42:46.200049Z",
     "iopub.status.idle": "2023-11-17T05:43:30.621814Z",
     "shell.execute_reply": "2023-11-17T05:43:30.620869Z"
    },
    "papermill": {
     "duration": 44.448655,
     "end_time": "2023-11-17T05:43:30.624264",
     "exception": false,
     "start_time": "2023-11-17T05:42:46.175609",
     "status": "completed"
    },
    "tags": []
   },
   "outputs": [
    {
     "name": "stderr",
     "output_type": "stream",
     "text": [
      "/opt/conda/lib/python3.10/site-packages/scipy/__init__.py:146: UserWarning: A NumPy version >=1.16.5 and <1.23.0 is required for this version of SciPy (detected version 1.24.3\n",
      "  warnings.warn(f\"A NumPy version >={np_minversion} and <{np_maxversion}\"\n"
     ]
    }
   ],
   "source": [
    "import os\n",
    "from glob import glob\n",
    "import shutil\n",
    "from tqdm import tqdm\n",
    "\n",
    "import numpy as np\n",
    "import nibabel as nib\n",
    "from monai.utils import first\n",
    "import matplotlib.pyplot as plt\n",
    "import torch\n",
    "import os\n",
    "import numpy as np\n",
    "from monai.losses import DiceLoss\n",
    "from tqdm import tqdm\n",
    "from monai.transforms import(\n",
    "    Compose,\n",
    "    #AddChanneld,\n",
    "    LoadImaged,\n",
    "    Resized,\n",
    "    ToTensord,\n",
    "    Spacingd,\n",
    "    Orientationd,\n",
    "    ScaleIntensityRanged,\n",
    "    CropForegroundd,\n",
    ")\n",
    "from monai.data import DataLoader, Dataset, CacheDataset\n",
    "from monai.utils import set_determinism\n",
    "\n",
    "\"\"\"\n",
    "This file is for preporcessing only, it contains all the functions that you need\n",
    "to make your data ready for training.\n",
    "\n",
    "You need to install the required libraries if you do not already have them.\n",
    "\n",
    "pip install os, ...\n",
    "\"\"\"\n",
    "from monai.apps import download_and_extract\n",
    "from monai.config import print_config\n",
    "from monai.metrics import ROCAUCMetric\n",
    "from monai.networks.nets import DenseNet121, EfficientNetBN\n",
    "from monai.transforms import *\n",
    "from monai.data import Dataset, DataLoader\n",
    "from monai.utils import set_determinism\n",
    "import os\n",
    "import glob\n",
    "import cv2\n",
    "import imageio\n",
    "\n",
    "import numpy as np \n",
    "import pandas as pd \n",
    "import nibabel as nib\n",
    "import matplotlib.pyplot as plt\n",
    "\n",
    "from tqdm.notebook import tqdm\n",
    "from ipywidgets import *\n",
    "from PIL import Image\n",
    "from matplotlib.pyplot import figure\n",
    "\n",
    "from fastai.basics import *\n",
    "from fastai.vision.all import *\n",
    "from fastai.data.transforms import *\n",
    "from monai.networks.nets import UNet\n",
    "from monai.networks.layers import Norm\n",
    "from monai.losses import DiceLoss, DiceCELoss\n",
    "\n",
    "import torch\n",
    "#from preporcess import prepare\n",
    "#from utilities import train"
   ]
  },
  {
   "cell_type": "code",
   "execution_count": 3,
   "id": "a9c1bd62",
   "metadata": {
    "execution": {
     "iopub.execute_input": "2023-11-17T05:43:30.668941Z",
     "iopub.status.busy": "2023-11-17T05:43:30.668620Z",
     "iopub.status.idle": "2023-11-17T05:43:30.683435Z",
     "shell.execute_reply": "2023-11-17T05:43:30.682619Z"
    },
    "papermill": {
     "duration": 0.038925,
     "end_time": "2023-11-17T05:43:30.685395",
     "exception": false,
     "start_time": "2023-11-17T05:43:30.646470",
     "status": "completed"
    },
    "tags": []
   },
   "outputs": [],
   "source": [
    "def prepare(in_dir, pixdim=(1.5, 1.5, 1.0), a_min=-200, a_max=200, spatial_size=[128,128,128], cache=False):\n",
    "\n",
    "    \"\"\"\n",
    "    This function is for preprocessing, it contains only the basic transforms, but you can add more operations that you \n",
    "    find in the Monai documentation.\n",
    "    https://monai.io/docs.html\n",
    "    \"\"\"\n",
    "\n",
    "    set_determinism(seed=0)\n",
    "    \n",
    "    #print(os.path.join(in_dir, \"train_image\", \"*.nii\"))\n",
    "    path_train_volumes = sorted(glob.glob(os.path.join(in_dir, \"train_image\", \"*.nii\")))\n",
    "    path_train_segmentation = sorted(glob.glob(os.path.join(in_dir, \"train_mask\", \"*.nii\")))\n",
    "\n",
    "    path_test_volumes = sorted(glob.glob(os.path.join(in_dir, \"test_image\", \"*.nii\")))\n",
    "    path_test_segmentation = sorted(glob.glob(os.path.join(in_dir, \"test_mask\", \"*.nii\")))\n",
    "\n",
    "    train_files = [{\"vol\": image_name, \"seg\": label_name} for image_name, label_name in zip(path_train_volumes, path_train_segmentation)]\n",
    "    test_files = [{\"vol\": image_name, \"seg\": label_name} for image_name, label_name in zip(path_test_volumes, path_test_segmentation)]\n",
    "\n",
    "    train_transforms = Compose(\n",
    "        [\n",
    "            LoadImaged(keys=[\"vol\", \"seg\"]),\n",
    "            #AddChanneld(keys=[\"vol\", \"seg\"]),\n",
    "            Spacingd(keys=[\"vol\", \"seg\"], pixdim=pixdim, mode=(\"bilinear\", \"nearest\")),\n",
    "            Orientationd(keys=[\"vol\", \"seg\"], axcodes=\"RAS\"),\n",
    "            ScaleIntensityRanged(keys=[\"vol\"], a_min=a_min, a_max=a_max, b_min=0.0, b_max=1.0, clip=True), \n",
    "            CropForegroundd(keys=[\"vol\", \"seg\"], source_key=\"vol\"),\n",
    "            Resized(keys=[\"vol\", \"seg\"], spatial_size=spatial_size),   \n",
    "            ToTensord(keys=[\"vol\", \"seg\"]),\n",
    "\n",
    "        ]\n",
    "    )\n",
    "\n",
    "    test_transforms = Compose(\n",
    "        [\n",
    "            LoadImaged(keys=[\"vol\", \"seg\"]),\n",
    "            #AddChanneld(keys=[\"vol\", \"seg\"]),\n",
    "            Spacingd(keys=[\"vol\", \"seg\"], pixdim=pixdim, mode=(\"bilinear\", \"nearest\")),\n",
    "            Orientationd(keys=[\"vol\", \"seg\"], axcodes=\"RAS\"),\n",
    "            ScaleIntensityRanged(keys=[\"vol\"], a_min=a_min, a_max=a_max,b_min=0.0, b_max=1.0, clip=True), \n",
    "            CropForegroundd(keys=['vol', 'seg'], source_key='vol'),\n",
    "            Resized(keys=[\"vol\", \"seg\"], spatial_size=spatial_size),   \n",
    "            ToTensord(keys=[\"vol\", \"seg\"]),\n",
    "\n",
    "            \n",
    "        ]\n",
    "    )\n",
    "\n",
    "    if cache:\n",
    "        train_ds = CacheDataset(data=train_files, transform=train_transforms,cache_rate=1.0)\n",
    "        train_loader = DataLoader(train_ds, batch_size=1)\n",
    "\n",
    "        test_ds = CacheDataset(data=test_files, transform=test_transforms, cache_rate=1.0)\n",
    "        test_loader = DataLoader(test_ds, batch_size=1)\n",
    "\n",
    "        return train_loader, test_loader\n",
    "\n",
    "    else:\n",
    "        train_ds = Dataset(data=train_files, transform=train_transforms)\n",
    "        train_loader = DataLoader(train_ds, batch_size=8)\n",
    "\n",
    "        test_ds = Dataset(data=test_files, transform=test_transforms)\n",
    "        test_loader = DataLoader(test_ds, batch_size=8)\n",
    "\n",
    "        return train_loader, test_loader\n"
   ]
  },
  {
   "cell_type": "code",
   "execution_count": 4,
   "id": "3aecd72d",
   "metadata": {
    "execution": {
     "iopub.execute_input": "2023-11-17T05:43:30.731060Z",
     "iopub.status.busy": "2023-11-17T05:43:30.730782Z",
     "iopub.status.idle": "2023-11-17T05:43:30.746133Z",
     "shell.execute_reply": "2023-11-17T05:43:30.745298Z"
    },
    "papermill": {
     "duration": 0.040931,
     "end_time": "2023-11-17T05:43:30.747928",
     "exception": false,
     "start_time": "2023-11-17T05:43:30.706997",
     "status": "completed"
    },
    "tags": []
   },
   "outputs": [],
   "source": [
    "def prepare(in_dir, pixdim=(1.5, 1.5, 1.0), a_min=-200, a_max=200, spatial_size=[448,448,128], cache=False):\n",
    "\n",
    "    \"\"\"\n",
    "    This function is for preprocessing, it contains only the basic transforms, but you can add more operations that you \n",
    "    find in the Monai documentation.\n",
    "    https://monai.io/docs.html\n",
    "    \"\"\"\n",
    "\n",
    "    set_determinism(seed=0)\n",
    "    \n",
    "    #print(os.path.join(in_dir, \"train_image\", \"*.nii\"))\n",
    "    path_train_volumes = sorted(glob.glob(os.path.join(in_dir, \"train_image\", \"*.nii\")))\n",
    "    path_train_segmentation = sorted(glob.glob(os.path.join(in_dir, \"train_mask\", \"*.nii\")))\n",
    "\n",
    "    path_test_volumes = sorted(glob.glob(os.path.join(in_dir, \"test_image\", \"*.nii\")))\n",
    "    path_test_segmentation = sorted(glob.glob(os.path.join(in_dir, \"test_mask\", \"*.nii\")))\n",
    "\n",
    "    train_files = [{\"vol\": image_name, \"seg\": label_name} for image_name, label_name in zip(path_train_volumes, path_train_segmentation)]\n",
    "    test_files = [{\"vol\": image_name, \"seg\": label_name} for image_name, label_name in zip(path_test_volumes, path_test_segmentation)]\n",
    "\n",
    "    train_transforms = Compose(\n",
    "        [\n",
    "            LoadImaged(keys=[\"vol\", \"seg\"]),\n",
    "            EnsureChannelFirstd(keys=[\"vol\", \"seg\"]),  # Ensure channel first\n",
    "            Spacingd(keys=[\"vol\", \"seg\"], pixdim=pixdim, mode=(\"bilinear\", \"nearest\")),\n",
    "            Orientationd(keys=[\"vol\", \"seg\"], axcodes=\"RAS\"),\n",
    "            ScaleIntensityRanged(keys=[\"vol\"], a_min=a_min, a_max=a_max, b_min=0.0, b_max=1.0, clip=True),\n",
    "            CropForegroundd(keys=[\"vol\", \"seg\"], source_key=\"vol\"),\n",
    "            Resized(keys=[\"vol\", \"seg\"], spatial_size=spatial_size),\n",
    "            \n",
    "            RandCropByPosNegLabeld(\n",
    "                keys=[\"vol\", \"seg\"],\n",
    "                label_key=\"seg\",\n",
    "                spatial_size=(128,128, 32),\n",
    "                num_samples=44,\n",
    "                image_key=\"vol\",\n",
    "                image_threshold=0,\n",
    "            ),\n",
    "            \n",
    "            ToTensord(keys=[\"vol\", \"seg\"]),\n",
    "        ]\n",
    "    )\n",
    "\n",
    "    test_transforms = Compose(\n",
    "        [\n",
    "            LoadImaged(keys=[\"vol\", \"seg\"]),\n",
    "            EnsureChannelFirstd(keys=[\"vol\", \"seg\"]),  # Ensure channel first\n",
    "            Spacingd(keys=[\"vol\", \"seg\"], pixdim=pixdim, mode=(\"bilinear\", \"nearest\")),\n",
    "            Orientationd(keys=[\"vol\", \"seg\"], axcodes=\"RAS\"),\n",
    "            ScaleIntensityRanged(keys=[\"vol\"], a_min=a_min, a_max=a_max, b_min=0.0, b_max=1.0, clip=True),\n",
    "            CropForegroundd(keys=['vol', 'seg'], source_key='vol'),\n",
    "            Resized(keys=[\"vol\", \"seg\"], spatial_size=spatial_size),\n",
    "            ToTensord(keys=[\"vol\", \"seg\"]),\n",
    "        ]\n",
    "    )\n",
    "\n",
    "\n",
    "    if cache:\n",
    "        train_ds = CacheDataset(data=train_files, transform=train_transforms,cache_rate=1.0)\n",
    "        train_loader = DataLoader(train_ds, batch_size=1)\n",
    "\n",
    "        test_ds = CacheDataset(data=test_files, transform=test_transforms, cache_rate=1.0)\n",
    "        test_loader = DataLoader(test_ds, batch_size=1)\n",
    "\n",
    "        return train_loader, test_loader\n",
    "\n",
    "    else:\n",
    "        train_ds = Dataset(data=train_files, transform=train_transforms)\n",
    "        train_loader = DataLoader(train_ds, batch_size=4)\n",
    "\n",
    "        test_ds = Dataset(data=test_files, transform=test_transforms)\n",
    "        test_loader = DataLoader(test_ds, batch_size=2)\n",
    "\n",
    "        return train_loader, test_loader\n"
   ]
  },
  {
   "cell_type": "code",
   "execution_count": null,
   "id": "99fef014",
   "metadata": {
    "papermill": {
     "duration": 0.021261,
     "end_time": "2023-11-17T05:43:30.791375",
     "exception": false,
     "start_time": "2023-11-17T05:43:30.770114",
     "status": "completed"
    },
    "tags": []
   },
   "outputs": [],
   "source": []
  },
  {
   "cell_type": "code",
   "execution_count": 5,
   "id": "2313d890",
   "metadata": {
    "execution": {
     "iopub.execute_input": "2023-11-17T05:43:30.876528Z",
     "iopub.status.busy": "2023-11-17T05:43:30.876205Z",
     "iopub.status.idle": "2023-11-17T05:43:30.886314Z",
     "shell.execute_reply": "2023-11-17T05:43:30.885442Z"
    },
    "papermill": {
     "duration": 0.034946,
     "end_time": "2023-11-17T05:43:30.888187",
     "exception": false,
     "start_time": "2023-11-17T05:43:30.853241",
     "status": "completed"
    },
    "tags": []
   },
   "outputs": [],
   "source": [
    "def show_patient(data, SLICE_NUMBER=1, train=True, test=False):\n",
    "    \"\"\"\n",
    "    This function is to show one patient from your datasets, so that you can si if the it is okay or you need \n",
    "    to change/delete something.\n",
    "    `data`: this parameter should take the patients from the data loader, which means you need to can the function\n",
    "    prepare first and apply the transforms that you want after that pass it to this function so that you visualize \n",
    "    the patient with the transforms that you want.\n",
    "    `SLICE_NUMBER`: this parameter will take the slice number that you want to display/show\n",
    "    `train`: this parameter is to say that you want to display a patient from the training data (by default it is true)\n",
    "    `test`: this parameter is to say that you want to display a patient from the testing patients.\n",
    "    \"\"\"\n",
    "\n",
    "    check_patient_train, check_patient_test = data\n",
    "\n",
    "    view_train_patient = first(check_patient_train)\n",
    "    view_test_patient = first(check_patient_test)\n",
    "    \n",
    "    print(view_train_patient[0][\"vol\"].shape)\n",
    "    \n",
    "    if train:\n",
    "        plt.figure(\"Visualization Train\", (12, 6))\n",
    "        plt.subplot(1, 2, 1)\n",
    "        plt.title(f\"vol {SLICE_NUMBER}\")\n",
    "        plt.imshow(view_train_patient[0][\"vol\"][0, 0, :, :, SLICE_NUMBER], cmap=\"gray\")\n",
    "\n",
    "        plt.subplot(1, 2, 2)\n",
    "        plt.title(f\"seg {SLICE_NUMBER}\")\n",
    "        plt.imshow(view_train_patient[0][\"seg\"][0, 0, :, :, SLICE_NUMBER])\n",
    "        plt.show()\n",
    "    \n",
    "    if test:\n",
    "        plt.figure(\"Visualization Test\", (12, 6))\n",
    "        plt.subplot(1, 2, 1)\n",
    "        plt.title(f\"vol {SLICE_NUMBER}\")\n",
    "        plt.imshow(view_test_patient[0][\"vol\"][0, 0, :, :, SLICE_NUMBER], cmap=\"gray\")\n",
    "\n",
    "        plt.subplot(1, 2, 2)\n",
    "        plt.title(f\"seg {SLICE_NUMBER}\")\n",
    "        plt.imshow(view_test_patient[0][\"seg\"][0, 0, :, :, SLICE_NUMBER])\n",
    "        plt.show()\n"
   ]
  },
  {
   "cell_type": "code",
   "execution_count": 6,
   "id": "d3975488",
   "metadata": {
    "execution": {
     "iopub.execute_input": "2023-11-17T05:43:30.931568Z",
     "iopub.status.busy": "2023-11-17T05:43:30.931262Z",
     "iopub.status.idle": "2023-11-17T05:43:30.963177Z",
     "shell.execute_reply": "2023-11-17T05:43:30.962261Z"
    },
    "papermill": {
     "duration": 0.055822,
     "end_time": "2023-11-17T05:43:30.965195",
     "exception": false,
     "start_time": "2023-11-17T05:43:30.909373",
     "status": "completed"
    },
    "tags": []
   },
   "outputs": [
    {
     "name": "stderr",
     "output_type": "stream",
     "text": [
      "/opt/conda/lib/python3.10/site-packages/monai/utils/deprecate_utils.py:321: FutureWarning: monai.transforms.croppad.dictionary CropForegroundd.__init__:allow_smaller: Current default value of argument `allow_smaller=True` has been deprecated since version 1.2. It will be changed to `allow_smaller=False` in version 1.5.\n",
      "  warn_deprecated(argname, msg, warning_category)\n"
     ]
    }
   ],
   "source": [
    "data_dir = '/kaggle/input/cerebrovascular-segmentation/thesisnewdataset'\n",
    "model_dir = '/kaggle/working/' \n",
    "#data_in = prepare(data_dir, cache=True)\n",
    "data_in = prepare(data_dir)"
   ]
  },
  {
   "cell_type": "code",
   "execution_count": 7,
   "id": "adb4b083",
   "metadata": {
    "execution": {
     "iopub.execute_input": "2023-11-17T05:43:31.015159Z",
     "iopub.status.busy": "2023-11-17T05:43:31.014859Z",
     "iopub.status.idle": "2023-11-17T05:43:56.653324Z",
     "shell.execute_reply": "2023-11-17T05:43:56.652377Z"
    },
    "papermill": {
     "duration": 25.66931,
     "end_time": "2023-11-17T05:43:56.655690",
     "exception": false,
     "start_time": "2023-11-17T05:43:30.986380",
     "status": "completed"
    },
    "tags": []
   },
   "outputs": [
    {
     "name": "stdout",
     "output_type": "stream",
     "text": [
      "torch.Size([4, 1, 128, 128, 32])\n"
     ]
    },
    {
     "data": {
      "image/png": "[encoded data removed]",
      "text/plain": [
       "<Figure size 1200x600 with 2 Axes>"
      ]
     },
     "metadata": {},
     "output_type": "display_data"
    }
   ],
   "source": [
    "show_patient(data_in)"
   ]
  },
  {
   "cell_type": "code",
   "execution_count": null,
   "id": "9fbd8794",
   "metadata": {
    "papermill": {
     "duration": 0.0218,
     "end_time": "2023-11-17T05:43:56.700212",
     "exception": false,
     "start_time": "2023-11-17T05:43:56.678412",
     "status": "completed"
    },
    "tags": []
   },
   "outputs": [],
   "source": []
  },
  {
   "cell_type": "code",
   "execution_count": null,
   "id": "3a4d9342",
   "metadata": {
    "papermill": {
     "duration": 0.021417,
     "end_time": "2023-11-17T05:43:56.743515",
     "exception": false,
     "start_time": "2023-11-17T05:43:56.722098",
     "status": "completed"
    },
    "tags": []
   },
   "outputs": [],
   "source": []
  },
  {
   "cell_type": "code",
   "execution_count": null,
   "id": "eef19a33",
   "metadata": {
    "papermill": {
     "duration": 0.021727,
     "end_time": "2023-11-17T05:43:56.786874",
     "exception": false,
     "start_time": "2023-11-17T05:43:56.765147",
     "status": "completed"
    },
    "tags": []
   },
   "outputs": [],
   "source": []
  },
  {
   "cell_type": "code",
   "execution_count": null,
   "id": "a2c26b94",
   "metadata": {
    "papermill": {
     "duration": 0.021391,
     "end_time": "2023-11-17T05:43:56.829872",
     "exception": false,
     "start_time": "2023-11-17T05:43:56.808481",
     "status": "completed"
    },
    "tags": []
   },
   "outputs": [],
   "source": []
  },
  {
   "cell_type": "code",
   "execution_count": 8,
   "id": "149645ec",
   "metadata": {
    "execution": {
     "iopub.execute_input": "2023-11-17T05:43:56.876113Z",
     "iopub.status.busy": "2023-11-17T05:43:56.875206Z",
     "iopub.status.idle": "2023-11-17T05:44:01.726335Z",
     "shell.execute_reply": "2023-11-17T05:44:01.725512Z"
    },
    "papermill": {
     "duration": 4.877228,
     "end_time": "2023-11-17T05:44:01.728687",
     "exception": false,
     "start_time": "2023-11-17T05:43:56.851459",
     "status": "completed"
    },
    "tags": []
   },
   "outputs": [],
   "source": [
    "from monai.networks.nets import UNet\n",
    "from monai.networks.layers import Norm\n",
    "from monai.losses import DiceLoss, DiceCELoss\n",
    "\n",
    "import torch\n",
    "#from preporcess import prepare\n",
    "#from utilities import train\n",
    "device = torch.device(\"cuda:0\")\n",
    "model = UNet(\n",
    "    3,\n",
    "    in_channels=1,\n",
    "    out_channels=2,\n",
    "    channels=(16, 32, 64, 128, 256, 512), \n",
    "    strides=(2, 2, 2,2,2),\n",
    "    num_res_units=2,\n",
    "    norm=Norm.BATCH,\n",
    ").to(device)"
   ]
  },
  {
   "cell_type": "code",
   "execution_count": 9,
   "id": "bfaf92d5",
   "metadata": {
    "execution": {
     "iopub.execute_input": "2023-11-17T05:44:01.776993Z",
     "iopub.status.busy": "2023-11-17T05:44:01.776635Z",
     "iopub.status.idle": "2023-11-17T05:44:01.781721Z",
     "shell.execute_reply": "2023-11-17T05:44:01.780744Z"
    },
    "papermill": {
     "duration": 0.031712,
     "end_time": "2023-11-17T05:44:01.783736",
     "exception": false,
     "start_time": "2023-11-17T05:44:01.752024",
     "status": "completed"
    },
    "tags": []
   },
   "outputs": [],
   "source": [
    "from monai.utils import first\n",
    "import matplotlib.pyplot as plt\n",
    "import torch\n",
    "import os\n",
    "import numpy as np\n",
    "from monai.losses import DiceLoss\n",
    "from tqdm import tqdm"
   ]
  },
  {
   "cell_type": "code",
   "execution_count": 10,
   "id": "08eaa49c",
   "metadata": {
    "execution": {
     "iopub.execute_input": "2023-11-17T05:44:01.829353Z",
     "iopub.status.busy": "2023-11-17T05:44:01.829080Z",
     "iopub.status.idle": "2023-11-17T05:44:01.836027Z",
     "shell.execute_reply": "2023-11-17T05:44:01.835197Z"
    },
    "papermill": {
     "duration": 0.031834,
     "end_time": "2023-11-17T05:44:01.837877",
     "exception": false,
     "start_time": "2023-11-17T05:44:01.806043",
     "status": "completed"
    },
    "tags": []
   },
   "outputs": [],
   "source": [
    "def dice_metric(predicted, target):\n",
    "    '''\n",
    "    In this function we take `predicted` and `target` (label) to calculate the dice coeficient then we use it \n",
    "    to calculate a metric value for the training and the validation.\n",
    "    '''\n",
    "    dice_value = DiceLoss(to_onehot_y=True, sigmoid=True, squared_pred=True)\n",
    "    value = 1 - dice_value(predicted, target).item()\n",
    "    return value\n",
    "\n",
    "def calculate_weights(val1, val2):\n",
    "    '''\n",
    "    In this function we take the number of the background and the forgroud pixels to return the `weights` \n",
    "    for the cross entropy loss values.\n",
    "    '''\n",
    "    count = np.array([val1, val2])\n",
    "    summ = count.sum()\n",
    "    weights = count/summ\n",
    "    weights = 1/weights\n",
    "    summ = weights.sum()\n",
    "    weights = weights/summ\n",
    "    return torch.tensor(weights, dtype=torch.float32)"
   ]
  },
  {
   "cell_type": "code",
   "execution_count": 11,
   "id": "8c5c3f44",
   "metadata": {
    "execution": {
     "iopub.execute_input": "2023-11-17T05:44:01.886186Z",
     "iopub.status.busy": "2023-11-17T05:44:01.885896Z",
     "iopub.status.idle": "2023-11-17T05:44:01.902639Z",
     "shell.execute_reply": "2023-11-17T05:44:01.901886Z"
    },
    "papermill": {
     "duration": 0.044479,
     "end_time": "2023-11-17T05:44:01.904722",
     "exception": false,
     "start_time": "2023-11-17T05:44:01.860243",
     "status": "completed"
    },
    "tags": []
   },
   "outputs": [],
   "source": [
    "def train(model, data_in, loss, optim, max_epochs, model_dir, test_interval=1 , device=torch.device(\"cuda:0\")):\n",
    "    best_metric = -1\n",
    "    best_metric_epoch = -1\n",
    "    save_loss_train = []\n",
    "    save_loss_test = []\n",
    "    save_metric_train = []\n",
    "    save_metric_test = []\n",
    "    train_loader, test_loader = data_in\n",
    "\n",
    "    for epoch in range(max_epochs):\n",
    "        print(\"-\" * 10)\n",
    "        print(f\"epoch {epoch + 1}/{max_epochs}\")\n",
    "        model.train()\n",
    "        train_epoch_loss = 0\n",
    "        train_step = 0\n",
    "        epoch_metric_train = 0\n",
    "        for batch_data in train_loader:\n",
    "            \n",
    "            train_step += 1\n",
    "            \n",
    "            volume = batch_data[0][\"vol\"]\n",
    "            label = batch_data[0][\"seg\"]\n",
    "            label = label != 0\n",
    "#             print(volume.shape)\n",
    "#             print(label.shape)\n",
    "            \n",
    "            volume, label = (volume.to(device), label.to(device))\n",
    "\n",
    "            optim.zero_grad()\n",
    "            outputs = model(volume)\n",
    "            \n",
    "            train_loss = loss(outputs, label)\n",
    "            \n",
    "            train_loss.backward()\n",
    "            optim.step()\n",
    "\n",
    "            train_epoch_loss += train_loss.item()\n",
    "            print(\n",
    "                f\"{train_step}/{len(train_loader) // 1}, \"\n",
    "                f\"Train_loss: {train_loss.item():.4f}\")\n",
    "\n",
    "            train_metric = dice_metric(outputs, label)\n",
    "            epoch_metric_train += train_metric\n",
    "            print(f'Train_dice: {train_metric:.4f}')\n",
    "\n",
    "        print('-'*20)\n",
    "        \n",
    "        train_epoch_loss /= train_step\n",
    "        print(f'Epoch_loss: {train_epoch_loss:.4f}')\n",
    "        save_loss_train.append(train_epoch_loss)\n",
    "        np.save(os.path.join(model_dir, 'loss_train.npy'), save_loss_train)\n",
    "        \n",
    "        epoch_metric_train /= train_step\n",
    "        print(f'Epoch_metric: {epoch_metric_train:.4f}')\n",
    "\n",
    "        save_metric_train.append(epoch_metric_train)\n",
    "        np.save(os.path.join(model_dir, 'metric_train.npy'), save_metric_train)\n",
    "\n",
    "        if (epoch + 1) % test_interval == 0:\n",
    "\n",
    "            model.eval()\n",
    "            with torch.no_grad():\n",
    "                test_epoch_loss = 0\n",
    "                test_metric = 0\n",
    "                epoch_metric_test = 0\n",
    "                test_step = 0\n",
    "\n",
    "                for test_data in test_loader:\n",
    "\n",
    "                    test_step += 1\n",
    "                    \n",
    "                    test_volume = test_data[\"vol\"]\n",
    "                    test_label = test_data[\"seg\"]\n",
    "                    test_label = test_label != 0\n",
    "                    test_volume, test_label = (test_volume.to(device), test_label.to(device),)\n",
    "#                     print(test_volume.shape)\n",
    "#                     print(test_label.shape)\n",
    "                    test_outputs = model(test_volume)\n",
    "                    \n",
    "                    test_loss = loss(test_outputs, test_label)\n",
    "                    test_epoch_loss += test_loss.item()\n",
    "                    test_metric = dice_metric(test_outputs, test_label)\n",
    "                    epoch_metric_test += test_metric\n",
    "                    \n",
    "                \n",
    "                test_epoch_loss /= test_step\n",
    "                print(f'test_loss_epoch: {test_epoch_loss:.4f}')\n",
    "                save_loss_test.append(test_epoch_loss)\n",
    "                np.save(os.path.join(model_dir, 'loss_test.npy'), save_loss_test)\n",
    "\n",
    "                epoch_metric_test /= test_step\n",
    "                print(f'test_dice_epoch: {epoch_metric_test:.4f}')\n",
    "                save_metric_test.append(epoch_metric_test)\n",
    "                np.save(os.path.join(model_dir, 'metric_test.npy'), save_metric_test)\n",
    "\n",
    "                if epoch_metric_test > best_metric:\n",
    "                    best_metric = epoch_metric_test\n",
    "                    best_metric_epoch = epoch + 1\n",
    "                    torch.save(model.state_dict(), os.path.join(\n",
    "                        model_dir, \"best_metric_model.pth\"))\n",
    "                \n",
    "                print(\n",
    "                    f\"current epoch: {epoch + 1} current mean dice: {test_metric:.4f}\"\n",
    "                    f\"\\nbest mean dice: {best_metric:.4f} \"\n",
    "                    f\"at epoch: {best_metric_epoch}\"\n",
    "                )\n",
    "\n",
    "\n",
    "    print(\n",
    "        f\"train completed, best_metric: {best_metric:.4f} \"\n",
    "        f\"at epoch: {best_metric_epoch}\")\n",
    "\n"
   ]
  },
  {
   "cell_type": "code",
   "execution_count": 12,
   "id": "afb83784",
   "metadata": {
    "execution": {
     "iopub.execute_input": "2023-11-17T05:44:01.953011Z",
     "iopub.status.busy": "2023-11-17T05:44:01.952652Z",
     "iopub.status.idle": "2023-11-17T05:44:01.972493Z",
     "shell.execute_reply": "2023-11-17T05:44:01.971606Z"
    },
    "papermill": {
     "duration": 0.046804,
     "end_time": "2023-11-17T05:44:01.974425",
     "exception": false,
     "start_time": "2023-11-17T05:44:01.927621",
     "status": "completed"
    },
    "tags": []
   },
   "outputs": [],
   "source": [
    "def train(model, data_in, loss, optim, max_epochs, model_dir, test_interval=1 , device=torch.device(\"cuda:0\")):\n",
    "    best_metric = -1\n",
    "    best_metric_epoch = -1\n",
    "    save_loss_train = []\n",
    "    save_loss_test = []\n",
    "    save_metric_train = []\n",
    "    save_metric_test = []\n",
    "    train_loader, test_loader = data_in\n",
    "\n",
    "    for epoch in range(max_epochs):\n",
    "        print(\"-\" * 10)\n",
    "        print(f\"epoch {epoch + 1}/{max_epochs}\")\n",
    "        model.train()\n",
    "        train_epoch_loss = 0\n",
    "        \n",
    "        train_step = 0\n",
    "        epoch_metric_train = 0\n",
    "        for batch_data in train_loader:\n",
    "            \n",
    "            train_step += 1\n",
    "            train_batch_loss = 0\n",
    "            batch_metric_train = 0\n",
    "            for i in range(len(batch_data)):\n",
    "                volume = batch_data[i][\"vol\"]\n",
    "                label = batch_data[i][\"seg\"]\n",
    "                label = label != 0\n",
    "#             print(volume.shape)\n",
    "#             print(label.shape)\n",
    "            \n",
    "                volume, label = (volume.to(device), label.to(device))\n",
    "\n",
    "                optim.zero_grad()\n",
    "                outputs = model(volume)\n",
    "            \n",
    "                train_loss = loss(outputs, label)\n",
    "            \n",
    "                train_loss.backward()\n",
    "                optim.step()\n",
    "\n",
    "                train_batch_loss += train_loss.item()\n",
    "#                 print(\n",
    "#                 f\"{i} / {train_step}/{len(train_loader) // 1}, \"\n",
    "#                 f\"Train_loss: {train_loss.item():.4f}\")\n",
    "\n",
    "                train_metric = dice_metric(outputs, label)\n",
    "                batch_metric_train += train_metric\n",
    "                #print(f'Train_patch_dice: {train_metric:.4f}')\n",
    "            \n",
    "            \n",
    "            train_epoch_loss += train_batch_loss / len(batch_data)\n",
    "            \n",
    "            print(\n",
    "                f\"{train_step}/{len(train_loader) // 1}, \"\n",
    "                f\"Train_loss: {train_batch_loss / len(batch_data):.4f}\")\n",
    "\n",
    "            \n",
    "            epoch_metric_train += batch_metric_train / len(batch_data)\n",
    "            print(f'Train_batch_dice: {batch_metric_train / len(batch_data):.4f}')\n",
    "                \n",
    "                \n",
    "                \n",
    "                \n",
    "                \n",
    "\n",
    "        print('-'*20)\n",
    "        \n",
    "        train_epoch_loss /= train_step\n",
    "        print(f'Total_Epoch_loss: {train_epoch_loss:.4f}')\n",
    "        save_loss_train.append(train_epoch_loss)\n",
    "        np.save(os.path.join(model_dir, 'loss_train.npy'), save_loss_train)\n",
    "        \n",
    "        epoch_metric_train /= train_step\n",
    "        print(f'Total_Epoch_dice_metric: {epoch_metric_train:.4f}')\n",
    "\n",
    "        save_metric_train.append(epoch_metric_train)\n",
    "        np.save(os.path.join(model_dir, 'metric_train.npy'), save_metric_train)\n",
    "\n",
    "        if (epoch + 1) % test_interval == 0:\n",
    "\n",
    "            model.eval()\n",
    "            with torch.no_grad():\n",
    "                test_epoch_loss = 0\n",
    "                test_metric = 0\n",
    "                epoch_metric_test = 0\n",
    "                test_step = 0\n",
    "\n",
    "                for test_data in test_loader:\n",
    "\n",
    "                    test_step += 1\n",
    "                    \n",
    "                    test_volume = test_data[\"vol\"]\n",
    "                    test_label = test_data[\"seg\"]\n",
    "                    test_label = test_label != 0\n",
    "                    test_volume, test_label = (test_volume.to(device), test_label.to(device),)\n",
    "#                     print(test_volume.shape)\n",
    "#                     print(test_label.shape)\n",
    "                    test_outputs = model(test_volume)\n",
    "                    \n",
    "                    test_loss = loss(test_outputs, test_label)\n",
    "                    test_epoch_loss += test_loss.item()\n",
    "                    test_metric = dice_metric(test_outputs, test_label)\n",
    "                    epoch_metric_test += test_metric\n",
    "                    \n",
    "                \n",
    "                test_epoch_loss /= test_step\n",
    "                print(f'test_loss_epoch: {test_epoch_loss:.4f}')\n",
    "                save_loss_test.append(test_epoch_loss)\n",
    "                np.save(os.path.join(model_dir, 'loss_test.npy'), save_loss_test)\n",
    "\n",
    "                epoch_metric_test /= test_step\n",
    "                print(f'test_dice_epoch: {epoch_metric_test:.4f}')\n",
    "                save_metric_test.append(epoch_metric_test)\n",
    "                np.save(os.path.join(model_dir, 'metric_test.npy'), save_metric_test)\n",
    "\n",
    "                if epoch_metric_test > best_metric:\n",
    "                    best_metric = epoch_metric_test\n",
    "                    best_metric_epoch = epoch + 1\n",
    "                    torch.save(model.state_dict(), os.path.join(\n",
    "                        model_dir, \"best_metric_model.pth\"))\n",
    "                \n",
    "                print(\n",
    "                    f\"current epoch: {epoch + 1} current mean dice: {test_metric:.4f}\"\n",
    "                    f\"\\nbest mean dice: {best_metric:.4f} \"\n",
    "                    f\"at epoch: {best_metric_epoch}\"\n",
    "                )\n",
    "\n",
    "\n",
    "    print(\n",
    "        f\"train completed, best_metric: {best_metric:.4f} \"\n",
    "        f\"at epoch: {best_metric_epoch}\")\n",
    "\n"
   ]
  },
  {
   "cell_type": "code",
   "execution_count": 13,
   "id": "0e35d232",
   "metadata": {
    "execution": {
     "iopub.execute_input": "2023-11-17T05:44:02.021201Z",
     "iopub.status.busy": "2023-11-17T05:44:02.020911Z",
     "iopub.status.idle": "2023-11-17T06:25:15.678047Z",
     "shell.execute_reply": "2023-11-17T06:25:15.677032Z"
    },
    "papermill": {
     "duration": 2473.724555,
     "end_time": "2023-11-17T06:25:15.721773",
     "exception": false,
     "start_time": "2023-11-17T05:44:01.997218",
     "status": "completed"
    },
    "tags": []
   },
   "outputs": [
    {
     "name": "stdout",
     "output_type": "stream",
     "text": [
      "----------\n",
      "epoch 1/10\n",
      "1/9, Train_loss: 0.5269\n",
      "Train_batch_dice: 0.4731\n",
      "2/9, Train_loss: 0.5215\n",
      "Train_batch_dice: 0.4785\n",
      "3/9, Train_loss: 0.5203\n",
      "Train_batch_dice: 0.4797\n",
      "4/9, Train_loss: 0.5122\n",
      "Train_batch_dice: 0.4878\n",
      "5/9, Train_loss: 0.5143\n",
      "Train_batch_dice: 0.4857\n",
      "6/9, Train_loss: 0.5124\n",
      "Train_batch_dice: 0.4876\n",
      "7/9, Train_loss: 0.5100\n",
      "Train_batch_dice: 0.4900\n",
      "8/9, Train_loss: 0.5108\n",
      "Train_batch_dice: 0.4892\n",
      "9/9, Train_loss: 0.5070\n",
      "Train_batch_dice: 0.4930\n",
      "--------------------\n",
      "Total_Epoch_loss: 0.5151\n",
      "Total_Epoch_dice_metric: 0.4849\n",
      "test_loss_epoch: 0.5191\n",
      "test_dice_epoch: 0.4809\n",
      "current epoch: 1 current mean dice: 0.4805\n",
      "best mean dice: 0.4809 at epoch: 1\n",
      "----------\n",
      "epoch 2/10\n",
      "1/9, Train_loss: 0.5094\n",
      "Train_batch_dice: 0.4906\n",
      "2/9, Train_loss: 0.5056\n",
      "Train_batch_dice: 0.4944\n",
      "3/9, Train_loss: 0.5052\n",
      "Train_batch_dice: 0.4948\n",
      "4/9, Train_loss: 0.5039\n",
      "Train_batch_dice: 0.4961\n",
      "5/9, Train_loss: 0.4990\n",
      "Train_batch_dice: 0.5010\n",
      "6/9, Train_loss: 0.4997\n",
      "Train_batch_dice: 0.5003\n",
      "7/9, Train_loss: 0.4984\n",
      "Train_batch_dice: 0.5016\n",
      "8/9, Train_loss: 0.5001\n",
      "Train_batch_dice: 0.4999\n",
      "9/9, Train_loss: 0.5014\n",
      "Train_batch_dice: 0.4986\n",
      "--------------------\n",
      "Total_Epoch_loss: 0.5025\n",
      "Total_Epoch_dice_metric: 0.4975\n",
      "test_loss_epoch: 0.5318\n",
      "test_dice_epoch: 0.4682\n",
      "current epoch: 2 current mean dice: 0.4677\n",
      "best mean dice: 0.4809 at epoch: 1\n",
      "----------\n",
      "epoch 3/10\n",
      "1/9, Train_loss: 0.4995\n",
      "Train_batch_dice: 0.5005\n",
      "2/9, Train_loss: 0.4922\n",
      "Train_batch_dice: 0.5078\n",
      "3/9, Train_loss: 0.5002\n",
      "Train_batch_dice: 0.4998\n",
      "4/9, Train_loss: 0.4917\n",
      "Train_batch_dice: 0.5083\n",
      "5/9, Train_loss: 0.4925\n",
      "Train_batch_dice: 0.5075\n",
      "6/9, Train_loss: 0.4945\n",
      "Train_batch_dice: 0.5055\n",
      "7/9, Train_loss: 0.4877\n",
      "Train_batch_dice: 0.5123\n",
      "8/9, Train_loss: 0.4901\n",
      "Train_batch_dice: 0.5099\n",
      "9/9, Train_loss: 0.4932\n",
      "Train_batch_dice: 0.5068\n",
      "--------------------\n",
      "Total_Epoch_loss: 0.4935\n",
      "Total_Epoch_dice_metric: 0.5065\n",
      "test_loss_epoch: 0.5203\n",
      "test_dice_epoch: 0.4797\n",
      "current epoch: 3 current mean dice: 0.4785\n",
      "best mean dice: 0.4809 at epoch: 1\n",
      "----------\n",
      "epoch 4/10\n",
      "1/9, Train_loss: 0.4959\n",
      "Train_batch_dice: 0.5041\n",
      "2/9, Train_loss: 0.4903\n",
      "Train_batch_dice: 0.5097\n",
      "3/9, Train_loss: 0.4893\n",
      "Train_batch_dice: 0.5107\n",
      "4/9, Train_loss: 0.4862\n",
      "Train_batch_dice: 0.5138\n",
      "5/9, Train_loss: 0.4827\n",
      "Train_batch_dice: 0.5173\n",
      "6/9, Train_loss: 0.4841\n",
      "Train_batch_dice: 0.5159\n",
      "7/9, Train_loss: 0.4845\n",
      "Train_batch_dice: 0.5155\n",
      "8/9, Train_loss: 0.4869\n",
      "Train_batch_dice: 0.5131\n",
      "9/9, Train_loss: 0.4777\n",
      "Train_batch_dice: 0.5223\n",
      "--------------------\n",
      "Total_Epoch_loss: 0.4864\n",
      "Total_Epoch_dice_metric: 0.5136\n",
      "test_loss_epoch: 0.5106\n",
      "test_dice_epoch: 0.4894\n",
      "current epoch: 4 current mean dice: 0.4874\n",
      "best mean dice: 0.4894 at epoch: 4\n",
      "----------\n",
      "epoch 5/10\n",
      "1/9, Train_loss: 0.4829\n",
      "Train_batch_dice: 0.5171\n",
      "2/9, Train_loss: 0.4793\n",
      "Train_batch_dice: 0.5207\n",
      "3/9, Train_loss: 0.4803\n",
      "Train_batch_dice: 0.5197\n",
      "4/9, Train_loss: 0.4759\n",
      "Train_batch_dice: 0.5241\n",
      "5/9, Train_loss: 0.4736\n",
      "Train_batch_dice: 0.5264\n",
      "6/9, Train_loss: 0.4722\n",
      "Train_batch_dice: 0.5278\n",
      "7/9, Train_loss: 0.4768\n",
      "Train_batch_dice: 0.5232\n",
      "8/9, Train_loss: 0.4791\n",
      "Train_batch_dice: 0.5209\n",
      "9/9, Train_loss: 0.4816\n",
      "Train_batch_dice: 0.5184\n",
      "--------------------\n",
      "Total_Epoch_loss: 0.4780\n",
      "Total_Epoch_dice_metric: 0.5220\n",
      "test_loss_epoch: 0.5086\n",
      "test_dice_epoch: 0.4914\n",
      "current epoch: 5 current mean dice: 0.4918\n",
      "best mean dice: 0.4914 at epoch: 5\n",
      "----------\n",
      "epoch 6/10\n",
      "1/9, Train_loss: 0.4789\n",
      "Train_batch_dice: 0.5211\n",
      "2/9, Train_loss: 0.4703\n",
      "Train_batch_dice: 0.5297\n",
      "3/9, Train_loss: 0.4788\n",
      "Train_batch_dice: 0.5212\n",
      "4/9, Train_loss: 0.4681\n",
      "Train_batch_dice: 0.5319\n",
      "5/9, Train_loss: 0.4659\n",
      "Train_batch_dice: 0.5341\n",
      "6/9, Train_loss: 0.4642\n",
      "Train_batch_dice: 0.5358\n",
      "7/9, Train_loss: 0.4696\n",
      "Train_batch_dice: 0.5304\n",
      "8/9, Train_loss: 0.4659\n",
      "Train_batch_dice: 0.5341\n",
      "9/9, Train_loss: 0.4720\n",
      "Train_batch_dice: 0.5280\n",
      "--------------------\n",
      "Total_Epoch_loss: 0.4704\n",
      "Total_Epoch_dice_metric: 0.5296\n",
      "test_loss_epoch: 0.5016\n",
      "test_dice_epoch: 0.4984\n",
      "current epoch: 6 current mean dice: 0.4985\n",
      "best mean dice: 0.4984 at epoch: 6\n",
      "----------\n",
      "epoch 7/10\n",
      "1/9, Train_loss: 0.4724\n",
      "Train_batch_dice: 0.5276\n",
      "2/9, Train_loss: 0.4650\n",
      "Train_batch_dice: 0.5350\n",
      "3/9, Train_loss: 0.4678\n",
      "Train_batch_dice: 0.5322\n",
      "4/9, Train_loss: 0.4654\n",
      "Train_batch_dice: 0.5346\n",
      "5/9, Train_loss: 0.4593\n",
      "Train_batch_dice: 0.5407\n",
      "6/9, Train_loss: 0.4617\n",
      "Train_batch_dice: 0.5383\n",
      "7/9, Train_loss: 0.4577\n",
      "Train_batch_dice: 0.5423\n",
      "8/9, Train_loss: 0.4626\n",
      "Train_batch_dice: 0.5374\n",
      "9/9, Train_loss: 0.4620\n",
      "Train_batch_dice: 0.5380\n",
      "--------------------\n",
      "Total_Epoch_loss: 0.4638\n",
      "Total_Epoch_dice_metric: 0.5362\n",
      "test_loss_epoch: 0.5044\n",
      "test_dice_epoch: 0.4956\n",
      "current epoch: 7 current mean dice: 0.4958\n",
      "best mean dice: 0.4984 at epoch: 6\n",
      "----------\n",
      "epoch 8/10\n",
      "1/9, Train_loss: 0.4641\n",
      "Train_batch_dice: 0.5359\n",
      "2/9, Train_loss: 0.4600\n",
      "Train_batch_dice: 0.5400\n",
      "3/9, Train_loss: 0.4653\n",
      "Train_batch_dice: 0.5347\n",
      "4/9, Train_loss: 0.4528\n",
      "Train_batch_dice: 0.5472\n",
      "5/9, Train_loss: 0.4547\n",
      "Train_batch_dice: 0.5453\n",
      "6/9, Train_loss: 0.4506\n",
      "Train_batch_dice: 0.5494\n",
      "7/9, Train_loss: 0.4550\n",
      "Train_batch_dice: 0.5450\n",
      "8/9, Train_loss: 0.4550\n",
      "Train_batch_dice: 0.5450\n",
      "9/9, Train_loss: 0.4643\n",
      "Train_batch_dice: 0.5357\n",
      "--------------------\n",
      "Total_Epoch_loss: 0.4580\n",
      "Total_Epoch_dice_metric: 0.5420\n",
      "test_loss_epoch: 0.5023\n",
      "test_dice_epoch: 0.4977\n",
      "current epoch: 8 current mean dice: 0.4980\n",
      "best mean dice: 0.4984 at epoch: 6\n",
      "----------\n",
      "epoch 9/10\n",
      "1/9, Train_loss: 0.4587\n",
      "Train_batch_dice: 0.5413\n",
      "2/9, Train_loss: 0.4463\n",
      "Train_batch_dice: 0.5537\n",
      "3/9, Train_loss: 0.4556\n",
      "Train_batch_dice: 0.5444\n",
      "4/9, Train_loss: 0.4483\n",
      "Train_batch_dice: 0.5517\n",
      "5/9, Train_loss: 0.4414\n",
      "Train_batch_dice: 0.5586\n",
      "6/9, Train_loss: 0.4405\n",
      "Train_batch_dice: 0.5595\n",
      "7/9, Train_loss: 0.4454\n",
      "Train_batch_dice: 0.5546\n",
      "8/9, Train_loss: 0.4472\n",
      "Train_batch_dice: 0.5528\n",
      "9/9, Train_loss: 0.4578\n",
      "Train_batch_dice: 0.5422\n",
      "--------------------\n",
      "Total_Epoch_loss: 0.4490\n",
      "Total_Epoch_dice_metric: 0.5510\n",
      "test_loss_epoch: 0.4982\n",
      "test_dice_epoch: 0.5018\n",
      "current epoch: 9 current mean dice: 0.5016\n",
      "best mean dice: 0.5018 at epoch: 9\n",
      "----------\n",
      "epoch 10/10\n",
      "1/9, Train_loss: 0.4507\n",
      "Train_batch_dice: 0.5493\n",
      "2/9, Train_loss: 0.4462\n",
      "Train_batch_dice: 0.5538\n",
      "3/9, Train_loss: 0.4484\n",
      "Train_batch_dice: 0.5516\n",
      "4/9, Train_loss: 0.4466\n",
      "Train_batch_dice: 0.5534\n",
      "5/9, Train_loss: 0.4356\n",
      "Train_batch_dice: 0.5644\n",
      "6/9, Train_loss: 0.4361\n",
      "Train_batch_dice: 0.5639\n",
      "7/9, Train_loss: 0.4382\n",
      "Train_batch_dice: 0.5618\n",
      "8/9, Train_loss: 0.4388\n",
      "Train_batch_dice: 0.5612\n",
      "9/9, Train_loss: 0.4505\n",
      "Train_batch_dice: 0.5495\n",
      "--------------------\n",
      "Total_Epoch_loss: 0.4435\n",
      "Total_Epoch_dice_metric: 0.5565\n",
      "test_loss_epoch: 0.4989\n",
      "test_dice_epoch: 0.5011\n",
      "current epoch: 10 current mean dice: 0.5016\n",
      "best mean dice: 0.5018 at epoch: 9\n",
      "train completed, best_metric: 0.5018 at epoch: 9\n"
     ]
    }
   ],
   "source": [
    "#loss_function = DiceCELoss(to_onehot_y=True, sigmoid=True, squared_pred=True, ce_weight=calculate_weights(1792651250,2510860).to(device))\n",
    "loss_function = DiceLoss(to_onehot_y=True, sigmoid=True, squared_pred=True)\n",
    "optimizer = torch.optim.Adam(model.parameters(), 1e-5, weight_decay=1e-5, amsgrad=True)\n",
    "\n",
    "if __name__ == '__main__':\n",
    "    train(model, data_in, loss_function, optimizer, 10, model_dir)"
   ]
  },
  {
   "cell_type": "code",
   "execution_count": 14,
   "id": "57f3aff9",
   "metadata": {
    "execution": {
     "iopub.execute_input": "2023-11-17T06:25:15.785084Z",
     "iopub.status.busy": "2023-11-17T06:25:15.784737Z",
     "iopub.status.idle": "2023-11-17T06:25:15.789149Z",
     "shell.execute_reply": "2023-11-17T06:25:15.788262Z"
    },
    "papermill": {
     "duration": 0.038696,
     "end_time": "2023-11-17T06:25:15.790962",
     "exception": false,
     "start_time": "2023-11-17T06:25:15.752266",
     "status": "completed"
    },
    "tags": []
   },
   "outputs": [],
   "source": [
    "#there is a confusion. i have trained my model with 128,128,32 and test with 448,448,128. may be this is wrong. check this out"
   ]
  },
  {
   "cell_type": "code",
   "execution_count": null,
   "id": "4e87e65f",
   "metadata": {
    "papermill": {
     "duration": 0.030177,
     "end_time": "2023-11-17T06:25:15.851376",
     "exception": false,
     "start_time": "2023-11-17T06:25:15.821199",
     "status": "completed"
    },
    "tags": []
   },
   "outputs": [],
   "source": []
  },
  {
   "cell_type": "code",
   "execution_count": null,
   "id": "bdeb8fe9",
   "metadata": {
    "papermill": {
     "duration": 0.030947,
     "end_time": "2023-11-17T06:25:15.911745",
     "exception": false,
     "start_time": "2023-11-17T06:25:15.880798",
     "status": "completed"
    },
    "tags": []
   },
   "outputs": [],
   "source": []
  },
  {
   "cell_type": "code",
   "execution_count": null,
   "id": "3bdb398d",
   "metadata": {
    "papermill": {
     "duration": 0.029771,
     "end_time": "2023-11-17T06:25:15.971493",
     "exception": false,
     "start_time": "2023-11-17T06:25:15.941722",
     "status": "completed"
    },
    "tags": []
   },
   "outputs": [],
   "source": []
  },
  {
   "cell_type": "code",
   "execution_count": null,
   "id": "ed7ea386",
   "metadata": {
    "papermill": {
     "duration": 0.029069,
     "end_time": "2023-11-17T06:25:16.030166",
     "exception": false,
     "start_time": "2023-11-17T06:25:16.001097",
     "status": "completed"
    },
    "tags": []
   },
   "outputs": [],
   "source": []
  },
  {
   "cell_type": "code",
   "execution_count": null,
   "id": "5e049d7a",
   "metadata": {
    "papermill": {
     "duration": 0.030009,
     "end_time": "2023-11-17T06:25:16.090038",
     "exception": false,
     "start_time": "2023-11-17T06:25:16.060029",
     "status": "completed"
    },
    "tags": []
   },
   "outputs": [],
   "source": []
  },
  {
   "cell_type": "code",
   "execution_count": null,
   "id": "faf0de9c",
   "metadata": {
    "papermill": {
     "duration": 0.030575,
     "end_time": "2023-11-17T06:25:16.150900",
     "exception": false,
     "start_time": "2023-11-17T06:25:16.120325",
     "status": "completed"
    },
    "tags": []
   },
   "outputs": [],
   "source": []
  },
  {
   "cell_type": "code",
   "execution_count": null,
   "id": "5eed05f1",
   "metadata": {
    "papermill": {
     "duration": 0.031015,
     "end_time": "2023-11-17T06:25:16.213309",
     "exception": false,
     "start_time": "2023-11-17T06:25:16.182294",
     "status": "completed"
    },
    "tags": []
   },
   "outputs": [],
   "source": []
  },
  {
   "cell_type": "code",
   "execution_count": null,
   "id": "5db2e91b",
   "metadata": {
    "papermill": {
     "duration": 0.030839,
     "end_time": "2023-11-17T06:25:16.274780",
     "exception": false,
     "start_time": "2023-11-17T06:25:16.243941",
     "status": "completed"
    },
    "tags": []
   },
   "outputs": [],
   "source": []
  },
  {
   "cell_type": "code",
   "execution_count": null,
   "id": "78253db8",
   "metadata": {
    "papermill": {
     "duration": 0.032335,
     "end_time": "2023-11-17T06:25:16.339341",
     "exception": false,
     "start_time": "2023-11-17T06:25:16.307006",
     "status": "completed"
    },
    "tags": []
   },
   "outputs": [],
   "source": []
  },
  {
   "cell_type": "code",
   "execution_count": null,
   "id": "3203efc7",
   "metadata": {
    "papermill": {
     "duration": 0.031568,
     "end_time": "2023-11-17T06:25:16.404207",
     "exception": false,
     "start_time": "2023-11-17T06:25:16.372639",
     "status": "completed"
    },
    "tags": []
   },
   "outputs": [],
   "source": []
  },
  {
   "cell_type": "code",
   "execution_count": null,
   "id": "4835ab4e",
   "metadata": {
    "papermill": {
     "duration": 0.031259,
     "end_time": "2023-11-17T06:25:16.466069",
     "exception": false,
     "start_time": "2023-11-17T06:25:16.434810",
     "status": "completed"
    },
    "tags": []
   },
   "outputs": [],
   "source": []
  },
  {
   "cell_type": "code",
   "execution_count": null,
   "id": "bc1d79f7",
   "metadata": {
    "papermill": {
     "duration": 0.029886,
     "end_time": "2023-11-17T06:25:16.526586",
     "exception": false,
     "start_time": "2023-11-17T06:25:16.496700",
     "status": "completed"
    },
    "tags": []
   },
   "outputs": [],
   "source": []
  },
  {
   "cell_type": "code",
   "execution_count": null,
   "id": "d754198c",
   "metadata": {
    "papermill": {
     "duration": 0.029309,
     "end_time": "2023-11-17T06:25:16.585219",
     "exception": false,
     "start_time": "2023-11-17T06:25:16.555910",
     "status": "completed"
    },
    "tags": []
   },
   "outputs": [],
   "source": []
  },
  {
   "cell_type": "code",
   "execution_count": null,
   "id": "dbd8cc4e",
   "metadata": {
    "papermill": {
     "duration": 0.029232,
     "end_time": "2023-11-17T06:25:16.643869",
     "exception": false,
     "start_time": "2023-11-17T06:25:16.614637",
     "status": "completed"
    },
    "tags": []
   },
   "outputs": [],
   "source": []
  },
  {
   "cell_type": "code",
   "execution_count": null,
   "id": "446e4c25",
   "metadata": {
    "papermill": {
     "duration": 0.029466,
     "end_time": "2023-11-17T06:25:16.702951",
     "exception": false,
     "start_time": "2023-11-17T06:25:16.673485",
     "status": "completed"
    },
    "tags": []
   },
   "outputs": [],
   "source": []
  },
  {
   "cell_type": "code",
   "execution_count": null,
   "id": "aa2a6e4d",
   "metadata": {
    "papermill": {
     "duration": 0.029355,
     "end_time": "2023-11-17T06:25:16.762171",
     "exception": false,
     "start_time": "2023-11-17T06:25:16.732816",
     "status": "completed"
    },
    "tags": []
   },
   "outputs": [],
   "source": []
  },
  {
   "cell_type": "code",
   "execution_count": null,
   "id": "6bdf2121",
   "metadata": {
    "papermill": {
     "duration": 0.029987,
     "end_time": "2023-11-17T06:25:16.822395",
     "exception": false,
     "start_time": "2023-11-17T06:25:16.792408",
     "status": "completed"
    },
    "tags": []
   },
   "outputs": [],
   "source": []
  },
  {
   "cell_type": "code",
   "execution_count": null,
   "id": "58d3b157",
   "metadata": {
    "papermill": {
     "duration": 0.03068,
     "end_time": "2023-11-17T06:25:16.883440",
     "exception": false,
     "start_time": "2023-11-17T06:25:16.852760",
     "status": "completed"
    },
    "tags": []
   },
   "outputs": [],
   "source": []
  },
  {
   "cell_type": "code",
   "execution_count": null,
   "id": "07d26be4",
   "metadata": {
    "papermill": {
     "duration": 0.029521,
     "end_time": "2023-11-17T06:25:16.944472",
     "exception": false,
     "start_time": "2023-11-17T06:25:16.914951",
     "status": "completed"
    },
    "tags": []
   },
   "outputs": [],
   "source": []
  },
  {
   "cell_type": "code",
   "execution_count": null,
   "id": "2ae01953",
   "metadata": {
    "papermill": {
     "duration": 0.029305,
     "end_time": "2023-11-17T06:25:17.003495",
     "exception": false,
     "start_time": "2023-11-17T06:25:16.974190",
     "status": "completed"
    },
    "tags": []
   },
   "outputs": [],
   "source": []
  },
  {
   "cell_type": "code",
   "execution_count": null,
   "id": "b52bb462",
   "metadata": {
    "papermill": {
     "duration": 0.029705,
     "end_time": "2023-11-17T06:25:17.062795",
     "exception": false,
     "start_time": "2023-11-17T06:25:17.033090",
     "status": "completed"
    },
    "tags": []
   },
   "outputs": [],
   "source": []
  },
  {
   "cell_type": "code",
   "execution_count": null,
   "id": "e1158b1d",
   "metadata": {
    "papermill": {
     "duration": 0.029216,
     "end_time": "2023-11-17T06:25:17.121412",
     "exception": false,
     "start_time": "2023-11-17T06:25:17.092196",
     "status": "completed"
    },
    "tags": []
   },
   "outputs": [],
   "source": []
  },
  {
   "cell_type": "code",
   "execution_count": null,
   "id": "ff64d44b",
   "metadata": {
    "papermill": {
     "duration": 0.02912,
     "end_time": "2023-11-17T06:25:17.179876",
     "exception": false,
     "start_time": "2023-11-17T06:25:17.150756",
     "status": "completed"
    },
    "tags": []
   },
   "outputs": [],
   "source": []
  },
  {
   "cell_type": "code",
   "execution_count": null,
   "id": "3600105c",
   "metadata": {
    "papermill": {
     "duration": 0.02912,
     "end_time": "2023-11-17T06:25:17.238151",
     "exception": false,
     "start_time": "2023-11-17T06:25:17.209031",
     "status": "completed"
    },
    "tags": []
   },
   "outputs": [],
   "source": []
  },
  {
   "cell_type": "code",
   "execution_count": null,
   "id": "3060279f",
   "metadata": {
    "papermill": {
     "duration": 0.02919,
     "end_time": "2023-11-17T06:25:17.296711",
     "exception": false,
     "start_time": "2023-11-17T06:25:17.267521",
     "status": "completed"
    },
    "tags": []
   },
   "outputs": [],
   "source": []
  },
  {
   "cell_type": "code",
   "execution_count": null,
   "id": "16f7e853",
   "metadata": {
    "papermill": {
     "duration": 0.029343,
     "end_time": "2023-11-17T06:25:17.355431",
     "exception": false,
     "start_time": "2023-11-17T06:25:17.326088",
     "status": "completed"
    },
    "tags": []
   },
   "outputs": [],
   "source": []
  },
  {
   "cell_type": "code",
   "execution_count": null,
   "id": "ea4f4324",
   "metadata": {
    "papermill": {
     "duration": 0.029363,
     "end_time": "2023-11-17T06:25:17.415435",
     "exception": false,
     "start_time": "2023-11-17T06:25:17.386072",
     "status": "completed"
    },
    "tags": []
   },
   "outputs": [],
   "source": []
  },
  {
   "cell_type": "code",
   "execution_count": null,
   "id": "8927f3f9",
   "metadata": {
    "papermill": {
     "duration": 0.029617,
     "end_time": "2023-11-17T06:25:17.475629",
     "exception": false,
     "start_time": "2023-11-17T06:25:17.446012",
     "status": "completed"
    },
    "tags": []
   },
   "outputs": [],
   "source": []
  },
  {
   "cell_type": "code",
   "execution_count": null,
   "id": "ae446491",
   "metadata": {
    "papermill": {
     "duration": 0.029014,
     "end_time": "2023-11-17T06:25:17.534078",
     "exception": false,
     "start_time": "2023-11-17T06:25:17.505064",
     "status": "completed"
    },
    "tags": []
   },
   "outputs": [],
   "source": []
  },
  {
   "cell_type": "code",
   "execution_count": null,
   "id": "8ecebd11",
   "metadata": {
    "papermill": {
     "duration": 0.028965,
     "end_time": "2023-11-17T06:25:17.592264",
     "exception": false,
     "start_time": "2023-11-17T06:25:17.563299",
     "status": "completed"
    },
    "tags": []
   },
   "outputs": [],
   "source": []
  },
  {
   "cell_type": "code",
   "execution_count": null,
   "id": "024ce243",
   "metadata": {
    "papermill": {
     "duration": 0.029004,
     "end_time": "2023-11-17T06:25:17.650572",
     "exception": false,
     "start_time": "2023-11-17T06:25:17.621568",
     "status": "completed"
    },
    "tags": []
   },
   "outputs": [],
   "source": []
  },
  {
   "cell_type": "code",
   "execution_count": null,
   "id": "d6b69177",
   "metadata": {
    "papermill": {
     "duration": 0.029045,
     "end_time": "2023-11-17T06:25:17.708954",
     "exception": false,
     "start_time": "2023-11-17T06:25:17.679909",
     "status": "completed"
    },
    "tags": []
   },
   "outputs": [],
   "source": []
  },
  {
   "cell_type": "code",
   "execution_count": null,
   "id": "2d828982",
   "metadata": {
    "papermill": {
     "duration": 0.029004,
     "end_time": "2023-11-17T06:25:17.767164",
     "exception": false,
     "start_time": "2023-11-17T06:25:17.738160",
     "status": "completed"
    },
    "tags": []
   },
   "outputs": [],
   "source": []
  },
  {
   "cell_type": "code",
   "execution_count": null,
   "id": "58f24a22",
   "metadata": {
    "papermill": {
     "duration": 0.029151,
     "end_time": "2023-11-17T06:25:17.827019",
     "exception": false,
     "start_time": "2023-11-17T06:25:17.797868",
     "status": "completed"
    },
    "tags": []
   },
   "outputs": [],
   "source": []
  },
  {
   "cell_type": "code",
   "execution_count": null,
   "id": "774dc9fc",
   "metadata": {
    "papermill": {
     "duration": 0.029221,
     "end_time": "2023-11-17T06:25:17.885497",
     "exception": false,
     "start_time": "2023-11-17T06:25:17.856276",
     "status": "completed"
    },
    "tags": []
   },
   "outputs": [],
   "source": []
  },
  {
   "cell_type": "code",
   "execution_count": null,
   "id": "d548fd5f",
   "metadata": {
    "papermill": {
     "duration": 0.03068,
     "end_time": "2023-11-17T06:25:17.946521",
     "exception": false,
     "start_time": "2023-11-17T06:25:17.915841",
     "status": "completed"
    },
    "tags": []
   },
   "outputs": [],
   "source": []
  },
  {
   "cell_type": "code",
   "execution_count": null,
   "id": "6e8eea87",
   "metadata": {
    "papermill": {
     "duration": 0.031056,
     "end_time": "2023-11-17T06:25:18.007942",
     "exception": false,
     "start_time": "2023-11-17T06:25:17.976886",
     "status": "completed"
    },
    "tags": []
   },
   "outputs": [],
   "source": []
  },
  {
   "cell_type": "code",
   "execution_count": null,
   "id": "26e1f60b",
   "metadata": {
    "papermill": {
     "duration": 0.0296,
     "end_time": "2023-11-17T06:25:18.068252",
     "exception": false,
     "start_time": "2023-11-17T06:25:18.038652",
     "status": "completed"
    },
    "tags": []
   },
   "outputs": [],
   "source": []
  },
  {
   "cell_type": "code",
   "execution_count": null,
   "id": "ae73107e",
   "metadata": {
    "papermill": {
     "duration": 0.02919,
     "end_time": "2023-11-17T06:25:18.127063",
     "exception": false,
     "start_time": "2023-11-17T06:25:18.097873",
     "status": "completed"
    },
    "tags": []
   },
   "outputs": [],
   "source": []
  },
  {
   "cell_type": "code",
   "execution_count": null,
   "id": "cc01de50",
   "metadata": {
    "papermill": {
     "duration": 0.029218,
     "end_time": "2023-11-17T06:25:18.186002",
     "exception": false,
     "start_time": "2023-11-17T06:25:18.156784",
     "status": "completed"
    },
    "tags": []
   },
   "outputs": [],
   "source": []
  },
  {
   "cell_type": "code",
   "execution_count": null,
   "id": "ed0c8f6a",
   "metadata": {
    "papermill": {
     "duration": 0.031322,
     "end_time": "2023-11-17T06:25:18.248087",
     "exception": false,
     "start_time": "2023-11-17T06:25:18.216765",
     "status": "completed"
    },
    "tags": []
   },
   "outputs": [],
   "source": []
  },
  {
   "cell_type": "code",
   "execution_count": null,
   "id": "db5fdc29",
   "metadata": {
    "papermill": {
     "duration": 0.030403,
     "end_time": "2023-11-17T06:25:18.309306",
     "exception": false,
     "start_time": "2023-11-17T06:25:18.278903",
     "status": "completed"
    },
    "tags": []
   },
   "outputs": [],
   "source": []
  },
  {
   "cell_type": "code",
   "execution_count": null,
   "id": "a7ab5ffb",
   "metadata": {
    "papermill": {
     "duration": 0.029218,
     "end_time": "2023-11-17T06:25:18.368415",
     "exception": false,
     "start_time": "2023-11-17T06:25:18.339197",
     "status": "completed"
    },
    "tags": []
   },
   "outputs": [],
   "source": []
  },
  {
   "cell_type": "code",
   "execution_count": null,
   "id": "47d889da",
   "metadata": {
    "papermill": {
     "duration": 0.029122,
     "end_time": "2023-11-17T06:25:18.426933",
     "exception": false,
     "start_time": "2023-11-17T06:25:18.397811",
     "status": "completed"
    },
    "tags": []
   },
   "outputs": [],
   "source": []
  },
  {
   "cell_type": "code",
   "execution_count": null,
   "id": "89da5f80",
   "metadata": {
    "papermill": {
     "duration": 0.030205,
     "end_time": "2023-11-17T06:25:18.486974",
     "exception": false,
     "start_time": "2023-11-17T06:25:18.456769",
     "status": "completed"
    },
    "tags": []
   },
   "outputs": [],
   "source": []
  },
  {
   "cell_type": "code",
   "execution_count": null,
   "id": "ca4b2d2d",
   "metadata": {
    "papermill": {
     "duration": 0.029007,
     "end_time": "2023-11-17T06:25:18.546178",
     "exception": false,
     "start_time": "2023-11-17T06:25:18.517171",
     "status": "completed"
    },
    "tags": []
   },
   "outputs": [],
   "source": []
  },
  {
   "cell_type": "code",
   "execution_count": null,
   "id": "b1c61873",
   "metadata": {
    "papermill": {
     "duration": 0.030556,
     "end_time": "2023-11-17T06:25:18.606289",
     "exception": false,
     "start_time": "2023-11-17T06:25:18.575733",
     "status": "completed"
    },
    "tags": []
   },
   "outputs": [],
   "source": []
  },
  {
   "cell_type": "code",
   "execution_count": null,
   "id": "bc665070",
   "metadata": {
    "papermill": {
     "duration": 0.030501,
     "end_time": "2023-11-17T06:25:18.666506",
     "exception": false,
     "start_time": "2023-11-17T06:25:18.636005",
     "status": "completed"
    },
    "tags": []
   },
   "outputs": [],
   "source": []
  },
  {
   "cell_type": "code",
   "execution_count": null,
   "id": "7a342cd1",
   "metadata": {
    "papermill": {
     "duration": 0.030582,
     "end_time": "2023-11-17T06:25:18.727600",
     "exception": false,
     "start_time": "2023-11-17T06:25:18.697018",
     "status": "completed"
    },
    "tags": []
   },
   "outputs": [],
   "source": []
  },
  {
   "cell_type": "code",
   "execution_count": null,
   "id": "f17ab5ef",
   "metadata": {
    "papermill": {
     "duration": 0.031559,
     "end_time": "2023-11-17T06:25:18.790075",
     "exception": false,
     "start_time": "2023-11-17T06:25:18.758516",
     "status": "completed"
    },
    "tags": []
   },
   "outputs": [],
   "source": []
  },
  {
   "cell_type": "code",
   "execution_count": null,
   "id": "2578f054",
   "metadata": {
    "papermill": {
     "duration": 0.030281,
     "end_time": "2023-11-17T06:25:18.851308",
     "exception": false,
     "start_time": "2023-11-17T06:25:18.821027",
     "status": "completed"
    },
    "tags": []
   },
   "outputs": [],
   "source": []
  },
  {
   "cell_type": "code",
   "execution_count": null,
   "id": "c72eec88",
   "metadata": {
    "papermill": {
     "duration": 0.031257,
     "end_time": "2023-11-17T06:25:18.912895",
     "exception": false,
     "start_time": "2023-11-17T06:25:18.881638",
     "status": "completed"
    },
    "tags": []
   },
   "outputs": [],
   "source": []
  },
  {
   "cell_type": "code",
   "execution_count": null,
   "id": "5f121d97",
   "metadata": {
    "papermill": {
     "duration": 0.031961,
     "end_time": "2023-11-17T06:25:18.976193",
     "exception": false,
     "start_time": "2023-11-17T06:25:18.944232",
     "status": "completed"
    },
    "tags": []
   },
   "outputs": [],
   "source": []
  },
  {
   "cell_type": "code",
   "execution_count": null,
   "id": "b327c135",
   "metadata": {
    "papermill": {
     "duration": 0.030316,
     "end_time": "2023-11-17T06:25:19.037844",
     "exception": false,
     "start_time": "2023-11-17T06:25:19.007528",
     "status": "completed"
    },
    "tags": []
   },
   "outputs": [],
   "source": []
  },
  {
   "cell_type": "code",
   "execution_count": null,
   "id": "cb320a65",
   "metadata": {
    "papermill": {
     "duration": 0.030291,
     "end_time": "2023-11-17T06:25:19.098626",
     "exception": false,
     "start_time": "2023-11-17T06:25:19.068335",
     "status": "completed"
    },
    "tags": []
   },
   "outputs": [],
   "source": []
  },
  {
   "cell_type": "code",
   "execution_count": null,
   "id": "133ae781",
   "metadata": {
    "papermill": {
     "duration": 0.030822,
     "end_time": "2023-11-17T06:25:19.159823",
     "exception": false,
     "start_time": "2023-11-17T06:25:19.129001",
     "status": "completed"
    },
    "tags": []
   },
   "outputs": [],
   "source": []
  },
  {
   "cell_type": "code",
   "execution_count": null,
   "id": "36648be3",
   "metadata": {
    "papermill": {
     "duration": 0.031376,
     "end_time": "2023-11-17T06:25:19.222762",
     "exception": false,
     "start_time": "2023-11-17T06:25:19.191386",
     "status": "completed"
    },
    "tags": []
   },
   "outputs": [],
   "source": []
  },
  {
   "cell_type": "code",
   "execution_count": null,
   "id": "756e53e5",
   "metadata": {
    "papermill": {
     "duration": 0.029524,
     "end_time": "2023-11-17T06:25:19.282435",
     "exception": false,
     "start_time": "2023-11-17T06:25:19.252911",
     "status": "completed"
    },
    "tags": []
   },
   "outputs": [],
   "source": []
  },
  {
   "cell_type": "code",
   "execution_count": null,
   "id": "64233f6d",
   "metadata": {
    "papermill": {
     "duration": 0.029276,
     "end_time": "2023-11-17T06:25:19.341474",
     "exception": false,
     "start_time": "2023-11-17T06:25:19.312198",
     "status": "completed"
    },
    "tags": []
   },
   "outputs": [],
   "source": []
  },
  {
   "cell_type": "code",
   "execution_count": null,
   "id": "d43afd55",
   "metadata": {
    "papermill": {
     "duration": 0.029086,
     "end_time": "2023-11-17T06:25:19.400193",
     "exception": false,
     "start_time": "2023-11-17T06:25:19.371107",
     "status": "completed"
    },
    "tags": []
   },
   "outputs": [],
   "source": []
  },
  {
   "cell_type": "code",
   "execution_count": null,
   "id": "89ca7be6",
   "metadata": {
    "papermill": {
     "duration": 0.029137,
     "end_time": "2023-11-17T06:25:19.458653",
     "exception": false,
     "start_time": "2023-11-17T06:25:19.429516",
     "status": "completed"
    },
    "tags": []
   },
   "outputs": [],
   "source": []
  },
  {
   "cell_type": "code",
   "execution_count": null,
   "id": "3a11c72f",
   "metadata": {
    "papermill": {
     "duration": 0.029132,
     "end_time": "2023-11-17T06:25:19.517506",
     "exception": false,
     "start_time": "2023-11-17T06:25:19.488374",
     "status": "completed"
    },
    "tags": []
   },
   "outputs": [],
   "source": []
  },
  {
   "cell_type": "code",
   "execution_count": null,
   "id": "2d233a27",
   "metadata": {
    "papermill": {
     "duration": 0.029527,
     "end_time": "2023-11-17T06:25:19.577353",
     "exception": false,
     "start_time": "2023-11-17T06:25:19.547826",
     "status": "completed"
    },
    "tags": []
   },
   "outputs": [],
   "source": []
  },
  {
   "cell_type": "code",
   "execution_count": null,
   "id": "548c1e0d",
   "metadata": {
    "papermill": {
     "duration": 0.029033,
     "end_time": "2023-11-17T06:25:19.636070",
     "exception": false,
     "start_time": "2023-11-17T06:25:19.607037",
     "status": "completed"
    },
    "tags": []
   },
   "outputs": [],
   "source": []
  },
  {
   "cell_type": "code",
   "execution_count": null,
   "id": "0e4c5257",
   "metadata": {
    "papermill": {
     "duration": 0.029153,
     "end_time": "2023-11-17T06:25:19.695027",
     "exception": false,
     "start_time": "2023-11-17T06:25:19.665874",
     "status": "completed"
    },
    "tags": []
   },
   "outputs": [],
   "source": []
  },
  {
   "cell_type": "code",
   "execution_count": null,
   "id": "71056e47",
   "metadata": {
    "papermill": {
     "duration": 0.029016,
     "end_time": "2023-11-17T06:25:19.753323",
     "exception": false,
     "start_time": "2023-11-17T06:25:19.724307",
     "status": "completed"
    },
    "tags": []
   },
   "outputs": [],
   "source": []
  },
  {
   "cell_type": "code",
   "execution_count": null,
   "id": "858ee3df",
   "metadata": {
    "papermill": {
     "duration": 0.029292,
     "end_time": "2023-11-17T06:25:19.812729",
     "exception": false,
     "start_time": "2023-11-17T06:25:19.783437",
     "status": "completed"
    },
    "tags": []
   },
   "outputs": [],
   "source": []
  },
  {
   "cell_type": "code",
   "execution_count": null,
   "id": "1b19b6da",
   "metadata": {
    "papermill": {
     "duration": 0.0292,
     "end_time": "2023-11-17T06:25:19.871421",
     "exception": false,
     "start_time": "2023-11-17T06:25:19.842221",
     "status": "completed"
    },
    "tags": []
   },
   "outputs": [],
   "source": []
  },
  {
   "cell_type": "code",
   "execution_count": null,
   "id": "331799bc",
   "metadata": {
    "papermill": {
     "duration": 0.030239,
     "end_time": "2023-11-17T06:25:19.930925",
     "exception": false,
     "start_time": "2023-11-17T06:25:19.900686",
     "status": "completed"
    },
    "tags": []
   },
   "outputs": [],
   "source": []
  },
  {
   "cell_type": "code",
   "execution_count": null,
   "id": "1cbd3b1d",
   "metadata": {
    "papermill": {
     "duration": 0.029573,
     "end_time": "2023-11-17T06:25:19.990086",
     "exception": false,
     "start_time": "2023-11-17T06:25:19.960513",
     "status": "completed"
    },
    "tags": []
   },
   "outputs": [],
   "source": []
  },
  {
   "cell_type": "code",
   "execution_count": null,
   "id": "639bf2cc",
   "metadata": {
    "papermill": {
     "duration": 0.029254,
     "end_time": "2023-11-17T06:25:20.048908",
     "exception": false,
     "start_time": "2023-11-17T06:25:20.019654",
     "status": "completed"
    },
    "tags": []
   },
   "outputs": [],
   "source": []
  },
  {
   "cell_type": "code",
   "execution_count": null,
   "id": "ebcf56c7",
   "metadata": {
    "papermill": {
     "duration": 0.029591,
     "end_time": "2023-11-17T06:25:20.108777",
     "exception": false,
     "start_time": "2023-11-17T06:25:20.079186",
     "status": "completed"
    },
    "tags": []
   },
   "outputs": [],
   "source": []
  },
  {
   "cell_type": "code",
   "execution_count": null,
   "id": "d0e5d55e",
   "metadata": {
    "papermill": {
     "duration": 0.0297,
     "end_time": "2023-11-17T06:25:20.168035",
     "exception": false,
     "start_time": "2023-11-17T06:25:20.138335",
     "status": "completed"
    },
    "tags": []
   },
   "outputs": [],
   "source": []
  },
  {
   "cell_type": "code",
   "execution_count": null,
   "id": "f64e7b3d",
   "metadata": {
    "papermill": {
     "duration": 0.029108,
     "end_time": "2023-11-17T06:25:20.226455",
     "exception": false,
     "start_time": "2023-11-17T06:25:20.197347",
     "status": "completed"
    },
    "tags": []
   },
   "outputs": [],
   "source": []
  },
  {
   "cell_type": "code",
   "execution_count": null,
   "id": "1dae4a8b",
   "metadata": {
    "papermill": {
     "duration": 0.029548,
     "end_time": "2023-11-17T06:25:20.285493",
     "exception": false,
     "start_time": "2023-11-17T06:25:20.255945",
     "status": "completed"
    },
    "tags": []
   },
   "outputs": [],
   "source": []
  },
  {
   "cell_type": "code",
   "execution_count": null,
   "id": "692a84ad",
   "metadata": {
    "papermill": {
     "duration": 0.029582,
     "end_time": "2023-11-17T06:25:20.345077",
     "exception": false,
     "start_time": "2023-11-17T06:25:20.315495",
     "status": "completed"
    },
    "tags": []
   },
   "outputs": [],
   "source": []
  },
  {
   "cell_type": "code",
   "execution_count": null,
   "id": "3d76c3fa",
   "metadata": {
    "papermill": {
     "duration": 0.029091,
     "end_time": "2023-11-17T06:25:20.403466",
     "exception": false,
     "start_time": "2023-11-17T06:25:20.374375",
     "status": "completed"
    },
    "tags": []
   },
   "outputs": [],
   "source": []
  },
  {
   "cell_type": "code",
   "execution_count": null,
   "id": "d6251e76",
   "metadata": {
    "papermill": {
     "duration": 0.029695,
     "end_time": "2023-11-17T06:25:20.462469",
     "exception": false,
     "start_time": "2023-11-17T06:25:20.432774",
     "status": "completed"
    },
    "tags": []
   },
   "outputs": [],
   "source": []
  },
  {
   "cell_type": "code",
   "execution_count": null,
   "id": "00fe625a",
   "metadata": {
    "papermill": {
     "duration": 0.029526,
     "end_time": "2023-11-17T06:25:20.521453",
     "exception": false,
     "start_time": "2023-11-17T06:25:20.491927",
     "status": "completed"
    },
    "tags": []
   },
   "outputs": [],
   "source": []
  },
  {
   "cell_type": "code",
   "execution_count": null,
   "id": "6d46b002",
   "metadata": {
    "papermill": {
     "duration": 0.029127,
     "end_time": "2023-11-17T06:25:20.579778",
     "exception": false,
     "start_time": "2023-11-17T06:25:20.550651",
     "status": "completed"
    },
    "tags": []
   },
   "outputs": [],
   "source": []
  },
  {
   "cell_type": "code",
   "execution_count": null,
   "id": "73cca15a",
   "metadata": {
    "papermill": {
     "duration": 0.031363,
     "end_time": "2023-11-17T06:25:20.640677",
     "exception": false,
     "start_time": "2023-11-17T06:25:20.609314",
     "status": "completed"
    },
    "tags": []
   },
   "outputs": [],
   "source": []
  },
  {
   "cell_type": "code",
   "execution_count": null,
   "id": "d6634631",
   "metadata": {
    "papermill": {
     "duration": 0.034719,
     "end_time": "2023-11-17T06:25:20.711804",
     "exception": false,
     "start_time": "2023-11-17T06:25:20.677085",
     "status": "completed"
    },
    "tags": []
   },
   "outputs": [],
   "source": []
  },
  {
   "cell_type": "code",
   "execution_count": null,
   "id": "8495296c",
   "metadata": {
    "papermill": {
     "duration": 0.031447,
     "end_time": "2023-11-17T06:25:20.775961",
     "exception": false,
     "start_time": "2023-11-17T06:25:20.744514",
     "status": "completed"
    },
    "tags": []
   },
   "outputs": [],
   "source": []
  },
  {
   "cell_type": "code",
   "execution_count": null,
   "id": "33664f98",
   "metadata": {
    "papermill": {
     "duration": 0.029093,
     "end_time": "2023-11-17T06:25:20.834586",
     "exception": false,
     "start_time": "2023-11-17T06:25:20.805493",
     "status": "completed"
    },
    "tags": []
   },
   "outputs": [],
   "source": []
  },
  {
   "cell_type": "code",
   "execution_count": null,
   "id": "94ceb52f",
   "metadata": {
    "papermill": {
     "duration": 0.031027,
     "end_time": "2023-11-17T06:25:20.896387",
     "exception": false,
     "start_time": "2023-11-17T06:25:20.865360",
     "status": "completed"
    },
    "tags": []
   },
   "outputs": [],
   "source": []
  },
  {
   "cell_type": "code",
   "execution_count": null,
   "id": "900c3731",
   "metadata": {
    "papermill": {
     "duration": 0.029099,
     "end_time": "2023-11-17T06:25:20.956000",
     "exception": false,
     "start_time": "2023-11-17T06:25:20.926901",
     "status": "completed"
    },
    "tags": []
   },
   "outputs": [],
   "source": []
  },
  {
   "cell_type": "code",
   "execution_count": null,
   "id": "32f60210",
   "metadata": {
    "papermill": {
     "duration": 0.029107,
     "end_time": "2023-11-17T06:25:21.014401",
     "exception": false,
     "start_time": "2023-11-17T06:25:20.985294",
     "status": "completed"
    },
    "tags": []
   },
   "outputs": [],
   "source": []
  },
  {
   "cell_type": "code",
   "execution_count": null,
   "id": "75b01ab0",
   "metadata": {
    "papermill": {
     "duration": 0.029007,
     "end_time": "2023-11-17T06:25:21.072811",
     "exception": false,
     "start_time": "2023-11-17T06:25:21.043804",
     "status": "completed"
    },
    "tags": []
   },
   "outputs": [],
   "source": []
  },
  {
   "cell_type": "code",
   "execution_count": null,
   "id": "81261e24",
   "metadata": {
    "papermill": {
     "duration": 0.029152,
     "end_time": "2023-11-17T06:25:21.131836",
     "exception": false,
     "start_time": "2023-11-17T06:25:21.102684",
     "status": "completed"
    },
    "tags": []
   },
   "outputs": [],
   "source": []
  }
 ],
 "metadata": {
  "kaggle": {
   "accelerator": "nvidiaTeslaT4",
   "dataSources": [
    {
     "datasetId": 3646447,
     "sourceId": 6854680,
     "sourceType": "datasetVersion"
    }
   ],
   "dockerImageVersionId": 30580,
   "isGpuEnabled": true,
   "isInternetEnabled": true,
   "language": "python",
   "sourceType": "notebook"
  },
  "kernelspec": {
   "display_name": "Python 3",
   "language": "python",
   "name": "python3"
  },
  "language_info": {
   "codemirror_mode": {
    "name": "ipython",
    "version": 3
   },
   "file_extension": ".py",
   "mimetype": "text/x-python",
   "name": "python",
   "nbconvert_exporter": "python",
   "pygments_lexer": "ipython3",
   "version": "3.10.12"
  },
  "papermill": {
   "default_parameters": {},
   "duration": 2575.617068,
   "end_time": "2023-11-17T06:25:24.097073",
   "environment_variables": {},
   "exception": null,
   "input_path": "__notebook__.ipynb",
   "output_path": "__notebook__.ipynb",
   "parameters": {},
   "start_time": "2023-11-17T05:42:28.480005",
   "version": "2.4.0"
  }
 },
 "nbformat": 4,
 "nbformat_minor": 5
}
