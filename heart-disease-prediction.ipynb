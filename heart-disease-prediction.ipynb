{
 "cells": [
  {
   "cell_type": "code",
   "execution_count": 1,
   "id": "56d4acd4",
   "metadata": {
    "_cell_guid": "b1076dfc-b9ad-4769-8c92-a6c4dae69d19",
    "_uuid": "8f2839f25d086af736a60e9eeb907d3b93b6e0e5",
    "execution": {
     "iopub.execute_input": "2023-02-04T15:58:16.762539Z",
     "iopub.status.busy": "2023-02-04T15:58:16.761553Z",
     "iopub.status.idle": "2023-02-04T15:58:16.780366Z",
     "shell.execute_reply": "2023-02-04T15:58:16.779194Z"
    },
    "papermill": {
     "duration": 0.050625,
     "end_time": "2023-02-04T15:58:16.783801",
     "exception": false,
     "start_time": "2023-02-04T15:58:16.733176",
     "status": "completed"
    },
    "tags": []
   },
   "outputs": [
    {
     "name": "stdout",
     "output_type": "stream",
     "text": [
      "/kaggle/input/heart-failure-clinical-data/heart_failure_clinical_records_dataset.csv\n"
     ]
    }
   ],
   "source": [
    "# This Python 3 environment comes with many helpful analytics libraries installed\n",
    "# It is defined by the kaggle/python Docker image: https://github.com/kaggle/docker-python\n",
    "# For example, here's several helpful packages to load\n",
    "\n",
    "import numpy as np # linear algebra\n",
    "import pandas as pd # data processing, CSV file I/O (e.g. pd.read_csv)\n",
    "\n",
    "# Input data files are available in the read-only \"../input/\" directory\n",
    "# For example, running this (by clicking run or pressing Shift+Enter) will list all files under the input directory\n",
    "\n",
    "import os\n",
    "for dirname, _, filenames in os.walk('/kaggle/input'):\n",
    "    for filename in filenames:\n",
    "        print(os.path.join(dirname, filename))\n",
    "\n",
    "# You can write up to 20GB to the current directory (/kaggle/working/) that gets preserved as output when you create a version using \"Save & Run All\" \n",
    "# You can also write temporary files to /kaggle/temp/, but they won't be saved outside of the current session"
   ]
  },
  {
   "cell_type": "code",
   "execution_count": 2,
   "id": "242bfeb2",
   "metadata": {
    "execution": {
     "iopub.execute_input": "2023-02-04T15:58:16.831160Z",
     "iopub.status.busy": "2023-02-04T15:58:16.830762Z",
     "iopub.status.idle": "2023-02-04T15:58:16.849165Z",
     "shell.execute_reply": "2023-02-04T15:58:16.848123Z"
    },
    "papermill": {
     "duration": 0.04459,
     "end_time": "2023-02-04T15:58:16.851761",
     "exception": false,
     "start_time": "2023-02-04T15:58:16.807171",
     "status": "completed"
    },
    "tags": []
   },
   "outputs": [],
   "source": [
    "df = pd.read_csv('/kaggle/input/heart-failure-clinical-data/heart_failure_clinical_records_dataset.csv')"
   ]
  },
  {
   "cell_type": "code",
   "execution_count": null,
   "id": "a0ddf7d6",
   "metadata": {
    "papermill": {
     "duration": 0.021985,
     "end_time": "2023-02-04T15:58:16.896358",
     "exception": false,
     "start_time": "2023-02-04T15:58:16.874373",
     "status": "completed"
    },
    "tags": []
   },
   "outputs": [],
   "source": []
  },
  {
   "cell_type": "code",
   "execution_count": 3,
   "id": "bb9a04df",
   "metadata": {
    "execution": {
     "iopub.execute_input": "2023-02-04T15:58:16.942950Z",
     "iopub.status.busy": "2023-02-04T15:58:16.942509Z",
     "iopub.status.idle": "2023-02-04T15:58:16.980422Z",
     "shell.execute_reply": "2023-02-04T15:58:16.979270Z"
    },
    "papermill": {
     "duration": 0.06416,
     "end_time": "2023-02-04T15:58:16.982875",
     "exception": false,
     "start_time": "2023-02-04T15:58:16.918715",
     "status": "completed"
    },
    "tags": []
   },
   "outputs": [
    {
     "data": {
      "text/html": [
       "<div>\n",
       "<style scoped>\n",
       "    .dataframe tbody tr th:only-of-type {\n",
       "        vertical-align: middle;\n",
       "    }\n",
       "\n",
       "    .dataframe tbody tr th {\n",
       "        vertical-align: top;\n",
       "    }\n",
       "\n",
       "    .dataframe thead th {\n",
       "        text-align: right;\n",
       "    }\n",
       "</style>\n",
       "<table border=\"1\" class=\"dataframe\">\n",
       "  <thead>\n",
       "    <tr style=\"text-align: right;\">\n",
       "      <th></th>\n",
       "      <th>age</th>\n",
       "      <th>anaemia</th>\n",
       "      <th>creatinine_phosphokinase</th>\n",
       "      <th>diabetes</th>\n",
       "      <th>ejection_fraction</th>\n",
       "      <th>high_blood_pressure</th>\n",
       "      <th>platelets</th>\n",
       "      <th>serum_creatinine</th>\n",
       "      <th>serum_sodium</th>\n",
       "      <th>sex</th>\n",
       "      <th>smoking</th>\n",
       "      <th>time</th>\n",
       "      <th>DEATH_EVENT</th>\n",
       "    </tr>\n",
       "  </thead>\n",
       "  <tbody>\n",
       "    <tr>\n",
       "      <th>0</th>\n",
       "      <td>75.0</td>\n",
       "      <td>0</td>\n",
       "      <td>582</td>\n",
       "      <td>0</td>\n",
       "      <td>20</td>\n",
       "      <td>1</td>\n",
       "      <td>265000.00</td>\n",
       "      <td>1.9</td>\n",
       "      <td>130</td>\n",
       "      <td>1</td>\n",
       "      <td>0</td>\n",
       "      <td>4</td>\n",
       "      <td>1</td>\n",
       "    </tr>\n",
       "    <tr>\n",
       "      <th>1</th>\n",
       "      <td>55.0</td>\n",
       "      <td>0</td>\n",
       "      <td>7861</td>\n",
       "      <td>0</td>\n",
       "      <td>38</td>\n",
       "      <td>0</td>\n",
       "      <td>263358.03</td>\n",
       "      <td>1.1</td>\n",
       "      <td>136</td>\n",
       "      <td>1</td>\n",
       "      <td>0</td>\n",
       "      <td>6</td>\n",
       "      <td>1</td>\n",
       "    </tr>\n",
       "    <tr>\n",
       "      <th>2</th>\n",
       "      <td>65.0</td>\n",
       "      <td>0</td>\n",
       "      <td>146</td>\n",
       "      <td>0</td>\n",
       "      <td>20</td>\n",
       "      <td>0</td>\n",
       "      <td>162000.00</td>\n",
       "      <td>1.3</td>\n",
       "      <td>129</td>\n",
       "      <td>1</td>\n",
       "      <td>1</td>\n",
       "      <td>7</td>\n",
       "      <td>1</td>\n",
       "    </tr>\n",
       "    <tr>\n",
       "      <th>3</th>\n",
       "      <td>50.0</td>\n",
       "      <td>1</td>\n",
       "      <td>111</td>\n",
       "      <td>0</td>\n",
       "      <td>20</td>\n",
       "      <td>0</td>\n",
       "      <td>210000.00</td>\n",
       "      <td>1.9</td>\n",
       "      <td>137</td>\n",
       "      <td>1</td>\n",
       "      <td>0</td>\n",
       "      <td>7</td>\n",
       "      <td>1</td>\n",
       "    </tr>\n",
       "    <tr>\n",
       "      <th>4</th>\n",
       "      <td>65.0</td>\n",
       "      <td>1</td>\n",
       "      <td>160</td>\n",
       "      <td>1</td>\n",
       "      <td>20</td>\n",
       "      <td>0</td>\n",
       "      <td>327000.00</td>\n",
       "      <td>2.7</td>\n",
       "      <td>116</td>\n",
       "      <td>0</td>\n",
       "      <td>0</td>\n",
       "      <td>8</td>\n",
       "      <td>1</td>\n",
       "    </tr>\n",
       "    <tr>\n",
       "      <th>...</th>\n",
       "      <td>...</td>\n",
       "      <td>...</td>\n",
       "      <td>...</td>\n",
       "      <td>...</td>\n",
       "      <td>...</td>\n",
       "      <td>...</td>\n",
       "      <td>...</td>\n",
       "      <td>...</td>\n",
       "      <td>...</td>\n",
       "      <td>...</td>\n",
       "      <td>...</td>\n",
       "      <td>...</td>\n",
       "      <td>...</td>\n",
       "    </tr>\n",
       "    <tr>\n",
       "      <th>294</th>\n",
       "      <td>62.0</td>\n",
       "      <td>0</td>\n",
       "      <td>61</td>\n",
       "      <td>1</td>\n",
       "      <td>38</td>\n",
       "      <td>1</td>\n",
       "      <td>155000.00</td>\n",
       "      <td>1.1</td>\n",
       "      <td>143</td>\n",
       "      <td>1</td>\n",
       "      <td>1</td>\n",
       "      <td>270</td>\n",
       "      <td>0</td>\n",
       "    </tr>\n",
       "    <tr>\n",
       "      <th>295</th>\n",
       "      <td>55.0</td>\n",
       "      <td>0</td>\n",
       "      <td>1820</td>\n",
       "      <td>0</td>\n",
       "      <td>38</td>\n",
       "      <td>0</td>\n",
       "      <td>270000.00</td>\n",
       "      <td>1.2</td>\n",
       "      <td>139</td>\n",
       "      <td>0</td>\n",
       "      <td>0</td>\n",
       "      <td>271</td>\n",
       "      <td>0</td>\n",
       "    </tr>\n",
       "    <tr>\n",
       "      <th>296</th>\n",
       "      <td>45.0</td>\n",
       "      <td>0</td>\n",
       "      <td>2060</td>\n",
       "      <td>1</td>\n",
       "      <td>60</td>\n",
       "      <td>0</td>\n",
       "      <td>742000.00</td>\n",
       "      <td>0.8</td>\n",
       "      <td>138</td>\n",
       "      <td>0</td>\n",
       "      <td>0</td>\n",
       "      <td>278</td>\n",
       "      <td>0</td>\n",
       "    </tr>\n",
       "    <tr>\n",
       "      <th>297</th>\n",
       "      <td>45.0</td>\n",
       "      <td>0</td>\n",
       "      <td>2413</td>\n",
       "      <td>0</td>\n",
       "      <td>38</td>\n",
       "      <td>0</td>\n",
       "      <td>140000.00</td>\n",
       "      <td>1.4</td>\n",
       "      <td>140</td>\n",
       "      <td>1</td>\n",
       "      <td>1</td>\n",
       "      <td>280</td>\n",
       "      <td>0</td>\n",
       "    </tr>\n",
       "    <tr>\n",
       "      <th>298</th>\n",
       "      <td>50.0</td>\n",
       "      <td>0</td>\n",
       "      <td>196</td>\n",
       "      <td>0</td>\n",
       "      <td>45</td>\n",
       "      <td>0</td>\n",
       "      <td>395000.00</td>\n",
       "      <td>1.6</td>\n",
       "      <td>136</td>\n",
       "      <td>1</td>\n",
       "      <td>1</td>\n",
       "      <td>285</td>\n",
       "      <td>0</td>\n",
       "    </tr>\n",
       "  </tbody>\n",
       "</table>\n",
       "<p>299 rows × 13 columns</p>\n",
       "</div>"
      ],
      "text/plain": [
       "      age  anaemia  creatinine_phosphokinase  diabetes  ejection_fraction  \\\n",
       "0    75.0        0                       582         0                 20   \n",
       "1    55.0        0                      7861         0                 38   \n",
       "2    65.0        0                       146         0                 20   \n",
       "3    50.0        1                       111         0                 20   \n",
       "4    65.0        1                       160         1                 20   \n",
       "..    ...      ...                       ...       ...                ...   \n",
       "294  62.0        0                        61         1                 38   \n",
       "295  55.0        0                      1820         0                 38   \n",
       "296  45.0        0                      2060         1                 60   \n",
       "297  45.0        0                      2413         0                 38   \n",
       "298  50.0        0                       196         0                 45   \n",
       "\n",
       "     high_blood_pressure  platelets  serum_creatinine  serum_sodium  sex  \\\n",
       "0                      1  265000.00               1.9           130    1   \n",
       "1                      0  263358.03               1.1           136    1   \n",
       "2                      0  162000.00               1.3           129    1   \n",
       "3                      0  210000.00               1.9           137    1   \n",
       "4                      0  327000.00               2.7           116    0   \n",
       "..                   ...        ...               ...           ...  ...   \n",
       "294                    1  155000.00               1.1           143    1   \n",
       "295                    0  270000.00               1.2           139    0   \n",
       "296                    0  742000.00               0.8           138    0   \n",
       "297                    0  140000.00               1.4           140    1   \n",
       "298                    0  395000.00               1.6           136    1   \n",
       "\n",
       "     smoking  time  DEATH_EVENT  \n",
       "0          0     4            1  \n",
       "1          0     6            1  \n",
       "2          1     7            1  \n",
       "3          0     7            1  \n",
       "4          0     8            1  \n",
       "..       ...   ...          ...  \n",
       "294        1   270            0  \n",
       "295        0   271            0  \n",
       "296        0   278            0  \n",
       "297        1   280            0  \n",
       "298        1   285            0  \n",
       "\n",
       "[299 rows x 13 columns]"
      ]
     },
     "execution_count": 3,
     "metadata": {},
     "output_type": "execute_result"
    }
   ],
   "source": [
    "df"
   ]
  },
  {
   "cell_type": "code",
   "execution_count": 4,
   "id": "614e119f",
   "metadata": {
    "execution": {
     "iopub.execute_input": "2023-02-04T15:58:17.033387Z",
     "iopub.status.busy": "2023-02-04T15:58:17.032737Z",
     "iopub.status.idle": "2023-02-04T15:58:17.088392Z",
     "shell.execute_reply": "2023-02-04T15:58:17.087274Z"
    },
    "papermill": {
     "duration": 0.084021,
     "end_time": "2023-02-04T15:58:17.090973",
     "exception": false,
     "start_time": "2023-02-04T15:58:17.006952",
     "status": "completed"
    },
    "tags": []
   },
   "outputs": [
    {
     "data": {
      "text/html": [
       "<div>\n",
       "<style scoped>\n",
       "    .dataframe tbody tr th:only-of-type {\n",
       "        vertical-align: middle;\n",
       "    }\n",
       "\n",
       "    .dataframe tbody tr th {\n",
       "        vertical-align: top;\n",
       "    }\n",
       "\n",
       "    .dataframe thead th {\n",
       "        text-align: right;\n",
       "    }\n",
       "</style>\n",
       "<table border=\"1\" class=\"dataframe\">\n",
       "  <thead>\n",
       "    <tr style=\"text-align: right;\">\n",
       "      <th></th>\n",
       "      <th>age</th>\n",
       "      <th>anaemia</th>\n",
       "      <th>creatinine_phosphokinase</th>\n",
       "      <th>diabetes</th>\n",
       "      <th>ejection_fraction</th>\n",
       "      <th>high_blood_pressure</th>\n",
       "      <th>platelets</th>\n",
       "      <th>serum_creatinine</th>\n",
       "      <th>serum_sodium</th>\n",
       "      <th>sex</th>\n",
       "      <th>smoking</th>\n",
       "      <th>time</th>\n",
       "      <th>DEATH_EVENT</th>\n",
       "    </tr>\n",
       "  </thead>\n",
       "  <tbody>\n",
       "    <tr>\n",
       "      <th>count</th>\n",
       "      <td>299.000000</td>\n",
       "      <td>299.000000</td>\n",
       "      <td>299.000000</td>\n",
       "      <td>299.000000</td>\n",
       "      <td>299.000000</td>\n",
       "      <td>299.000000</td>\n",
       "      <td>299.000000</td>\n",
       "      <td>299.00000</td>\n",
       "      <td>299.000000</td>\n",
       "      <td>299.000000</td>\n",
       "      <td>299.00000</td>\n",
       "      <td>299.000000</td>\n",
       "      <td>299.00000</td>\n",
       "    </tr>\n",
       "    <tr>\n",
       "      <th>mean</th>\n",
       "      <td>60.833893</td>\n",
       "      <td>0.431438</td>\n",
       "      <td>581.839465</td>\n",
       "      <td>0.418060</td>\n",
       "      <td>38.083612</td>\n",
       "      <td>0.351171</td>\n",
       "      <td>263358.029264</td>\n",
       "      <td>1.39388</td>\n",
       "      <td>136.625418</td>\n",
       "      <td>0.648829</td>\n",
       "      <td>0.32107</td>\n",
       "      <td>130.260870</td>\n",
       "      <td>0.32107</td>\n",
       "    </tr>\n",
       "    <tr>\n",
       "      <th>std</th>\n",
       "      <td>11.894809</td>\n",
       "      <td>0.496107</td>\n",
       "      <td>970.287881</td>\n",
       "      <td>0.494067</td>\n",
       "      <td>11.834841</td>\n",
       "      <td>0.478136</td>\n",
       "      <td>97804.236869</td>\n",
       "      <td>1.03451</td>\n",
       "      <td>4.412477</td>\n",
       "      <td>0.478136</td>\n",
       "      <td>0.46767</td>\n",
       "      <td>77.614208</td>\n",
       "      <td>0.46767</td>\n",
       "    </tr>\n",
       "    <tr>\n",
       "      <th>min</th>\n",
       "      <td>40.000000</td>\n",
       "      <td>0.000000</td>\n",
       "      <td>23.000000</td>\n",
       "      <td>0.000000</td>\n",
       "      <td>14.000000</td>\n",
       "      <td>0.000000</td>\n",
       "      <td>25100.000000</td>\n",
       "      <td>0.50000</td>\n",
       "      <td>113.000000</td>\n",
       "      <td>0.000000</td>\n",
       "      <td>0.00000</td>\n",
       "      <td>4.000000</td>\n",
       "      <td>0.00000</td>\n",
       "    </tr>\n",
       "    <tr>\n",
       "      <th>25%</th>\n",
       "      <td>51.000000</td>\n",
       "      <td>0.000000</td>\n",
       "      <td>116.500000</td>\n",
       "      <td>0.000000</td>\n",
       "      <td>30.000000</td>\n",
       "      <td>0.000000</td>\n",
       "      <td>212500.000000</td>\n",
       "      <td>0.90000</td>\n",
       "      <td>134.000000</td>\n",
       "      <td>0.000000</td>\n",
       "      <td>0.00000</td>\n",
       "      <td>73.000000</td>\n",
       "      <td>0.00000</td>\n",
       "    </tr>\n",
       "    <tr>\n",
       "      <th>50%</th>\n",
       "      <td>60.000000</td>\n",
       "      <td>0.000000</td>\n",
       "      <td>250.000000</td>\n",
       "      <td>0.000000</td>\n",
       "      <td>38.000000</td>\n",
       "      <td>0.000000</td>\n",
       "      <td>262000.000000</td>\n",
       "      <td>1.10000</td>\n",
       "      <td>137.000000</td>\n",
       "      <td>1.000000</td>\n",
       "      <td>0.00000</td>\n",
       "      <td>115.000000</td>\n",
       "      <td>0.00000</td>\n",
       "    </tr>\n",
       "    <tr>\n",
       "      <th>75%</th>\n",
       "      <td>70.000000</td>\n",
       "      <td>1.000000</td>\n",
       "      <td>582.000000</td>\n",
       "      <td>1.000000</td>\n",
       "      <td>45.000000</td>\n",
       "      <td>1.000000</td>\n",
       "      <td>303500.000000</td>\n",
       "      <td>1.40000</td>\n",
       "      <td>140.000000</td>\n",
       "      <td>1.000000</td>\n",
       "      <td>1.00000</td>\n",
       "      <td>203.000000</td>\n",
       "      <td>1.00000</td>\n",
       "    </tr>\n",
       "    <tr>\n",
       "      <th>max</th>\n",
       "      <td>95.000000</td>\n",
       "      <td>1.000000</td>\n",
       "      <td>7861.000000</td>\n",
       "      <td>1.000000</td>\n",
       "      <td>80.000000</td>\n",
       "      <td>1.000000</td>\n",
       "      <td>850000.000000</td>\n",
       "      <td>9.40000</td>\n",
       "      <td>148.000000</td>\n",
       "      <td>1.000000</td>\n",
       "      <td>1.00000</td>\n",
       "      <td>285.000000</td>\n",
       "      <td>1.00000</td>\n",
       "    </tr>\n",
       "  </tbody>\n",
       "</table>\n",
       "</div>"
      ],
      "text/plain": [
       "              age     anaemia  creatinine_phosphokinase    diabetes  \\\n",
       "count  299.000000  299.000000                299.000000  299.000000   \n",
       "mean    60.833893    0.431438                581.839465    0.418060   \n",
       "std     11.894809    0.496107                970.287881    0.494067   \n",
       "min     40.000000    0.000000                 23.000000    0.000000   \n",
       "25%     51.000000    0.000000                116.500000    0.000000   \n",
       "50%     60.000000    0.000000                250.000000    0.000000   \n",
       "75%     70.000000    1.000000                582.000000    1.000000   \n",
       "max     95.000000    1.000000               7861.000000    1.000000   \n",
       "\n",
       "       ejection_fraction  high_blood_pressure      platelets  \\\n",
       "count         299.000000           299.000000     299.000000   \n",
       "mean           38.083612             0.351171  263358.029264   \n",
       "std            11.834841             0.478136   97804.236869   \n",
       "min            14.000000             0.000000   25100.000000   \n",
       "25%            30.000000             0.000000  212500.000000   \n",
       "50%            38.000000             0.000000  262000.000000   \n",
       "75%            45.000000             1.000000  303500.000000   \n",
       "max            80.000000             1.000000  850000.000000   \n",
       "\n",
       "       serum_creatinine  serum_sodium         sex    smoking        time  \\\n",
       "count         299.00000    299.000000  299.000000  299.00000  299.000000   \n",
       "mean            1.39388    136.625418    0.648829    0.32107  130.260870   \n",
       "std             1.03451      4.412477    0.478136    0.46767   77.614208   \n",
       "min             0.50000    113.000000    0.000000    0.00000    4.000000   \n",
       "25%             0.90000    134.000000    0.000000    0.00000   73.000000   \n",
       "50%             1.10000    137.000000    1.000000    0.00000  115.000000   \n",
       "75%             1.40000    140.000000    1.000000    1.00000  203.000000   \n",
       "max             9.40000    148.000000    1.000000    1.00000  285.000000   \n",
       "\n",
       "       DEATH_EVENT  \n",
       "count    299.00000  \n",
       "mean       0.32107  \n",
       "std        0.46767  \n",
       "min        0.00000  \n",
       "25%        0.00000  \n",
       "50%        0.00000  \n",
       "75%        1.00000  \n",
       "max        1.00000  "
      ]
     },
     "execution_count": 4,
     "metadata": {},
     "output_type": "execute_result"
    }
   ],
   "source": [
    "# Checking basic stats\n",
    "df.describe()"
   ]
  },
  {
   "cell_type": "code",
   "execution_count": null,
   "id": "4499147e",
   "metadata": {
    "papermill": {
     "duration": 0.022588,
     "end_time": "2023-02-04T15:58:17.136389",
     "exception": false,
     "start_time": "2023-02-04T15:58:17.113801",
     "status": "completed"
    },
    "tags": []
   },
   "outputs": [],
   "source": []
  },
  {
   "cell_type": "code",
   "execution_count": null,
   "id": "265cdbe8",
   "metadata": {
    "papermill": {
     "duration": 0.022676,
     "end_time": "2023-02-04T15:58:17.182217",
     "exception": false,
     "start_time": "2023-02-04T15:58:17.159541",
     "status": "completed"
    },
    "tags": []
   },
   "outputs": [],
   "source": []
  },
  {
   "cell_type": "markdown",
   "id": "db101a8d",
   "metadata": {
    "papermill": {
     "duration": 0.02406,
     "end_time": "2023-02-04T15:58:17.228877",
     "exception": false,
     "start_time": "2023-02-04T15:58:17.204817",
     "status": "completed"
    },
    "tags": []
   },
   "source": []
  },
  {
   "cell_type": "code",
   "execution_count": null,
   "id": "93b5efdc",
   "metadata": {
    "papermill": {
     "duration": 0.023118,
     "end_time": "2023-02-04T15:58:17.275001",
     "exception": false,
     "start_time": "2023-02-04T15:58:17.251883",
     "status": "completed"
    },
    "tags": []
   },
   "outputs": [],
   "source": []
  },
  {
   "cell_type": "markdown",
   "id": "bee3fd64",
   "metadata": {
    "papermill": {
     "duration": 0.022415,
     "end_time": "2023-02-04T15:58:17.320525",
     "exception": false,
     "start_time": "2023-02-04T15:58:17.298110",
     "status": "completed"
    },
    "tags": []
   },
   "source": [
    "Describing the columns to gain more insights about what their values represent:\n",
    "\n",
    "Age : Indicates the age of patient\n",
    "\n",
    "Anemia: 0 =NO , 1=YES ; Anemia is when the body does not have enough red blood cells.\n",
    "\n",
    "Creatine_phosphokinase(CPK is modified version in my data) : Level of the CPK enzyme in the blood (mcg/L).\n",
    "\n",
    "Diabetes : 0=NO ,1=YES ; Fasting blood glucose level in healthy individuals is in the range of 70-100 mg / dL. If the level of sugar in the blood exceeds this range, it usually indicates diabetes.\n",
    "\n",
    "Ejection_fraction: The percentage of blood pumping into the heart. normal is 55% and above.\n",
    "\n",
    "High_blood_pressure(HBP is modified version in my data) : 0=NO, 1=YES ; Whether the patient has high blood pressure or not.\n",
    "\n",
    "Platelets: Platelet is the name given to the cells involved in the formation of blood clots. The normal value of thrombocyte in the blood is 150 thousand between 450 thousand in one mm3 of blood.\n",
    "\n",
    "Serum_creatinine : Level of Creatine produced from the kidneys in the blood.\n",
    "\n",
    "Serum_sodium : Level of serum creatinine in the blood. The normal range for sodium in the blood is 135-145 mEq / L. A situation with more than 145 millimoles of sodium in a liter of blood means that the body loses more water than it enters the body.\n",
    "\n",
    "Sex: 0=FEMALE , 1=MALE ; Gender of patient.\n",
    "\n",
    "Smoking : 0=NOT SMOKING, 1=SMOKING.\n",
    "\n",
    "Time : Follow up days.\n",
    "\n",
    "Death_event: Whether patient died during follow up period."
   ]
  },
  {
   "cell_type": "code",
   "execution_count": 5,
   "id": "255c7f19",
   "metadata": {
    "_kg_hide-input": true,
    "execution": {
     "iopub.execute_input": "2023-02-04T15:58:17.368873Z",
     "iopub.status.busy": "2023-02-04T15:58:17.368180Z",
     "iopub.status.idle": "2023-02-04T15:58:17.383990Z",
     "shell.execute_reply": "2023-02-04T15:58:17.382634Z"
    },
    "papermill": {
     "duration": 0.042862,
     "end_time": "2023-02-04T15:58:17.386517",
     "exception": false,
     "start_time": "2023-02-04T15:58:17.343655",
     "status": "completed"
    },
    "tags": []
   },
   "outputs": [
    {
     "name": "stdout",
     "output_type": "stream",
     "text": [
      "<class 'pandas.core.frame.DataFrame'>\n",
      "RangeIndex: 299 entries, 0 to 298\n",
      "Data columns (total 13 columns):\n",
      " #   Column                    Non-Null Count  Dtype  \n",
      "---  ------                    --------------  -----  \n",
      " 0   age                       299 non-null    float64\n",
      " 1   anaemia                   299 non-null    int64  \n",
      " 2   creatinine_phosphokinase  299 non-null    int64  \n",
      " 3   diabetes                  299 non-null    int64  \n",
      " 4   ejection_fraction         299 non-null    int64  \n",
      " 5   high_blood_pressure       299 non-null    int64  \n",
      " 6   platelets                 299 non-null    float64\n",
      " 7   serum_creatinine          299 non-null    float64\n",
      " 8   serum_sodium              299 non-null    int64  \n",
      " 9   sex                       299 non-null    int64  \n",
      " 10  smoking                   299 non-null    int64  \n",
      " 11  time                      299 non-null    int64  \n",
      " 12  DEATH_EVENT               299 non-null    int64  \n",
      "dtypes: float64(3), int64(10)\n",
      "memory usage: 30.5 KB\n"
     ]
    }
   ],
   "source": [
    "\n",
    "df.info()"
   ]
  },
  {
   "cell_type": "code",
   "execution_count": 6,
   "id": "d07a2413",
   "metadata": {
    "execution": {
     "iopub.execute_input": "2023-02-04T15:58:17.435853Z",
     "iopub.status.busy": "2023-02-04T15:58:17.434887Z",
     "iopub.status.idle": "2023-02-04T15:58:17.445300Z",
     "shell.execute_reply": "2023-02-04T15:58:17.444063Z"
    },
    "papermill": {
     "duration": 0.037256,
     "end_time": "2023-02-04T15:58:17.447416",
     "exception": false,
     "start_time": "2023-02-04T15:58:17.410160",
     "status": "completed"
    },
    "tags": []
   },
   "outputs": [
    {
     "data": {
      "text/plain": [
       "age                         0.0\n",
       "anaemia                     0.0\n",
       "creatinine_phosphokinase    0.0\n",
       "diabetes                    0.0\n",
       "ejection_fraction           0.0\n",
       "high_blood_pressure         0.0\n",
       "platelets                   0.0\n",
       "serum_creatinine            0.0\n",
       "serum_sodium                0.0\n",
       "sex                         0.0\n",
       "smoking                     0.0\n",
       "time                        0.0\n",
       "DEATH_EVENT                 0.0\n",
       "dtype: float64"
      ]
     },
     "execution_count": 6,
     "metadata": {},
     "output_type": "execute_result"
    }
   ],
   "source": [
    "#missing value check\n",
    "df.isna().mean() * 100 "
   ]
  },
  {
   "cell_type": "markdown",
   "id": "8a8577e6",
   "metadata": {
    "papermill": {
     "duration": 0.023489,
     "end_time": "2023-02-04T15:58:17.495058",
     "exception": false,
     "start_time": "2023-02-04T15:58:17.471569",
     "status": "completed"
    },
    "tags": []
   },
   "source": [
    "So,there is no missing value"
   ]
  },
  {
   "cell_type": "markdown",
   "id": "09ed2bf5",
   "metadata": {
    "papermill": {
     "duration": 0.022834,
     "end_time": "2023-02-04T15:58:17.541368",
     "exception": false,
     "start_time": "2023-02-04T15:58:17.518534",
     "status": "completed"
    },
    "tags": []
   },
   "source": [
    "# EDA "
   ]
  },
  {
   "cell_type": "code",
   "execution_count": 7,
   "id": "b66511c1",
   "metadata": {
    "execution": {
     "iopub.execute_input": "2023-02-04T15:58:17.590582Z",
     "iopub.status.busy": "2023-02-04T15:58:17.589887Z",
     "iopub.status.idle": "2023-02-04T15:58:17.597641Z",
     "shell.execute_reply": "2023-02-04T15:58:17.596685Z"
    },
    "papermill": {
     "duration": 0.035174,
     "end_time": "2023-02-04T15:58:17.600111",
     "exception": false,
     "start_time": "2023-02-04T15:58:17.564937",
     "status": "completed"
    },
    "tags": []
   },
   "outputs": [],
   "source": [
    "df_eda = pd.read_csv('/kaggle/input/heart-failure-clinical-data/heart_failure_clinical_records_dataset.csv')"
   ]
  },
  {
   "cell_type": "code",
   "execution_count": 8,
   "id": "22d39125",
   "metadata": {
    "execution": {
     "iopub.execute_input": "2023-02-04T15:58:17.648682Z",
     "iopub.status.busy": "2023-02-04T15:58:17.648097Z",
     "iopub.status.idle": "2023-02-04T15:58:18.702455Z",
     "shell.execute_reply": "2023-02-04T15:58:18.700824Z"
    },
    "papermill": {
     "duration": 1.082077,
     "end_time": "2023-02-04T15:58:18.705629",
     "exception": false,
     "start_time": "2023-02-04T15:58:17.623552",
     "status": "completed"
    },
    "tags": []
   },
   "outputs": [],
   "source": [
    "# importing basic libraries\n",
    "import matplotlib.pyplot as plt # for visualization\n",
    "import seaborn as sns # for visualization "
   ]
  },
  {
   "cell_type": "code",
   "execution_count": 9,
   "id": "dbc0ec94",
   "metadata": {
    "execution": {
     "iopub.execute_input": "2023-02-04T15:58:18.755574Z",
     "iopub.status.busy": "2023-02-04T15:58:18.755177Z",
     "iopub.status.idle": "2023-02-04T15:58:18.924238Z",
     "shell.execute_reply": "2023-02-04T15:58:18.923462Z"
    },
    "papermill": {
     "duration": 0.199352,
     "end_time": "2023-02-04T15:58:18.929562",
     "exception": false,
     "start_time": "2023-02-04T15:58:18.730210",
     "status": "completed"
    },
    "tags": []
   },
   "outputs": [
    {
     "data": {
      "text/plain": [
       "<AxesSubplot:xlabel='DEATH_EVENT', ylabel='count'>"
      ]
     },
     "execution_count": 9,
     "metadata": {},
     "output_type": "execute_result"
    },
    {
     "data": {
      "image/png": "[encoded data removed]",
      "text/plain": [
       "<Figure size 432x288 with 1 Axes>"
      ]
     },
     "metadata": {
      "needs_background": "light"
     },
     "output_type": "display_data"
    }
   ],
   "source": [
    "cols= [\"#6daa9f\",\"#774571\"]\n",
    "sns.countplot(x= df[\"DEATH_EVENT\"], palette= cols)"
   ]
  },
  {
   "cell_type": "markdown",
   "id": "cb21e0bb",
   "metadata": {
    "papermill": {
     "duration": 0.023504,
     "end_time": "2023-02-04T15:58:18.982282",
     "exception": false,
     "start_time": "2023-02-04T15:58:18.958778",
     "status": "completed"
    },
    "tags": []
   },
   "source": [
    "**Imbalance dataset**"
   ]
  },
  {
   "cell_type": "code",
   "execution_count": null,
   "id": "659d586b",
   "metadata": {
    "papermill": {
     "duration": 0.023041,
     "end_time": "2023-02-04T15:58:19.029649",
     "exception": false,
     "start_time": "2023-02-04T15:58:19.006608",
     "status": "completed"
    },
    "tags": []
   },
   "outputs": [],
   "source": []
  },
  {
   "cell_type": "code",
   "execution_count": 10,
   "id": "1d24af64",
   "metadata": {
    "execution": {
     "iopub.execute_input": "2023-02-04T15:58:19.079737Z",
     "iopub.status.busy": "2023-02-04T15:58:19.079179Z",
     "iopub.status.idle": "2023-02-04T15:58:19.087466Z",
     "shell.execute_reply": "2023-02-04T15:58:19.086370Z"
    },
    "papermill": {
     "duration": 0.036421,
     "end_time": "2023-02-04T15:58:19.089910",
     "exception": false,
     "start_time": "2023-02-04T15:58:19.053489",
     "status": "completed"
    },
    "tags": []
   },
   "outputs": [
    {
     "data": {
      "text/plain": [
       "Index(['age', 'anaemia', 'creatinine_phosphokinase', 'diabetes',\n",
       "       'ejection_fraction', 'high_blood_pressure', 'platelets',\n",
       "       'serum_creatinine', 'serum_sodium', 'sex', 'smoking', 'time',\n",
       "       'DEATH_EVENT'],\n",
       "      dtype='object')"
      ]
     },
     "execution_count": 10,
     "metadata": {},
     "output_type": "execute_result"
    }
   ],
   "source": [
    "df.columns"
   ]
  },
  {
   "cell_type": "code",
   "execution_count": 11,
   "id": "feda465a",
   "metadata": {
    "execution": {
     "iopub.execute_input": "2023-02-04T15:58:19.141419Z",
     "iopub.status.busy": "2023-02-04T15:58:19.141017Z",
     "iopub.status.idle": "2023-02-04T15:58:19.149044Z",
     "shell.execute_reply": "2023-02-04T15:58:19.147995Z"
    },
    "papermill": {
     "duration": 0.036598,
     "end_time": "2023-02-04T15:58:19.151707",
     "exception": false,
     "start_time": "2023-02-04T15:58:19.115109",
     "status": "completed"
    },
    "tags": []
   },
   "outputs": [],
   "source": [
    "df_eda[\"sex\"] = np.where(df[\"sex\"] < 1, \"female\", \"male\")\n",
    "df_eda[\"smoking\"] = np.where(df[\"smoking\"] < 1, \"no\", \"yes\")\n",
    "df_eda[\"death_event\"] = np.where(df[\"DEATH_EVENT\"] < 1, \"no\", \"yes\")"
   ]
  },
  {
   "cell_type": "code",
   "execution_count": null,
   "id": "077d82ec",
   "metadata": {
    "papermill": {
     "duration": 0.023164,
     "end_time": "2023-02-04T15:58:19.198809",
     "exception": false,
     "start_time": "2023-02-04T15:58:19.175645",
     "status": "completed"
    },
    "tags": []
   },
   "outputs": [],
   "source": []
  },
  {
   "cell_type": "code",
   "execution_count": null,
   "id": "9af5ef55",
   "metadata": {
    "papermill": {
     "duration": 0.022921,
     "end_time": "2023-02-04T15:58:19.245119",
     "exception": false,
     "start_time": "2023-02-04T15:58:19.222198",
     "status": "completed"
    },
    "tags": []
   },
   "outputs": [],
   "source": []
  },
  {
   "cell_type": "code",
   "execution_count": 12,
   "id": "45113af8",
   "metadata": {
    "execution": {
     "iopub.execute_input": "2023-02-04T15:58:19.294054Z",
     "iopub.status.busy": "2023-02-04T15:58:19.293404Z",
     "iopub.status.idle": "2023-02-04T15:58:19.514729Z",
     "shell.execute_reply": "2023-02-04T15:58:19.513599Z"
    },
    "papermill": {
     "duration": 0.248689,
     "end_time": "2023-02-04T15:58:19.517198",
     "exception": false,
     "start_time": "2023-02-04T15:58:19.268509",
     "status": "completed"
    },
    "tags": []
   },
   "outputs": [
    {
     "data": {
      "image/png": "[encoded data removed]",
      "text/plain": [
       "<Figure size 900x500 with 1 Axes>"
      ]
     },
     "metadata": {
      "needs_background": "light"
     },
     "output_type": "display_data"
    }
   ],
   "source": [
    "plt.figure(figsize = (18, 10), dpi = 50)\n",
    "\n",
    "sns.barplot(y = df_eda[\"smoking\"].value_counts().index,\n",
    "            x = df_eda[\"death_event\"].value_counts(),\n",
    "            data = df_eda, palette = \"Reds_r\", \n",
    "            saturation = 1,\n",
    "            orient = \"h\").set(title = \"The number of death cases and smoking\");"
   ]
  },
  {
   "cell_type": "markdown",
   "id": "b06f7175",
   "metadata": {
    "papermill": {
     "duration": 0.023366,
     "end_time": "2023-02-04T15:58:19.564333",
     "exception": false,
     "start_time": "2023-02-04T15:58:19.540967",
     "status": "completed"
    },
    "tags": []
   },
   "source": [
    "**inconsistency in smoking**"
   ]
  },
  {
   "cell_type": "code",
   "execution_count": null,
   "id": "d2c96a42",
   "metadata": {
    "papermill": {
     "duration": 0.023214,
     "end_time": "2023-02-04T15:58:19.611226",
     "exception": false,
     "start_time": "2023-02-04T15:58:19.588012",
     "status": "completed"
    },
    "tags": []
   },
   "outputs": [],
   "source": []
  },
  {
   "cell_type": "code",
   "execution_count": null,
   "id": "fd1de80a",
   "metadata": {
    "papermill": {
     "duration": 0.023725,
     "end_time": "2023-02-04T15:58:19.658517",
     "exception": false,
     "start_time": "2023-02-04T15:58:19.634792",
     "status": "completed"
    },
    "tags": []
   },
   "outputs": [],
   "source": []
  },
  {
   "cell_type": "markdown",
   "id": "d9e030eb",
   "metadata": {
    "papermill": {
     "duration": 0.023477,
     "end_time": "2023-02-04T15:58:19.705780",
     "exception": false,
     "start_time": "2023-02-04T15:58:19.682303",
     "status": "completed"
    },
    "tags": []
   },
   "source": [
    "**Outliers**"
   ]
  },
  {
   "attachments": {
    "688eca4e-f1a4-4b56-87b7-d5194800b070.png": {
     "image/png": "[encoded data removed]"
    },
    "99ff84f6-63f2-4b67-801f-5e7e32e54da1.png": {
     "image/png": "[encoded data removed]"
    }
   },
   "cell_type": "markdown",
   "id": "cf358f13",
   "metadata": {
    "papermill": {
     "duration": 0.023328,
     "end_time": "2023-02-04T15:58:19.752884",
     "exception": false,
     "start_time": "2023-02-04T15:58:19.729556",
     "status": "completed"
    },
    "tags": []
   },
   "source": [
    "![image.png](attachment:99ff84f6-63f2-4b67-801f-5e7e32e54da1.png)![download.png](attachment:688eca4e-f1a4-4b56-87b7-d5194800b070.png)"
   ]
  },
  {
   "cell_type": "code",
   "execution_count": 13,
   "id": "4a32a72e",
   "metadata": {
    "execution": {
     "iopub.execute_input": "2023-02-04T15:58:19.802640Z",
     "iopub.status.busy": "2023-02-04T15:58:19.801829Z",
     "iopub.status.idle": "2023-02-04T15:58:20.045398Z",
     "shell.execute_reply": "2023-02-04T15:58:20.044252Z"
    },
    "papermill": {
     "duration": 0.271362,
     "end_time": "2023-02-04T15:58:20.047793",
     "exception": false,
     "start_time": "2023-02-04T15:58:19.776431",
     "status": "completed"
    },
    "tags": []
   },
   "outputs": [
    {
     "data": {
      "text/plain": [
       "Text(0.5, 1.0, 'Distribution of creatinine_phosphokinase')"
      ]
     },
     "execution_count": 13,
     "metadata": {},
     "output_type": "execute_result"
    },
    {
     "data": {
      "image/png": "[encoded data removed]",
      "text/plain": [
       "<Figure size 432x288 with 1 Axes>"
      ]
     },
     "metadata": {
      "needs_background": "light"
     },
     "output_type": "display_data"
    }
   ],
   "source": [
    "plt.hist(df.creatinine_phosphokinase, color ='red',edgecolor=\"black\",bins=[0,1000,2000,3000,4000,5000,6000,7000,8000],alpha=0.4)\n",
    "plt.xlabel(\"creatinine_phosphokinase\")\n",
    "plt.ylabel(\"Number of Patients\")\n",
    "plt.title(\"Distribution of creatinine_phosphokinase\")"
   ]
  },
  {
   "cell_type": "code",
   "execution_count": 14,
   "id": "c5689148",
   "metadata": {
    "execution": {
     "iopub.execute_input": "2023-02-04T15:58:20.098129Z",
     "iopub.status.busy": "2023-02-04T15:58:20.097322Z",
     "iopub.status.idle": "2023-02-04T15:58:20.334457Z",
     "shell.execute_reply": "2023-02-04T15:58:20.333300Z"
    },
    "papermill": {
     "duration": 0.26506,
     "end_time": "2023-02-04T15:58:20.336889",
     "exception": false,
     "start_time": "2023-02-04T15:58:20.071829",
     "status": "completed"
    },
    "tags": []
   },
   "outputs": [
    {
     "data": {
      "text/plain": [
       "Text(0.5, 1.0, 'Distribution of serum_creatinine')"
      ]
     },
     "execution_count": 14,
     "metadata": {},
     "output_type": "execute_result"
    },
    {
     "data": {
      "image/png": "[encoded data removed]",
      "text/plain": [
       "<Figure size 432x288 with 1 Axes>"
      ]
     },
     "metadata": {
      "needs_background": "light"
     },
     "output_type": "display_data"
    }
   ],
   "source": [
    "\n",
    "plt.hist(df.serum_creatinine, color ='red',edgecolor=\"black\",bins=[0,1,2,3,4,5,6,7,8,9,10],alpha=0.4)\n",
    "plt.xlabel(\"serum_creatinine\")\n",
    "plt.ylabel(\"Number of Patients\")\n",
    "plt.title(\"Distribution of serum_creatinine\")"
   ]
  },
  {
   "cell_type": "code",
   "execution_count": 15,
   "id": "f7c9d694",
   "metadata": {
    "execution": {
     "iopub.execute_input": "2023-02-04T15:58:20.387800Z",
     "iopub.status.busy": "2023-02-04T15:58:20.387055Z",
     "iopub.status.idle": "2023-02-04T15:58:20.705936Z",
     "shell.execute_reply": "2023-02-04T15:58:20.704640Z"
    },
    "papermill": {
     "duration": 0.347217,
     "end_time": "2023-02-04T15:58:20.708423",
     "exception": false,
     "start_time": "2023-02-04T15:58:20.361206",
     "status": "completed"
    },
    "tags": []
   },
   "outputs": [
    {
     "data": {
      "text/plain": [
       "<AxesSubplot:title={'center':'Distribution of creatinine_phosphokinase'}, xlabel='creatinine_phosphokinase', ylabel='Count'>"
      ]
     },
     "execution_count": 15,
     "metadata": {},
     "output_type": "execute_result"
    },
    {
     "data": {
      "image/png": "[encoded data removed]",
      "text/plain": [
       "<Figure size 432x288 with 1 Axes>"
      ]
     },
     "metadata": {
      "needs_background": "light"
     },
     "output_type": "display_data"
    }
   ],
   "source": [
    "plt.title(\"Distribution of creatinine_phosphokinase\")\n",
    "sns.histplot(df.creatinine_phosphokinase, kde = True, color ='purple')"
   ]
  },
  {
   "cell_type": "code",
   "execution_count": 16,
   "id": "6b37f6d0",
   "metadata": {
    "execution": {
     "iopub.execute_input": "2023-02-04T15:58:20.761634Z",
     "iopub.status.busy": "2023-02-04T15:58:20.761262Z",
     "iopub.status.idle": "2023-02-04T15:58:21.089678Z",
     "shell.execute_reply": "2023-02-04T15:58:21.088540Z"
    },
    "papermill": {
     "duration": 0.357316,
     "end_time": "2023-02-04T15:58:21.091943",
     "exception": false,
     "start_time": "2023-02-04T15:58:20.734627",
     "status": "completed"
    },
    "tags": []
   },
   "outputs": [
    {
     "data": {
      "text/plain": [
       "<AxesSubplot:title={'center':'Distribution of serum_creatinine'}, xlabel='serum_creatinine', ylabel='Count'>"
      ]
     },
     "execution_count": 16,
     "metadata": {},
     "output_type": "execute_result"
    },
    {
     "data": {
      "image/png": "[encoded data removed]",
      "text/plain": [
       "<Figure size 432x288 with 1 Axes>"
      ]
     },
     "metadata": {
      "needs_background": "light"
     },
     "output_type": "display_data"
    }
   ],
   "source": [
    "plt.title(\"Distribution of serum_creatinine\")\n",
    "sns.histplot(df.serum_creatinine, kde = True, color ='purple')"
   ]
  },
  {
   "cell_type": "code",
   "execution_count": null,
   "id": "864059d5",
   "metadata": {
    "papermill": {
     "duration": 0.025276,
     "end_time": "2023-02-04T15:58:21.142964",
     "exception": false,
     "start_time": "2023-02-04T15:58:21.117688",
     "status": "completed"
    },
    "tags": []
   },
   "outputs": [],
   "source": []
  },
  {
   "cell_type": "code",
   "execution_count": 17,
   "id": "fd201a6d",
   "metadata": {
    "execution": {
     "iopub.execute_input": "2023-02-04T15:58:21.195344Z",
     "iopub.status.busy": "2023-02-04T15:58:21.194960Z",
     "iopub.status.idle": "2023-02-04T15:58:21.363626Z",
     "shell.execute_reply": "2023-02-04T15:58:21.362032Z"
    },
    "papermill": {
     "duration": 0.197804,
     "end_time": "2023-02-04T15:58:21.366056",
     "exception": false,
     "start_time": "2023-02-04T15:58:21.168252",
     "status": "completed"
    },
    "tags": []
   },
   "outputs": [
    {
     "name": "stderr",
     "output_type": "stream",
     "text": [
      "/opt/conda/lib/python3.7/site-packages/seaborn/_decorators.py:43: FutureWarning: Pass the following variable as a keyword arg: x. From version 0.12, the only valid positional argument will be `data`, and passing other arguments without an explicit keyword will result in an error or misinterpretation.\n",
      "  FutureWarning\n"
     ]
    },
    {
     "data": {
      "image/png": "[encoded data removed]",
      "text/plain": [
       "<Figure size 432x288 with 1 Axes>"
      ]
     },
     "metadata": {
      "needs_background": "light"
     },
     "output_type": "display_data"
    }
   ],
   "source": [
    "sns.boxplot(df.serum_creatinine,hue = df_eda[\"death_event\"]);"
   ]
  },
  {
   "cell_type": "code",
   "execution_count": 18,
   "id": "6996c153",
   "metadata": {
    "execution": {
     "iopub.execute_input": "2023-02-04T15:58:21.419357Z",
     "iopub.status.busy": "2023-02-04T15:58:21.418966Z",
     "iopub.status.idle": "2023-02-04T15:58:21.613641Z",
     "shell.execute_reply": "2023-02-04T15:58:21.611818Z"
    },
    "papermill": {
     "duration": 0.2247,
     "end_time": "2023-02-04T15:58:21.616907",
     "exception": false,
     "start_time": "2023-02-04T15:58:21.392207",
     "status": "completed"
    },
    "tags": []
   },
   "outputs": [
    {
     "name": "stderr",
     "output_type": "stream",
     "text": [
      "/opt/conda/lib/python3.7/site-packages/seaborn/_decorators.py:43: FutureWarning: Pass the following variable as a keyword arg: x. From version 0.12, the only valid positional argument will be `data`, and passing other arguments without an explicit keyword will result in an error or misinterpretation.\n",
      "  FutureWarning\n"
     ]
    },
    {
     "data": {
      "image/png": "[encoded data removed]",
      "text/plain": [
       "<Figure size 432x288 with 1 Axes>"
      ]
     },
     "metadata": {
      "needs_background": "light"
     },
     "output_type": "display_data"
    }
   ],
   "source": [
    "sns.boxplot(df.creatinine_phosphokinase,hue = df_eda[\"death_event\"]);"
   ]
  },
  {
   "cell_type": "markdown",
   "id": "6fba8a20",
   "metadata": {
    "papermill": {
     "duration": 0.025249,
     "end_time": "2023-02-04T15:58:21.668525",
     "exception": false,
     "start_time": "2023-02-04T15:58:21.643276",
     "status": "completed"
    },
    "tags": []
   },
   "source": []
  },
  {
   "cell_type": "markdown",
   "id": "001dc14e",
   "metadata": {
    "papermill": {
     "duration": 0.025257,
     "end_time": "2023-02-04T15:58:21.719401",
     "exception": false,
     "start_time": "2023-02-04T15:58:21.694144",
     "status": "completed"
    },
    "tags": []
   },
   "source": []
  },
  {
   "cell_type": "code",
   "execution_count": null,
   "id": "95bc3f75",
   "metadata": {
    "papermill": {
     "duration": 0.025332,
     "end_time": "2023-02-04T15:58:21.770268",
     "exception": false,
     "start_time": "2023-02-04T15:58:21.744936",
     "status": "completed"
    },
    "tags": []
   },
   "outputs": [],
   "source": []
  },
  {
   "cell_type": "code",
   "execution_count": null,
   "id": "f3c3cf6a",
   "metadata": {
    "papermill": {
     "duration": 0.025295,
     "end_time": "2023-02-04T15:58:21.827224",
     "exception": false,
     "start_time": "2023-02-04T15:58:21.801929",
     "status": "completed"
    },
    "tags": []
   },
   "outputs": [],
   "source": []
  },
  {
   "cell_type": "code",
   "execution_count": null,
   "id": "57637fb9",
   "metadata": {
    "papermill": {
     "duration": 0.02533,
     "end_time": "2023-02-04T15:58:21.878129",
     "exception": false,
     "start_time": "2023-02-04T15:58:21.852799",
     "status": "completed"
    },
    "tags": []
   },
   "outputs": [],
   "source": []
  },
  {
   "cell_type": "code",
   "execution_count": 19,
   "id": "8a457c55",
   "metadata": {
    "execution": {
     "iopub.execute_input": "2023-02-04T15:58:21.932913Z",
     "iopub.status.busy": "2023-02-04T15:58:21.931861Z",
     "iopub.status.idle": "2023-02-04T15:58:21.952261Z",
     "shell.execute_reply": "2023-02-04T15:58:21.951444Z"
    },
    "papermill": {
     "duration": 0.049426,
     "end_time": "2023-02-04T15:58:21.954234",
     "exception": false,
     "start_time": "2023-02-04T15:58:21.904808",
     "status": "completed"
    },
    "tags": []
   },
   "outputs": [
    {
     "data": {
      "text/html": [
       "<div>\n",
       "<style scoped>\n",
       "    .dataframe tbody tr th:only-of-type {\n",
       "        vertical-align: middle;\n",
       "    }\n",
       "\n",
       "    .dataframe tbody tr th {\n",
       "        vertical-align: top;\n",
       "    }\n",
       "\n",
       "    .dataframe thead th {\n",
       "        text-align: right;\n",
       "    }\n",
       "</style>\n",
       "<table border=\"1\" class=\"dataframe\">\n",
       "  <thead>\n",
       "    <tr style=\"text-align: right;\">\n",
       "      <th></th>\n",
       "      <th>age</th>\n",
       "      <th>anaemia</th>\n",
       "      <th>creatinine_phosphokinase</th>\n",
       "      <th>diabetes</th>\n",
       "      <th>ejection_fraction</th>\n",
       "      <th>high_blood_pressure</th>\n",
       "      <th>platelets</th>\n",
       "      <th>serum_creatinine</th>\n",
       "      <th>serum_sodium</th>\n",
       "      <th>sex</th>\n",
       "      <th>smoking</th>\n",
       "      <th>time</th>\n",
       "      <th>DEATH_EVENT</th>\n",
       "    </tr>\n",
       "  </thead>\n",
       "  <tbody>\n",
       "    <tr>\n",
       "      <th>0</th>\n",
       "      <td>75.0</td>\n",
       "      <td>0</td>\n",
       "      <td>582</td>\n",
       "      <td>0</td>\n",
       "      <td>20</td>\n",
       "      <td>1</td>\n",
       "      <td>265000.00</td>\n",
       "      <td>1.9</td>\n",
       "      <td>130</td>\n",
       "      <td>1</td>\n",
       "      <td>0</td>\n",
       "      <td>4</td>\n",
       "      <td>1</td>\n",
       "    </tr>\n",
       "    <tr>\n",
       "      <th>1</th>\n",
       "      <td>55.0</td>\n",
       "      <td>0</td>\n",
       "      <td>7861</td>\n",
       "      <td>0</td>\n",
       "      <td>38</td>\n",
       "      <td>0</td>\n",
       "      <td>263358.03</td>\n",
       "      <td>1.1</td>\n",
       "      <td>136</td>\n",
       "      <td>1</td>\n",
       "      <td>0</td>\n",
       "      <td>6</td>\n",
       "      <td>1</td>\n",
       "    </tr>\n",
       "    <tr>\n",
       "      <th>2</th>\n",
       "      <td>65.0</td>\n",
       "      <td>0</td>\n",
       "      <td>146</td>\n",
       "      <td>0</td>\n",
       "      <td>20</td>\n",
       "      <td>0</td>\n",
       "      <td>162000.00</td>\n",
       "      <td>1.3</td>\n",
       "      <td>129</td>\n",
       "      <td>1</td>\n",
       "      <td>1</td>\n",
       "      <td>7</td>\n",
       "      <td>1</td>\n",
       "    </tr>\n",
       "    <tr>\n",
       "      <th>3</th>\n",
       "      <td>50.0</td>\n",
       "      <td>1</td>\n",
       "      <td>111</td>\n",
       "      <td>0</td>\n",
       "      <td>20</td>\n",
       "      <td>0</td>\n",
       "      <td>210000.00</td>\n",
       "      <td>1.9</td>\n",
       "      <td>137</td>\n",
       "      <td>1</td>\n",
       "      <td>0</td>\n",
       "      <td>7</td>\n",
       "      <td>1</td>\n",
       "    </tr>\n",
       "    <tr>\n",
       "      <th>4</th>\n",
       "      <td>65.0</td>\n",
       "      <td>1</td>\n",
       "      <td>160</td>\n",
       "      <td>1</td>\n",
       "      <td>20</td>\n",
       "      <td>0</td>\n",
       "      <td>327000.00</td>\n",
       "      <td>2.7</td>\n",
       "      <td>116</td>\n",
       "      <td>0</td>\n",
       "      <td>0</td>\n",
       "      <td>8</td>\n",
       "      <td>1</td>\n",
       "    </tr>\n",
       "    <tr>\n",
       "      <th>...</th>\n",
       "      <td>...</td>\n",
       "      <td>...</td>\n",
       "      <td>...</td>\n",
       "      <td>...</td>\n",
       "      <td>...</td>\n",
       "      <td>...</td>\n",
       "      <td>...</td>\n",
       "      <td>...</td>\n",
       "      <td>...</td>\n",
       "      <td>...</td>\n",
       "      <td>...</td>\n",
       "      <td>...</td>\n",
       "      <td>...</td>\n",
       "    </tr>\n",
       "    <tr>\n",
       "      <th>294</th>\n",
       "      <td>62.0</td>\n",
       "      <td>0</td>\n",
       "      <td>61</td>\n",
       "      <td>1</td>\n",
       "      <td>38</td>\n",
       "      <td>1</td>\n",
       "      <td>155000.00</td>\n",
       "      <td>1.1</td>\n",
       "      <td>143</td>\n",
       "      <td>1</td>\n",
       "      <td>1</td>\n",
       "      <td>270</td>\n",
       "      <td>0</td>\n",
       "    </tr>\n",
       "    <tr>\n",
       "      <th>295</th>\n",
       "      <td>55.0</td>\n",
       "      <td>0</td>\n",
       "      <td>1820</td>\n",
       "      <td>0</td>\n",
       "      <td>38</td>\n",
       "      <td>0</td>\n",
       "      <td>270000.00</td>\n",
       "      <td>1.2</td>\n",
       "      <td>139</td>\n",
       "      <td>0</td>\n",
       "      <td>0</td>\n",
       "      <td>271</td>\n",
       "      <td>0</td>\n",
       "    </tr>\n",
       "    <tr>\n",
       "      <th>296</th>\n",
       "      <td>45.0</td>\n",
       "      <td>0</td>\n",
       "      <td>2060</td>\n",
       "      <td>1</td>\n",
       "      <td>60</td>\n",
       "      <td>0</td>\n",
       "      <td>742000.00</td>\n",
       "      <td>0.8</td>\n",
       "      <td>138</td>\n",
       "      <td>0</td>\n",
       "      <td>0</td>\n",
       "      <td>278</td>\n",
       "      <td>0</td>\n",
       "    </tr>\n",
       "    <tr>\n",
       "      <th>297</th>\n",
       "      <td>45.0</td>\n",
       "      <td>0</td>\n",
       "      <td>2413</td>\n",
       "      <td>0</td>\n",
       "      <td>38</td>\n",
       "      <td>0</td>\n",
       "      <td>140000.00</td>\n",
       "      <td>1.4</td>\n",
       "      <td>140</td>\n",
       "      <td>1</td>\n",
       "      <td>1</td>\n",
       "      <td>280</td>\n",
       "      <td>0</td>\n",
       "    </tr>\n",
       "    <tr>\n",
       "      <th>298</th>\n",
       "      <td>50.0</td>\n",
       "      <td>0</td>\n",
       "      <td>196</td>\n",
       "      <td>0</td>\n",
       "      <td>45</td>\n",
       "      <td>0</td>\n",
       "      <td>395000.00</td>\n",
       "      <td>1.6</td>\n",
       "      <td>136</td>\n",
       "      <td>1</td>\n",
       "      <td>1</td>\n",
       "      <td>285</td>\n",
       "      <td>0</td>\n",
       "    </tr>\n",
       "  </tbody>\n",
       "</table>\n",
       "<p>299 rows × 13 columns</p>\n",
       "</div>"
      ],
      "text/plain": [
       "      age  anaemia  creatinine_phosphokinase  diabetes  ejection_fraction  \\\n",
       "0    75.0        0                       582         0                 20   \n",
       "1    55.0        0                      7861         0                 38   \n",
       "2    65.0        0                       146         0                 20   \n",
       "3    50.0        1                       111         0                 20   \n",
       "4    65.0        1                       160         1                 20   \n",
       "..    ...      ...                       ...       ...                ...   \n",
       "294  62.0        0                        61         1                 38   \n",
       "295  55.0        0                      1820         0                 38   \n",
       "296  45.0        0                      2060         1                 60   \n",
       "297  45.0        0                      2413         0                 38   \n",
       "298  50.0        0                       196         0                 45   \n",
       "\n",
       "     high_blood_pressure  platelets  serum_creatinine  serum_sodium  sex  \\\n",
       "0                      1  265000.00               1.9           130    1   \n",
       "1                      0  263358.03               1.1           136    1   \n",
       "2                      0  162000.00               1.3           129    1   \n",
       "3                      0  210000.00               1.9           137    1   \n",
       "4                      0  327000.00               2.7           116    0   \n",
       "..                   ...        ...               ...           ...  ...   \n",
       "294                    1  155000.00               1.1           143    1   \n",
       "295                    0  270000.00               1.2           139    0   \n",
       "296                    0  742000.00               0.8           138    0   \n",
       "297                    0  140000.00               1.4           140    1   \n",
       "298                    0  395000.00               1.6           136    1   \n",
       "\n",
       "     smoking  time  DEATH_EVENT  \n",
       "0          0     4            1  \n",
       "1          0     6            1  \n",
       "2          1     7            1  \n",
       "3          0     7            1  \n",
       "4          0     8            1  \n",
       "..       ...   ...          ...  \n",
       "294        1   270            0  \n",
       "295        0   271            0  \n",
       "296        0   278            0  \n",
       "297        1   280            0  \n",
       "298        1   285            0  \n",
       "\n",
       "[299 rows x 13 columns]"
      ]
     },
     "execution_count": 19,
     "metadata": {},
     "output_type": "execute_result"
    }
   ],
   "source": [
    "df"
   ]
  },
  {
   "cell_type": "code",
   "execution_count": 20,
   "id": "830c4741",
   "metadata": {
    "execution": {
     "iopub.execute_input": "2023-02-04T15:58:22.009339Z",
     "iopub.status.busy": "2023-02-04T15:58:22.008464Z",
     "iopub.status.idle": "2023-02-04T15:58:22.015078Z",
     "shell.execute_reply": "2023-02-04T15:58:22.014127Z"
    },
    "papermill": {
     "duration": 0.036729,
     "end_time": "2023-02-04T15:58:22.017213",
     "exception": false,
     "start_time": "2023-02-04T15:58:21.980484",
     "status": "completed"
    },
    "tags": []
   },
   "outputs": [
    {
     "data": {
      "text/plain": [
       "(299, 13)"
      ]
     },
     "execution_count": 20,
     "metadata": {},
     "output_type": "execute_result"
    }
   ],
   "source": [
    "df.shape"
   ]
  },
  {
   "cell_type": "code",
   "execution_count": 21,
   "id": "c32ea2b4",
   "metadata": {
    "execution": {
     "iopub.execute_input": "2023-02-04T15:58:22.071951Z",
     "iopub.status.busy": "2023-02-04T15:58:22.071517Z",
     "iopub.status.idle": "2023-02-04T15:58:22.078149Z",
     "shell.execute_reply": "2023-02-04T15:58:22.077284Z"
    },
    "papermill": {
     "duration": 0.036149,
     "end_time": "2023-02-04T15:58:22.080142",
     "exception": false,
     "start_time": "2023-02-04T15:58:22.043993",
     "status": "completed"
    },
    "tags": []
   },
   "outputs": [
    {
     "data": {
      "text/plain": [
       "Index(['age', 'anaemia', 'creatinine_phosphokinase', 'diabetes',\n",
       "       'ejection_fraction', 'high_blood_pressure', 'platelets',\n",
       "       'serum_creatinine', 'serum_sodium', 'sex', 'smoking', 'time',\n",
       "       'DEATH_EVENT'],\n",
       "      dtype='object')"
      ]
     },
     "execution_count": 21,
     "metadata": {},
     "output_type": "execute_result"
    }
   ],
   "source": [
    "df.columns"
   ]
  },
  {
   "cell_type": "code",
   "execution_count": 22,
   "id": "3d516a6e",
   "metadata": {
    "execution": {
     "iopub.execute_input": "2023-02-04T15:58:22.135910Z",
     "iopub.status.busy": "2023-02-04T15:58:22.135010Z",
     "iopub.status.idle": "2023-02-04T15:58:22.141217Z",
     "shell.execute_reply": "2023-02-04T15:58:22.140410Z"
    },
    "papermill": {
     "duration": 0.036231,
     "end_time": "2023-02-04T15:58:22.143263",
     "exception": false,
     "start_time": "2023-02-04T15:58:22.107032",
     "status": "completed"
    },
    "tags": []
   },
   "outputs": [],
   "source": [
    "x=df.drop('DEATH_EVENT',axis=1)"
   ]
  },
  {
   "cell_type": "code",
   "execution_count": 23,
   "id": "bde5456e",
   "metadata": {
    "execution": {
     "iopub.execute_input": "2023-02-04T15:58:22.197725Z",
     "iopub.status.busy": "2023-02-04T15:58:22.197025Z",
     "iopub.status.idle": "2023-02-04T15:58:22.202463Z",
     "shell.execute_reply": "2023-02-04T15:58:22.201774Z"
    },
    "papermill": {
     "duration": 0.034737,
     "end_time": "2023-02-04T15:58:22.204334",
     "exception": false,
     "start_time": "2023-02-04T15:58:22.169597",
     "status": "completed"
    },
    "tags": []
   },
   "outputs": [
    {
     "data": {
      "text/plain": [
       "(299, 12)"
      ]
     },
     "execution_count": 23,
     "metadata": {},
     "output_type": "execute_result"
    }
   ],
   "source": [
    "x.shape"
   ]
  },
  {
   "cell_type": "code",
   "execution_count": 24,
   "id": "13a458f8",
   "metadata": {
    "execution": {
     "iopub.execute_input": "2023-02-04T15:58:22.259031Z",
     "iopub.status.busy": "2023-02-04T15:58:22.258350Z",
     "iopub.status.idle": "2023-02-04T15:58:22.264543Z",
     "shell.execute_reply": "2023-02-04T15:58:22.263472Z"
    },
    "papermill": {
     "duration": 0.036294,
     "end_time": "2023-02-04T15:58:22.266982",
     "exception": false,
     "start_time": "2023-02-04T15:58:22.230688",
     "status": "completed"
    },
    "tags": []
   },
   "outputs": [
    {
     "data": {
      "text/plain": [
       "Index(['age', 'anaemia', 'creatinine_phosphokinase', 'diabetes',\n",
       "       'ejection_fraction', 'high_blood_pressure', 'platelets',\n",
       "       'serum_creatinine', 'serum_sodium', 'sex', 'smoking', 'time'],\n",
       "      dtype='object')"
      ]
     },
     "execution_count": 24,
     "metadata": {},
     "output_type": "execute_result"
    }
   ],
   "source": [
    "x.columns"
   ]
  },
  {
   "cell_type": "code",
   "execution_count": 25,
   "id": "8ee2d22a",
   "metadata": {
    "execution": {
     "iopub.execute_input": "2023-02-04T15:58:22.322159Z",
     "iopub.status.busy": "2023-02-04T15:58:22.321704Z",
     "iopub.status.idle": "2023-02-04T15:58:22.327108Z",
     "shell.execute_reply": "2023-02-04T15:58:22.325705Z"
    },
    "papermill": {
     "duration": 0.036083,
     "end_time": "2023-02-04T15:58:22.329662",
     "exception": false,
     "start_time": "2023-02-04T15:58:22.293579",
     "status": "completed"
    },
    "tags": []
   },
   "outputs": [],
   "source": [
    "y=df['DEATH_EVENT']"
   ]
  },
  {
   "cell_type": "code",
   "execution_count": 26,
   "id": "0352273d",
   "metadata": {
    "execution": {
     "iopub.execute_input": "2023-02-04T15:58:22.386557Z",
     "iopub.status.busy": "2023-02-04T15:58:22.385453Z",
     "iopub.status.idle": "2023-02-04T15:58:22.392438Z",
     "shell.execute_reply": "2023-02-04T15:58:22.391582Z"
    },
    "papermill": {
     "duration": 0.037716,
     "end_time": "2023-02-04T15:58:22.394602",
     "exception": false,
     "start_time": "2023-02-04T15:58:22.356886",
     "status": "completed"
    },
    "tags": []
   },
   "outputs": [
    {
     "data": {
      "text/plain": [
       "(299,)"
      ]
     },
     "execution_count": 26,
     "metadata": {},
     "output_type": "execute_result"
    }
   ],
   "source": [
    "y.shape"
   ]
  },
  {
   "cell_type": "code",
   "execution_count": 27,
   "id": "63a9b50b",
   "metadata": {
    "execution": {
     "iopub.execute_input": "2023-02-04T15:58:22.450682Z",
     "iopub.status.busy": "2023-02-04T15:58:22.449957Z",
     "iopub.status.idle": "2023-02-04T15:58:22.457946Z",
     "shell.execute_reply": "2023-02-04T15:58:22.457067Z"
    },
    "papermill": {
     "duration": 0.038904,
     "end_time": "2023-02-04T15:58:22.460393",
     "exception": false,
     "start_time": "2023-02-04T15:58:22.421489",
     "status": "completed"
    },
    "tags": []
   },
   "outputs": [
    {
     "data": {
      "text/plain": [
       "0      1\n",
       "1      1\n",
       "2      1\n",
       "3      1\n",
       "4      1\n",
       "      ..\n",
       "294    0\n",
       "295    0\n",
       "296    0\n",
       "297    0\n",
       "298    0\n",
       "Name: DEATH_EVENT, Length: 299, dtype: int64"
      ]
     },
     "execution_count": 27,
     "metadata": {},
     "output_type": "execute_result"
    }
   ],
   "source": [
    "y"
   ]
  },
  {
   "cell_type": "markdown",
   "id": "02db555b",
   "metadata": {
    "papermill": {
     "duration": 0.027038,
     "end_time": "2023-02-04T15:58:22.514612",
     "exception": false,
     "start_time": "2023-02-04T15:58:22.487574",
     "status": "completed"
    },
    "tags": []
   },
   "source": [
    "3 types of feature selection model\n",
    "1. univariate selection\n",
    "2. feature importance\n",
    "3. correlation of features using heatmap"
   ]
  },
  {
   "cell_type": "markdown",
   "id": "684bbdf8",
   "metadata": {
    "papermill": {
     "duration": 0.026563,
     "end_time": "2023-02-04T15:58:22.568592",
     "exception": false,
     "start_time": "2023-02-04T15:58:22.542029",
     "status": "completed"
    },
    "tags": []
   },
   "source": [
    "**univariate selection**\n",
    "1. chi square : https://scikit-learn.org/stable/modules/generated/sklearn.feature_selection.chi2.html#sklearn.feature_selection.chi2\n",
    "2. f_classif : https://scikit-learn.org/stable/modules/generated/sklearn.feature_selection.f_classif.html#sklearn.feature_selection.f_classif\n",
    "3. mutual_info_classif : https://scikit-learn.org/stable/modules/generated/sklearn.feature_selection.mutual_info_classif.html#sklearn.feature_selection.mutual_info_classif\n",
    "4. f_regression : https://scikit-learn.org/stable/modules/generated/sklearn.feature_selection.f_regression.html#sklearn.feature_selection.f_regression"
   ]
  },
  {
   "cell_type": "code",
   "execution_count": 28,
   "id": "4913444d",
   "metadata": {
    "execution": {
     "iopub.execute_input": "2023-02-04T15:58:22.623328Z",
     "iopub.status.busy": "2023-02-04T15:58:22.622945Z",
     "iopub.status.idle": "2023-02-04T15:58:22.942609Z",
     "shell.execute_reply": "2023-02-04T15:58:22.941522Z"
    },
    "papermill": {
     "duration": 0.349939,
     "end_time": "2023-02-04T15:58:22.945176",
     "exception": false,
     "start_time": "2023-02-04T15:58:22.595237",
     "status": "completed"
    },
    "tags": []
   },
   "outputs": [],
   "source": [
    "from sklearn.feature_selection import SelectKBest, chi2 , f_classif ,mutual_info_classif, f_regression\n"
   ]
  },
  {
   "cell_type": "code",
   "execution_count": 29,
   "id": "69595703",
   "metadata": {
    "execution": {
     "iopub.execute_input": "2023-02-04T15:58:23.016308Z",
     "iopub.status.busy": "2023-02-04T15:58:23.015618Z",
     "iopub.status.idle": "2023-02-04T15:58:23.030662Z",
     "shell.execute_reply": "2023-02-04T15:58:23.029418Z"
    },
    "papermill": {
     "duration": 0.053884,
     "end_time": "2023-02-04T15:58:23.032863",
     "exception": false,
     "start_time": "2023-02-04T15:58:22.978979",
     "status": "completed"
    },
    "tags": []
   },
   "outputs": [
    {
     "data": {
      "text/plain": [
       "(array([4.46194546e+01, 7.46593411e-01, 1.89731484e+03, 6.56814450e-04,\n",
       "        7.90725412e+01, 1.22153853e+00, 2.61357720e+04, 1.98141177e+01,\n",
       "        1.61817451e+00, 1.95626598e-03, 3.23468288e-02, 3.82689266e+03]),\n",
       " array([2.39301981e-11, 3.87556925e-01, 0.00000000e+00, 9.79553740e-01,\n",
       "        5.98707092e-19, 2.69058926e-01, 0.00000000e+00, 8.53499495e-06,\n",
       "        2.03346514e-01, 9.64721312e-01, 8.57268569e-01, 0.00000000e+00]))"
      ]
     },
     "execution_count": 29,
     "metadata": {},
     "output_type": "execute_result"
    }
   ],
   "source": [
    "chi2(x,y)"
   ]
  },
  {
   "cell_type": "code",
   "execution_count": null,
   "id": "d0f79973",
   "metadata": {
    "papermill": {
     "duration": 0.030461,
     "end_time": "2023-02-04T15:58:23.091367",
     "exception": false,
     "start_time": "2023-02-04T15:58:23.060906",
     "status": "completed"
    },
    "tags": []
   },
   "outputs": [],
   "source": []
  },
  {
   "cell_type": "code",
   "execution_count": 30,
   "id": "2eaf8aac",
   "metadata": {
    "execution": {
     "iopub.execute_input": "2023-02-04T15:58:23.150037Z",
     "iopub.status.busy": "2023-02-04T15:58:23.149098Z",
     "iopub.status.idle": "2023-02-04T15:58:23.153226Z",
     "shell.execute_reply": "2023-02-04T15:58:23.152339Z"
    },
    "papermill": {
     "duration": 0.036179,
     "end_time": "2023-02-04T15:58:23.156014",
     "exception": false,
     "start_time": "2023-02-04T15:58:23.119835",
     "status": "completed"
    },
    "tags": []
   },
   "outputs": [],
   "source": [
    "#by default k=10"
   ]
  },
  {
   "cell_type": "code",
   "execution_count": 31,
   "id": "931e5f59",
   "metadata": {
    "execution": {
     "iopub.execute_input": "2023-02-04T15:58:23.228940Z",
     "iopub.status.busy": "2023-02-04T15:58:23.228046Z",
     "iopub.status.idle": "2023-02-04T15:58:23.239371Z",
     "shell.execute_reply": "2023-02-04T15:58:23.238343Z"
    },
    "papermill": {
     "duration": 0.052383,
     "end_time": "2023-02-04T15:58:23.241831",
     "exception": false,
     "start_time": "2023-02-04T15:58:23.189448",
     "status": "completed"
    },
    "tags": []
   },
   "outputs": [],
   "source": [
    "selection = SelectKBest(chi2).fit(x,y)\n",
    "X_new=selection.transform(x)\n"
   ]
  },
  {
   "cell_type": "code",
   "execution_count": 32,
   "id": "7abdfbfc",
   "metadata": {
    "execution": {
     "iopub.execute_input": "2023-02-04T15:58:23.299081Z",
     "iopub.status.busy": "2023-02-04T15:58:23.298410Z",
     "iopub.status.idle": "2023-02-04T15:58:23.307176Z",
     "shell.execute_reply": "2023-02-04T15:58:23.306358Z"
    },
    "papermill": {
     "duration": 0.040386,
     "end_time": "2023-02-04T15:58:23.309876",
     "exception": false,
     "start_time": "2023-02-04T15:58:23.269490",
     "status": "completed"
    },
    "tags": []
   },
   "outputs": [],
   "source": [
    "selection = SelectKBest(f_classif,k=8).fit(x,y)\n",
    "X_new=selection.transform(x)\n"
   ]
  },
  {
   "cell_type": "code",
   "execution_count": 33,
   "id": "5246e6b8",
   "metadata": {
    "execution": {
     "iopub.execute_input": "2023-02-04T15:58:23.374860Z",
     "iopub.status.busy": "2023-02-04T15:58:23.374481Z",
     "iopub.status.idle": "2023-02-04T15:58:23.416625Z",
     "shell.execute_reply": "2023-02-04T15:58:23.415807Z"
    },
    "papermill": {
     "duration": 0.07435,
     "end_time": "2023-02-04T15:58:23.418911",
     "exception": false,
     "start_time": "2023-02-04T15:58:23.344561",
     "status": "completed"
    },
    "tags": []
   },
   "outputs": [],
   "source": [
    "selection = SelectKBest(mutual_info_classif).fit(x,y)\n",
    "X_new=selection.transform(x)\n"
   ]
  },
  {
   "cell_type": "code",
   "execution_count": 34,
   "id": "e57cf50f",
   "metadata": {
    "execution": {
     "iopub.execute_input": "2023-02-04T15:58:23.476500Z",
     "iopub.status.busy": "2023-02-04T15:58:23.475363Z",
     "iopub.status.idle": "2023-02-04T15:58:23.487114Z",
     "shell.execute_reply": "2023-02-04T15:58:23.486144Z"
    },
    "papermill": {
     "duration": 0.042858,
     "end_time": "2023-02-04T15:58:23.489196",
     "exception": false,
     "start_time": "2023-02-04T15:58:23.446338",
     "status": "completed"
    },
    "tags": []
   },
   "outputs": [
    {
     "data": {
      "text/html": [
       "<div>\n",
       "<style scoped>\n",
       "    .dataframe tbody tr th:only-of-type {\n",
       "        vertical-align: middle;\n",
       "    }\n",
       "\n",
       "    .dataframe tbody tr th {\n",
       "        vertical-align: top;\n",
       "    }\n",
       "\n",
       "    .dataframe thead th {\n",
       "        text-align: right;\n",
       "    }\n",
       "</style>\n",
       "<table border=\"1\" class=\"dataframe\">\n",
       "  <thead>\n",
       "    <tr style=\"text-align: right;\">\n",
       "      <th></th>\n",
       "      <th>0</th>\n",
       "    </tr>\n",
       "  </thead>\n",
       "  <tbody>\n",
       "    <tr>\n",
       "      <th>0</th>\n",
       "      <td>0.046259</td>\n",
       "    </tr>\n",
       "    <tr>\n",
       "      <th>1</th>\n",
       "      <td>0.000000</td>\n",
       "    </tr>\n",
       "    <tr>\n",
       "      <th>2</th>\n",
       "      <td>0.012100</td>\n",
       "    </tr>\n",
       "    <tr>\n",
       "      <th>3</th>\n",
       "      <td>0.000000</td>\n",
       "    </tr>\n",
       "    <tr>\n",
       "      <th>4</th>\n",
       "      <td>0.054637</td>\n",
       "    </tr>\n",
       "    <tr>\n",
       "      <th>5</th>\n",
       "      <td>0.000000</td>\n",
       "    </tr>\n",
       "    <tr>\n",
       "      <th>6</th>\n",
       "      <td>0.000000</td>\n",
       "    </tr>\n",
       "    <tr>\n",
       "      <th>7</th>\n",
       "      <td>0.082429</td>\n",
       "    </tr>\n",
       "    <tr>\n",
       "      <th>8</th>\n",
       "      <td>0.012984</td>\n",
       "    </tr>\n",
       "    <tr>\n",
       "      <th>9</th>\n",
       "      <td>0.000000</td>\n",
       "    </tr>\n",
       "    <tr>\n",
       "      <th>10</th>\n",
       "      <td>0.011742</td>\n",
       "    </tr>\n",
       "    <tr>\n",
       "      <th>11</th>\n",
       "      <td>0.240886</td>\n",
       "    </tr>\n",
       "  </tbody>\n",
       "</table>\n",
       "</div>"
      ],
      "text/plain": [
       "           0\n",
       "0   0.046259\n",
       "1   0.000000\n",
       "2   0.012100\n",
       "3   0.000000\n",
       "4   0.054637\n",
       "5   0.000000\n",
       "6   0.000000\n",
       "7   0.082429\n",
       "8   0.012984\n",
       "9   0.000000\n",
       "10  0.011742\n",
       "11  0.240886"
      ]
     },
     "execution_count": 34,
     "metadata": {},
     "output_type": "execute_result"
    }
   ],
   "source": [
    "pd.DataFrame(selection.scores_)"
   ]
  },
  {
   "cell_type": "code",
   "execution_count": 35,
   "id": "ec8a64c5",
   "metadata": {
    "execution": {
     "iopub.execute_input": "2023-02-04T15:58:23.546633Z",
     "iopub.status.busy": "2023-02-04T15:58:23.545753Z",
     "iopub.status.idle": "2023-02-04T15:58:23.553311Z",
     "shell.execute_reply": "2023-02-04T15:58:23.552311Z"
    },
    "papermill": {
     "duration": 0.038992,
     "end_time": "2023-02-04T15:58:23.555417",
     "exception": false,
     "start_time": "2023-02-04T15:58:23.516425",
     "status": "completed"
    },
    "tags": []
   },
   "outputs": [
    {
     "data": {
      "text/plain": [
       "(299, 10)"
      ]
     },
     "execution_count": 35,
     "metadata": {},
     "output_type": "execute_result"
    }
   ],
   "source": [
    "X_new.shape"
   ]
  },
  {
   "cell_type": "code",
   "execution_count": null,
   "id": "fbc6d43d",
   "metadata": {
    "papermill": {
     "duration": 0.02727,
     "end_time": "2023-02-04T15:58:23.610644",
     "exception": false,
     "start_time": "2023-02-04T15:58:23.583374",
     "status": "completed"
    },
    "tags": []
   },
   "outputs": [],
   "source": []
  },
  {
   "cell_type": "code",
   "execution_count": null,
   "id": "aa424865",
   "metadata": {
    "papermill": {
     "duration": 0.027716,
     "end_time": "2023-02-04T15:58:23.666122",
     "exception": false,
     "start_time": "2023-02-04T15:58:23.638406",
     "status": "completed"
    },
    "tags": []
   },
   "outputs": [],
   "source": []
  },
  {
   "cell_type": "markdown",
   "id": "e10bc04a",
   "metadata": {
    "papermill": {
     "duration": 0.027573,
     "end_time": "2023-02-04T15:58:23.721220",
     "exception": false,
     "start_time": "2023-02-04T15:58:23.693647",
     "status": "completed"
    },
    "tags": []
   },
   "source": [
    "# Data Split"
   ]
  },
  {
   "cell_type": "code",
   "execution_count": 36,
   "id": "a9a2bd4b",
   "metadata": {
    "execution": {
     "iopub.execute_input": "2023-02-04T15:58:23.778377Z",
     "iopub.status.busy": "2023-02-04T15:58:23.777482Z",
     "iopub.status.idle": "2023-02-04T15:58:23.782596Z",
     "shell.execute_reply": "2023-02-04T15:58:23.781661Z"
    },
    "papermill": {
     "duration": 0.036255,
     "end_time": "2023-02-04T15:58:23.784857",
     "exception": false,
     "start_time": "2023-02-04T15:58:23.748602",
     "status": "completed"
    },
    "tags": []
   },
   "outputs": [],
   "source": [
    "from sklearn.model_selection import train_test_split # data dividation"
   ]
  },
  {
   "cell_type": "code",
   "execution_count": 37,
   "id": "11bd3378",
   "metadata": {
    "execution": {
     "iopub.execute_input": "2023-02-04T15:58:23.842854Z",
     "iopub.status.busy": "2023-02-04T15:58:23.841978Z",
     "iopub.status.idle": "2023-02-04T15:58:23.846683Z",
     "shell.execute_reply": "2023-02-04T15:58:23.845764Z"
    },
    "papermill": {
     "duration": 0.036793,
     "end_time": "2023-02-04T15:58:23.848868",
     "exception": false,
     "start_time": "2023-02-04T15:58:23.812075",
     "status": "completed"
    },
    "tags": []
   },
   "outputs": [],
   "source": [
    "#scikit learn : used for all machine learning algorithm. python build in code"
   ]
  },
  {
   "cell_type": "code",
   "execution_count": 38,
   "id": "6b54952f",
   "metadata": {
    "execution": {
     "iopub.execute_input": "2023-02-04T15:58:23.909004Z",
     "iopub.status.busy": "2023-02-04T15:58:23.908278Z",
     "iopub.status.idle": "2023-02-04T15:58:23.914568Z",
     "shell.execute_reply": "2023-02-04T15:58:23.913419Z"
    },
    "papermill": {
     "duration": 0.039829,
     "end_time": "2023-02-04T15:58:23.917066",
     "exception": false,
     "start_time": "2023-02-04T15:58:23.877237",
     "status": "completed"
    },
    "tags": []
   },
   "outputs": [],
   "source": [
    "X_train, X_test, y_train, y_test = train_test_split(x, y , test_size=0.15, \n",
    "                                                    random_state=101)"
   ]
  },
  {
   "cell_type": "code",
   "execution_count": 39,
   "id": "b783e2a0",
   "metadata": {
    "execution": {
     "iopub.execute_input": "2023-02-04T15:58:23.974941Z",
     "iopub.status.busy": "2023-02-04T15:58:23.974537Z",
     "iopub.status.idle": "2023-02-04T15:58:23.980787Z",
     "shell.execute_reply": "2023-02-04T15:58:23.980049Z"
    },
    "papermill": {
     "duration": 0.037576,
     "end_time": "2023-02-04T15:58:23.982730",
     "exception": false,
     "start_time": "2023-02-04T15:58:23.945154",
     "status": "completed"
    },
    "tags": []
   },
   "outputs": [
    {
     "data": {
      "text/plain": [
       "((254, 12), (254,))"
      ]
     },
     "execution_count": 39,
     "metadata": {},
     "output_type": "execute_result"
    }
   ],
   "source": [
    "X_train.shape,y_train.shape"
   ]
  },
  {
   "cell_type": "code",
   "execution_count": 40,
   "id": "f55824e7",
   "metadata": {
    "execution": {
     "iopub.execute_input": "2023-02-04T15:58:24.041909Z",
     "iopub.status.busy": "2023-02-04T15:58:24.040896Z",
     "iopub.status.idle": "2023-02-04T15:58:24.047781Z",
     "shell.execute_reply": "2023-02-04T15:58:24.046802Z"
    },
    "papermill": {
     "duration": 0.03863,
     "end_time": "2023-02-04T15:58:24.050060",
     "exception": false,
     "start_time": "2023-02-04T15:58:24.011430",
     "status": "completed"
    },
    "tags": []
   },
   "outputs": [
    {
     "data": {
      "text/plain": [
       "((45, 12), (45,))"
      ]
     },
     "execution_count": 40,
     "metadata": {},
     "output_type": "execute_result"
    }
   ],
   "source": [
    "X_test.shape,y_test.shape"
   ]
  },
  {
   "cell_type": "code",
   "execution_count": null,
   "id": "9a346057",
   "metadata": {
    "papermill": {
     "duration": 0.027442,
     "end_time": "2023-02-04T15:58:24.105642",
     "exception": false,
     "start_time": "2023-02-04T15:58:24.078200",
     "status": "completed"
    },
    "tags": []
   },
   "outputs": [],
   "source": []
  },
  {
   "cell_type": "markdown",
   "id": "6256b9c1",
   "metadata": {
    "papermill": {
     "duration": 0.027193,
     "end_time": "2023-02-04T15:58:24.161652",
     "exception": false,
     "start_time": "2023-02-04T15:58:24.134459",
     "status": "completed"
    },
    "tags": []
   },
   "source": [
    "# MODEL TRY"
   ]
  },
  {
   "cell_type": "code",
   "execution_count": 41,
   "id": "ca2f79be",
   "metadata": {
    "execution": {
     "iopub.execute_input": "2023-02-04T15:58:24.219987Z",
     "iopub.status.busy": "2023-02-04T15:58:24.219550Z",
     "iopub.status.idle": "2023-02-04T15:58:24.224571Z",
     "shell.execute_reply": "2023-02-04T15:58:24.223644Z"
    },
    "papermill": {
     "duration": 0.036635,
     "end_time": "2023-02-04T15:58:24.226641",
     "exception": false,
     "start_time": "2023-02-04T15:58:24.190006",
     "status": "completed"
    },
    "tags": []
   },
   "outputs": [],
   "source": [
    "from sklearn.metrics import classification_report  #classification report mainly used for comparing the value of predicted output and actual output\n",
    "from sklearn.metrics import confusion_matrix, accuracy_score , recall_score , precision_score"
   ]
  },
  {
   "cell_type": "code",
   "execution_count": 42,
   "id": "69165871",
   "metadata": {
    "execution": {
     "iopub.execute_input": "2023-02-04T15:58:24.284209Z",
     "iopub.status.busy": "2023-02-04T15:58:24.283785Z",
     "iopub.status.idle": "2023-02-04T15:58:24.288137Z",
     "shell.execute_reply": "2023-02-04T15:58:24.287301Z"
    },
    "papermill": {
     "duration": 0.035686,
     "end_time": "2023-02-04T15:58:24.290149",
     "exception": false,
     "start_time": "2023-02-04T15:58:24.254463",
     "status": "completed"
    },
    "tags": []
   },
   "outputs": [],
   "source": [
    "#wait"
   ]
  },
  {
   "cell_type": "markdown",
   "id": "8d24fbd2",
   "metadata": {
    "papermill": {
     "duration": 0.027126,
     "end_time": "2023-02-04T15:58:24.344903",
     "exception": false,
     "start_time": "2023-02-04T15:58:24.317777",
     "status": "completed"
    },
    "tags": []
   },
   "source": [
    "**Logistic regression**"
   ]
  },
  {
   "cell_type": "code",
   "execution_count": 43,
   "id": "bb5e6c85",
   "metadata": {
    "execution": {
     "iopub.execute_input": "2023-02-04T15:58:24.402496Z",
     "iopub.status.busy": "2023-02-04T15:58:24.401864Z",
     "iopub.status.idle": "2023-02-04T15:58:24.405986Z",
     "shell.execute_reply": "2023-02-04T15:58:24.405176Z"
    },
    "papermill": {
     "duration": 0.035558,
     "end_time": "2023-02-04T15:58:24.408048",
     "exception": false,
     "start_time": "2023-02-04T15:58:24.372490",
     "status": "completed"
    },
    "tags": []
   },
   "outputs": [],
   "source": [
    "from sklearn.linear_model import LogisticRegression"
   ]
  },
  {
   "cell_type": "code",
   "execution_count": 44,
   "id": "f36eea8b",
   "metadata": {
    "execution": {
     "iopub.execute_input": "2023-02-04T15:58:24.466014Z",
     "iopub.status.busy": "2023-02-04T15:58:24.465341Z",
     "iopub.status.idle": "2023-02-04T15:58:24.469652Z",
     "shell.execute_reply": "2023-02-04T15:58:24.468857Z"
    },
    "papermill": {
     "duration": 0.035738,
     "end_time": "2023-02-04T15:58:24.471891",
     "exception": false,
     "start_time": "2023-02-04T15:58:24.436153",
     "status": "completed"
    },
    "tags": []
   },
   "outputs": [],
   "source": [
    "model1 = LogisticRegression()"
   ]
  },
  {
   "cell_type": "code",
   "execution_count": null,
   "id": "a082c2a9",
   "metadata": {
    "papermill": {
     "duration": 0.027536,
     "end_time": "2023-02-04T15:58:24.527546",
     "exception": false,
     "start_time": "2023-02-04T15:58:24.500010",
     "status": "completed"
    },
    "tags": []
   },
   "outputs": [],
   "source": []
  },
  {
   "cell_type": "markdown",
   "id": "f339efc0",
   "metadata": {
    "papermill": {
     "duration": 0.027708,
     "end_time": "2023-02-04T15:58:24.582731",
     "exception": false,
     "start_time": "2023-02-04T15:58:24.555023",
     "status": "completed"
    },
    "tags": []
   },
   "source": [
    "**Simple SVM**"
   ]
  },
  {
   "cell_type": "code",
   "execution_count": 45,
   "id": "523fbda6",
   "metadata": {
    "execution": {
     "iopub.execute_input": "2023-02-04T15:58:24.640009Z",
     "iopub.status.busy": "2023-02-04T15:58:24.639277Z",
     "iopub.status.idle": "2023-02-04T15:58:24.643440Z",
     "shell.execute_reply": "2023-02-04T15:58:24.642702Z"
    },
    "papermill": {
     "duration": 0.03521,
     "end_time": "2023-02-04T15:58:24.645444",
     "exception": false,
     "start_time": "2023-02-04T15:58:24.610234",
     "status": "completed"
    },
    "tags": []
   },
   "outputs": [],
   "source": [
    "from sklearn.svm import SVC"
   ]
  },
  {
   "cell_type": "code",
   "execution_count": 46,
   "id": "0316697d",
   "metadata": {
    "execution": {
     "iopub.execute_input": "2023-02-04T15:58:24.703549Z",
     "iopub.status.busy": "2023-02-04T15:58:24.702863Z",
     "iopub.status.idle": "2023-02-04T15:58:24.706917Z",
     "shell.execute_reply": "2023-02-04T15:58:24.706195Z"
    },
    "papermill": {
     "duration": 0.035393,
     "end_time": "2023-02-04T15:58:24.708874",
     "exception": false,
     "start_time": "2023-02-04T15:58:24.673481",
     "status": "completed"
    },
    "tags": []
   },
   "outputs": [],
   "source": [
    "model2 = SVC()"
   ]
  },
  {
   "cell_type": "markdown",
   "id": "f0e9d248",
   "metadata": {
    "papermill": {
     "duration": 0.027234,
     "end_time": "2023-02-04T15:58:24.763955",
     "exception": false,
     "start_time": "2023-02-04T15:58:24.736721",
     "status": "completed"
    },
    "tags": []
   },
   "source": [
    "**KNN**"
   ]
  },
  {
   "cell_type": "code",
   "execution_count": 47,
   "id": "989d52e0",
   "metadata": {
    "execution": {
     "iopub.execute_input": "2023-02-04T15:58:24.821656Z",
     "iopub.status.busy": "2023-02-04T15:58:24.820977Z",
     "iopub.status.idle": "2023-02-04T15:58:24.825982Z",
     "shell.execute_reply": "2023-02-04T15:58:24.824935Z"
    },
    "papermill": {
     "duration": 0.036698,
     "end_time": "2023-02-04T15:58:24.828517",
     "exception": false,
     "start_time": "2023-02-04T15:58:24.791819",
     "status": "completed"
    },
    "tags": []
   },
   "outputs": [],
   "source": [
    "from sklearn.neighbors import KNeighborsClassifier"
   ]
  },
  {
   "cell_type": "code",
   "execution_count": 48,
   "id": "b0109ceb",
   "metadata": {
    "execution": {
     "iopub.execute_input": "2023-02-04T15:58:24.886368Z",
     "iopub.status.busy": "2023-02-04T15:58:24.885949Z",
     "iopub.status.idle": "2023-02-04T15:58:24.890669Z",
     "shell.execute_reply": "2023-02-04T15:58:24.889785Z"
    },
    "papermill": {
     "duration": 0.036088,
     "end_time": "2023-02-04T15:58:24.892642",
     "exception": false,
     "start_time": "2023-02-04T15:58:24.856554",
     "status": "completed"
    },
    "tags": []
   },
   "outputs": [],
   "source": [
    "model3 = KNeighborsClassifier(n_neighbors=6)"
   ]
  },
  {
   "cell_type": "code",
   "execution_count": null,
   "id": "65b0c396",
   "metadata": {
    "papermill": {
     "duration": 0.027842,
     "end_time": "2023-02-04T15:58:24.948660",
     "exception": false,
     "start_time": "2023-02-04T15:58:24.920818",
     "status": "completed"
    },
    "tags": []
   },
   "outputs": [],
   "source": []
  },
  {
   "cell_type": "markdown",
   "id": "cf89744d",
   "metadata": {
    "papermill": {
     "duration": 0.027323,
     "end_time": "2023-02-04T15:58:25.004587",
     "exception": false,
     "start_time": "2023-02-04T15:58:24.977264",
     "status": "completed"
    },
    "tags": []
   },
   "source": [
    "**Decision Tree**"
   ]
  },
  {
   "cell_type": "code",
   "execution_count": 49,
   "id": "20a89860",
   "metadata": {
    "execution": {
     "iopub.execute_input": "2023-02-04T15:58:25.062319Z",
     "iopub.status.busy": "2023-02-04T15:58:25.061419Z",
     "iopub.status.idle": "2023-02-04T15:58:25.092026Z",
     "shell.execute_reply": "2023-02-04T15:58:25.091086Z"
    },
    "papermill": {
     "duration": 0.062508,
     "end_time": "2023-02-04T15:58:25.094621",
     "exception": false,
     "start_time": "2023-02-04T15:58:25.032113",
     "status": "completed"
    },
    "tags": []
   },
   "outputs": [],
   "source": [
    "from sklearn.tree import DecisionTreeClassifier"
   ]
  },
  {
   "cell_type": "code",
   "execution_count": 50,
   "id": "d31e2b37",
   "metadata": {
    "execution": {
     "iopub.execute_input": "2023-02-04T15:58:25.153475Z",
     "iopub.status.busy": "2023-02-04T15:58:25.152788Z",
     "iopub.status.idle": "2023-02-04T15:58:25.157121Z",
     "shell.execute_reply": "2023-02-04T15:58:25.156390Z"
    },
    "papermill": {
     "duration": 0.036469,
     "end_time": "2023-02-04T15:58:25.159219",
     "exception": false,
     "start_time": "2023-02-04T15:58:25.122750",
     "status": "completed"
    },
    "tags": []
   },
   "outputs": [],
   "source": [
    "model4 = DecisionTreeClassifier(max_leaf_nodes=3, random_state=0, criterion='entropy')"
   ]
  },
  {
   "cell_type": "markdown",
   "id": "455d1b8a",
   "metadata": {
    "papermill": {
     "duration": 0.027855,
     "end_time": "2023-02-04T15:58:25.216109",
     "exception": false,
     "start_time": "2023-02-04T15:58:25.188254",
     "status": "completed"
    },
    "tags": []
   },
   "source": [
    "**Random forest**"
   ]
  },
  {
   "cell_type": "code",
   "execution_count": 51,
   "id": "89efaa90",
   "metadata": {
    "execution": {
     "iopub.execute_input": "2023-02-04T15:58:25.275420Z",
     "iopub.status.busy": "2023-02-04T15:58:25.274686Z",
     "iopub.status.idle": "2023-02-04T15:58:25.340214Z",
     "shell.execute_reply": "2023-02-04T15:58:25.338882Z"
    },
    "papermill": {
     "duration": 0.097249,
     "end_time": "2023-02-04T15:58:25.342788",
     "exception": false,
     "start_time": "2023-02-04T15:58:25.245539",
     "status": "completed"
    },
    "tags": []
   },
   "outputs": [],
   "source": [
    "from sklearn.ensemble import RandomForestClassifier"
   ]
  },
  {
   "cell_type": "code",
   "execution_count": 52,
   "id": "04c500a9",
   "metadata": {
    "execution": {
     "iopub.execute_input": "2023-02-04T15:58:25.399891Z",
     "iopub.status.busy": "2023-02-04T15:58:25.399483Z",
     "iopub.status.idle": "2023-02-04T15:58:25.404284Z",
     "shell.execute_reply": "2023-02-04T15:58:25.403547Z"
    },
    "papermill": {
     "duration": 0.035748,
     "end_time": "2023-02-04T15:58:25.406197",
     "exception": false,
     "start_time": "2023-02-04T15:58:25.370449",
     "status": "completed"
    },
    "tags": []
   },
   "outputs": [],
   "source": [
    "model5 = RandomForestClassifier(max_features=0.5, max_depth=15, random_state=1)"
   ]
  },
  {
   "cell_type": "code",
   "execution_count": null,
   "id": "cbb58e75",
   "metadata": {
    "papermill": {
     "duration": 0.027083,
     "end_time": "2023-02-04T15:58:25.461303",
     "exception": false,
     "start_time": "2023-02-04T15:58:25.434220",
     "status": "completed"
    },
    "tags": []
   },
   "outputs": [],
   "source": []
  },
  {
   "cell_type": "markdown",
   "id": "af8fd94d",
   "metadata": {
    "papermill": {
     "duration": 0.027312,
     "end_time": "2023-02-04T15:58:25.516595",
     "exception": false,
     "start_time": "2023-02-04T15:58:25.489283",
     "status": "completed"
    },
    "tags": []
   },
   "source": [
    "**voting classifier**"
   ]
  },
  {
   "cell_type": "code",
   "execution_count": 53,
   "id": "40a59241",
   "metadata": {
    "execution": {
     "iopub.execute_input": "2023-02-04T15:58:25.573113Z",
     "iopub.status.busy": "2023-02-04T15:58:25.572660Z",
     "iopub.status.idle": "2023-02-04T15:58:25.576600Z",
     "shell.execute_reply": "2023-02-04T15:58:25.575900Z"
    },
    "papermill": {
     "duration": 0.034717,
     "end_time": "2023-02-04T15:58:25.578691",
     "exception": false,
     "start_time": "2023-02-04T15:58:25.543974",
     "status": "completed"
    },
    "tags": []
   },
   "outputs": [],
   "source": [
    "from sklearn.ensemble import VotingClassifier"
   ]
  },
  {
   "cell_type": "code",
   "execution_count": 54,
   "id": "2033a552",
   "metadata": {
    "execution": {
     "iopub.execute_input": "2023-02-04T15:58:25.637350Z",
     "iopub.status.busy": "2023-02-04T15:58:25.636940Z",
     "iopub.status.idle": "2023-02-04T15:58:25.642791Z",
     "shell.execute_reply": "2023-02-04T15:58:25.641733Z"
    },
    "papermill": {
     "duration": 0.038158,
     "end_time": "2023-02-04T15:58:25.645343",
     "exception": false,
     "start_time": "2023-02-04T15:58:25.607185",
     "status": "completed"
    },
    "tags": []
   },
   "outputs": [],
   "source": [
    "estimator = [] \n",
    "estimator.append(('LR', model1))  \n",
    "estimator.append(('KNN', model3)) \n",
    "estimator.append(('DT', model4)) \n",
    "estimator.append(('RF', model5)) "
   ]
  },
  {
   "cell_type": "code",
   "execution_count": 55,
   "id": "d02fd571",
   "metadata": {
    "execution": {
     "iopub.execute_input": "2023-02-04T15:58:25.704347Z",
     "iopub.status.busy": "2023-02-04T15:58:25.703322Z",
     "iopub.status.idle": "2023-02-04T15:58:25.708183Z",
     "shell.execute_reply": "2023-02-04T15:58:25.707386Z"
    },
    "papermill": {
     "duration": 0.036965,
     "end_time": "2023-02-04T15:58:25.710292",
     "exception": false,
     "start_time": "2023-02-04T15:58:25.673327",
     "status": "completed"
    },
    "tags": []
   },
   "outputs": [],
   "source": [
    "model = VotingClassifier(estimators = estimator, voting ='hard') \n"
   ]
  },
  {
   "cell_type": "markdown",
   "id": "0b7e2b16",
   "metadata": {
    "papermill": {
     "duration": 0.027177,
     "end_time": "2023-02-04T15:58:25.764898",
     "exception": false,
     "start_time": "2023-02-04T15:58:25.737721",
     "status": "completed"
    },
    "tags": []
   },
   "source": [
    "# Output Analysis"
   ]
  },
  {
   "cell_type": "code",
   "execution_count": 56,
   "id": "34d951e2",
   "metadata": {
    "execution": {
     "iopub.execute_input": "2023-02-04T15:58:25.822628Z",
     "iopub.status.busy": "2023-02-04T15:58:25.821971Z",
     "iopub.status.idle": "2023-02-04T15:58:26.039971Z",
     "shell.execute_reply": "2023-02-04T15:58:26.038337Z"
    },
    "papermill": {
     "duration": 0.249293,
     "end_time": "2023-02-04T15:58:26.042675",
     "exception": false,
     "start_time": "2023-02-04T15:58:25.793382",
     "status": "completed"
    },
    "tags": []
   },
   "outputs": [
    {
     "name": "stderr",
     "output_type": "stream",
     "text": [
      "/opt/conda/lib/python3.7/site-packages/sklearn/linear_model/_logistic.py:818: ConvergenceWarning: lbfgs failed to converge (status=1):\n",
      "STOP: TOTAL NO. of ITERATIONS REACHED LIMIT.\n",
      "\n",
      "Increase the number of iterations (max_iter) or scale the data as shown in:\n",
      "    https://scikit-learn.org/stable/modules/preprocessing.html\n",
      "Please also refer to the documentation for alternative solver options:\n",
      "    https://scikit-learn.org/stable/modules/linear_model.html#logistic-regression\n",
      "  extra_warning_msg=_LOGISTIC_SOLVER_CONVERGENCE_MSG,\n"
     ]
    },
    {
     "data": {
      "text/plain": [
       "VotingClassifier(estimators=[('LR', LogisticRegression()),\n",
       "                             ('KNN', KNeighborsClassifier(n_neighbors=6)),\n",
       "                             ('DT',\n",
       "                              DecisionTreeClassifier(criterion='entropy',\n",
       "                                                     max_leaf_nodes=3,\n",
       "                                                     random_state=0)),\n",
       "                             ('RF',\n",
       "                              RandomForestClassifier(max_depth=15,\n",
       "                                                     max_features=0.5,\n",
       "                                                     random_state=1))])"
      ]
     },
     "execution_count": 56,
     "metadata": {},
     "output_type": "execute_result"
    }
   ],
   "source": [
    "model.fit(X_train,y_train)"
   ]
  },
  {
   "cell_type": "code",
   "execution_count": 57,
   "id": "e151d9ec",
   "metadata": {
    "execution": {
     "iopub.execute_input": "2023-02-04T15:58:26.100826Z",
     "iopub.status.busy": "2023-02-04T15:58:26.099708Z",
     "iopub.status.idle": "2023-02-04T15:58:26.124900Z",
     "shell.execute_reply": "2023-02-04T15:58:26.123808Z"
    },
    "papermill": {
     "duration": 0.056943,
     "end_time": "2023-02-04T15:58:26.127558",
     "exception": false,
     "start_time": "2023-02-04T15:58:26.070615",
     "status": "completed"
    },
    "tags": []
   },
   "outputs": [],
   "source": [
    "predictions = model.predict(X_test)"
   ]
  },
  {
   "cell_type": "code",
   "execution_count": 58,
   "id": "2e8e98f4",
   "metadata": {
    "execution": {
     "iopub.execute_input": "2023-02-04T15:58:26.184610Z",
     "iopub.status.busy": "2023-02-04T15:58:26.184192Z",
     "iopub.status.idle": "2023-02-04T15:58:26.196996Z",
     "shell.execute_reply": "2023-02-04T15:58:26.195211Z"
    },
    "papermill": {
     "duration": 0.044135,
     "end_time": "2023-02-04T15:58:26.199423",
     "exception": false,
     "start_time": "2023-02-04T15:58:26.155288",
     "status": "completed"
    },
    "tags": []
   },
   "outputs": [
    {
     "name": "stdout",
     "output_type": "stream",
     "text": [
      "              precision    recall  f1-score   support\n",
      "\n",
      "           0       0.92      1.00      0.96        33\n",
      "           1       1.00      0.75      0.86        12\n",
      "\n",
      "    accuracy                           0.93        45\n",
      "   macro avg       0.96      0.88      0.91        45\n",
      "weighted avg       0.94      0.93      0.93        45\n",
      "\n"
     ]
    }
   ],
   "source": [
    "print(classification_report(y_test,predictions))"
   ]
  },
  {
   "cell_type": "code",
   "execution_count": null,
   "id": "85ef0b14",
   "metadata": {
    "papermill": {
     "duration": 0.03861,
     "end_time": "2023-02-04T15:58:26.268111",
     "exception": false,
     "start_time": "2023-02-04T15:58:26.229501",
     "status": "completed"
    },
    "tags": []
   },
   "outputs": [],
   "source": []
  },
  {
   "cell_type": "code",
   "execution_count": 59,
   "id": "d32b9aa8",
   "metadata": {
    "execution": {
     "iopub.execute_input": "2023-02-04T15:58:26.329998Z",
     "iopub.status.busy": "2023-02-04T15:58:26.328730Z",
     "iopub.status.idle": "2023-02-04T15:58:26.335216Z",
     "shell.execute_reply": "2023-02-04T15:58:26.334183Z"
    },
    "papermill": {
     "duration": 0.038641,
     "end_time": "2023-02-04T15:58:26.337446",
     "exception": false,
     "start_time": "2023-02-04T15:58:26.298805",
     "status": "completed"
    },
    "tags": []
   },
   "outputs": [],
   "source": [
    "acc = accuracy_score(y_test, predictions)\n"
   ]
  },
  {
   "cell_type": "code",
   "execution_count": 60,
   "id": "cc5cbc04",
   "metadata": {
    "execution": {
     "iopub.execute_input": "2023-02-04T15:58:26.398105Z",
     "iopub.status.busy": "2023-02-04T15:58:26.397649Z",
     "iopub.status.idle": "2023-02-04T15:58:26.404521Z",
     "shell.execute_reply": "2023-02-04T15:58:26.403649Z"
    },
    "papermill": {
     "duration": 0.038197,
     "end_time": "2023-02-04T15:58:26.406684",
     "exception": false,
     "start_time": "2023-02-04T15:58:26.368487",
     "status": "completed"
    },
    "tags": []
   },
   "outputs": [
    {
     "data": {
      "text/plain": [
       "0.9333333333333333"
      ]
     },
     "execution_count": 60,
     "metadata": {},
     "output_type": "execute_result"
    }
   ],
   "source": [
    "acc"
   ]
  },
  {
   "cell_type": "code",
   "execution_count": 61,
   "id": "e13724d9",
   "metadata": {
    "execution": {
     "iopub.execute_input": "2023-02-04T15:58:26.465000Z",
     "iopub.status.busy": "2023-02-04T15:58:26.464243Z",
     "iopub.status.idle": "2023-02-04T15:58:26.473200Z",
     "shell.execute_reply": "2023-02-04T15:58:26.472145Z"
    },
    "papermill": {
     "duration": 0.040585,
     "end_time": "2023-02-04T15:58:26.475367",
     "exception": false,
     "start_time": "2023-02-04T15:58:26.434782",
     "status": "completed"
    },
    "tags": []
   },
   "outputs": [
    {
     "data": {
      "text/plain": [
       "0.75"
      ]
     },
     "execution_count": 61,
     "metadata": {},
     "output_type": "execute_result"
    }
   ],
   "source": [
    "recall = recall_score(y_test, predictions)\n",
    "recall\n"
   ]
  },
  {
   "cell_type": "code",
   "execution_count": 62,
   "id": "daa5f61d",
   "metadata": {
    "execution": {
     "iopub.execute_input": "2023-02-04T15:58:26.534833Z",
     "iopub.status.busy": "2023-02-04T15:58:26.534214Z",
     "iopub.status.idle": "2023-02-04T15:58:26.542281Z",
     "shell.execute_reply": "2023-02-04T15:58:26.541330Z"
    },
    "papermill": {
     "duration": 0.039978,
     "end_time": "2023-02-04T15:58:26.544390",
     "exception": false,
     "start_time": "2023-02-04T15:58:26.504412",
     "status": "completed"
    },
    "tags": []
   },
   "outputs": [
    {
     "data": {
      "text/plain": [
       "1.0"
      ]
     },
     "execution_count": 62,
     "metadata": {},
     "output_type": "execute_result"
    }
   ],
   "source": [
    "precision = precision_score(y_test, predictions)\n",
    "precision"
   ]
  },
  {
   "cell_type": "code",
   "execution_count": null,
   "id": "5d58bb2d",
   "metadata": {
    "papermill": {
     "duration": 0.027631,
     "end_time": "2023-02-04T15:58:26.600040",
     "exception": false,
     "start_time": "2023-02-04T15:58:26.572409",
     "status": "completed"
    },
    "tags": []
   },
   "outputs": [],
   "source": []
  },
  {
   "cell_type": "code",
   "execution_count": null,
   "id": "9574104b",
   "metadata": {
    "papermill": {
     "duration": 0.027657,
     "end_time": "2023-02-04T15:58:26.655434",
     "exception": false,
     "start_time": "2023-02-04T15:58:26.627777",
     "status": "completed"
    },
    "tags": []
   },
   "outputs": [],
   "source": []
  }
 ],
 "metadata": {
  "kernelspec": {
   "display_name": "Python 3",
   "language": "python",
   "name": "python3"
  },
  "language_info": {
   "codemirror_mode": {
    "name": "ipython",
    "version": 3
   },
   "file_extension": ".py",
   "mimetype": "text/x-python",
   "name": "python",
   "nbconvert_exporter": "python",
   "pygments_lexer": "ipython3",
   "version": "3.7.12"
  },
  "papermill": {
   "default_parameters": {},
   "duration": 19.304882,
   "end_time": "2023-02-04T15:58:27.504681",
   "environment_variables": {},
   "exception": null,
   "input_path": "__notebook__.ipynb",
   "output_path": "__notebook__.ipynb",
   "parameters": {},
   "start_time": "2023-02-04T15:58:08.199799",
   "version": "2.3.4"
  }
 },
 "nbformat": 4,
 "nbformat_minor": 5
}
